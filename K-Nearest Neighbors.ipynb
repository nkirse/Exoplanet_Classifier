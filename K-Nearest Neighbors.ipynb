{
 "cells": [
  {
   "cell_type": "markdown",
   "metadata": {},
   "source": [
    "Name: Laura-Jane Beardsley"
   ]
  },
  {
   "cell_type": "markdown",
   "metadata": {},
   "source": [
    "# K-Nearest Neighbors Classifier"
   ]
  },
  {
   "cell_type": "code",
   "execution_count": 1,
   "metadata": {
    "ExecuteTime": {
     "end_time": "2019-05-01T00:48:13.167131Z",
     "start_time": "2019-05-01T00:48:12.407221Z"
    }
   },
   "outputs": [],
   "source": [
    "import pandas as pd \n",
    "import numpy as np\n",
    "import matplotlib.pyplot as plt"
   ]
  },
  {
   "cell_type": "markdown",
   "metadata": {},
   "source": [
    "Import the reduced data set obtained after feature importance was performed.\n",
    "\n",
    "Dropped the unnecessary index column 'Unamed: 0'."
   ]
  },
  {
   "cell_type": "code",
   "execution_count": 2,
   "metadata": {
    "ExecuteTime": {
     "end_time": "2019-05-01T00:48:14.480193Z",
     "start_time": "2019-05-01T00:48:14.423015Z"
    }
   },
   "outputs": [
    {
     "data": {
      "text/html": [
       "<div>\n",
       "<style scoped>\n",
       "    .dataframe tbody tr th:only-of-type {\n",
       "        vertical-align: middle;\n",
       "    }\n",
       "\n",
       "    .dataframe tbody tr th {\n",
       "        vertical-align: top;\n",
       "    }\n",
       "\n",
       "    .dataframe thead th {\n",
       "        text-align: right;\n",
       "    }\n",
       "</style>\n",
       "<table border=\"1\" class=\"dataframe\">\n",
       "  <thead>\n",
       "    <tr style=\"text-align: right;\">\n",
       "      <th></th>\n",
       "      <th>PRF Δθ&lt;sub&gt;SQ&lt;/sub&gt;(KIC) [arcsec]</th>\n",
       "      <th>Number of Planets</th>\n",
       "      <th>Planet-Star Radius Ratio</th>\n",
       "      <th>Planetary Radius [Earth radii]</th>\n",
       "      <th>PRF Δθ&lt;sub&gt;SQ&lt;/sub&gt;(OOT) [arcsec]</th>\n",
       "      <th>Maximum Multiple Event Statistic</th>\n",
       "      <th>FW Offset Significance [percent]</th>\n",
       "      <th>Planet-Star Distance over Star Radius</th>\n",
       "      <th>Transit Depth [ppm]</th>\n",
       "      <th>Transit Signal-to-Noise</th>\n",
       "      <th>Inclination [deg]</th>\n",
       "      <th>Equilibrium Temperature [K]</th>\n",
       "      <th>Impact Parameter</th>\n",
       "      <th>Number of Transits</th>\n",
       "      <th>Stellar Metallicity [dex]</th>\n",
       "      <th>FW Source Δα(OOT) [sec]</th>\n",
       "      <th>Transit Duration [hrs]</th>\n",
       "      <th>FW Source Δδ(OOT) [arcsec]</th>\n",
       "      <th>Maximum Single Event Statistic</th>\n",
       "      <th>Fitted Stellar Density [g/cm**3]</th>\n",
       "      <th>Orbit Semi-Major Axis [AU]</th>\n",
       "      <th>Orbital Period [days]</th>\n",
       "      <th>Insolation Flux [Earth flux]</th>\n",
       "      <th>Exoplanet Archive Disposition</th>\n",
       "    </tr>\n",
       "  </thead>\n",
       "  <tbody>\n",
       "    <tr>\n",
       "      <th>0</th>\n",
       "      <td>0.320</td>\n",
       "      <td>2</td>\n",
       "      <td>0.022344</td>\n",
       "      <td>2.26</td>\n",
       "      <td>0.200</td>\n",
       "      <td>28.470820</td>\n",
       "      <td>0.002</td>\n",
       "      <td>24.810</td>\n",
       "      <td>615.8</td>\n",
       "      <td>35.8</td>\n",
       "      <td>89.66</td>\n",
       "      <td>793.0</td>\n",
       "      <td>0.146</td>\n",
       "      <td>142.0</td>\n",
       "      <td>0.14</td>\n",
       "      <td>0.430</td>\n",
       "      <td>2.95750</td>\n",
       "      <td>0.940</td>\n",
       "      <td>5.135849</td>\n",
       "      <td>3.20796</td>\n",
       "      <td>0.0853</td>\n",
       "      <td>9.488036</td>\n",
       "      <td>93.59</td>\n",
       "      <td>CONFIRMED</td>\n",
       "    </tr>\n",
       "    <tr>\n",
       "      <th>1</th>\n",
       "      <td>0.500</td>\n",
       "      <td>2</td>\n",
       "      <td>0.027954</td>\n",
       "      <td>2.83</td>\n",
       "      <td>0.390</td>\n",
       "      <td>20.109507</td>\n",
       "      <td>0.003</td>\n",
       "      <td>77.900</td>\n",
       "      <td>874.8</td>\n",
       "      <td>25.8</td>\n",
       "      <td>89.57</td>\n",
       "      <td>443.0</td>\n",
       "      <td>0.586</td>\n",
       "      <td>25.0</td>\n",
       "      <td>0.14</td>\n",
       "      <td>-0.630</td>\n",
       "      <td>4.50700</td>\n",
       "      <td>1.230</td>\n",
       "      <td>7.027669</td>\n",
       "      <td>3.02368</td>\n",
       "      <td>0.2734</td>\n",
       "      <td>54.418383</td>\n",
       "      <td>9.11</td>\n",
       "      <td>CONFIRMED</td>\n",
       "    </tr>\n",
       "    <tr>\n",
       "      <th>2</th>\n",
       "      <td>0.276</td>\n",
       "      <td>1</td>\n",
       "      <td>0.387394</td>\n",
       "      <td>33.46</td>\n",
       "      <td>0.289</td>\n",
       "      <td>541.895100</td>\n",
       "      <td>0.000</td>\n",
       "      <td>3.278</td>\n",
       "      <td>8079.2</td>\n",
       "      <td>505.6</td>\n",
       "      <td>67.09</td>\n",
       "      <td>1395.0</td>\n",
       "      <td>1.276</td>\n",
       "      <td>621.0</td>\n",
       "      <td>-0.52</td>\n",
       "      <td>-0.111</td>\n",
       "      <td>2.40641</td>\n",
       "      <td>0.002</td>\n",
       "      <td>39.066550</td>\n",
       "      <td>0.22080</td>\n",
       "      <td>0.0267</td>\n",
       "      <td>1.736952</td>\n",
       "      <td>891.96</td>\n",
       "      <td>FALSE POSITIVE</td>\n",
       "    </tr>\n",
       "    <tr>\n",
       "      <th>3</th>\n",
       "      <td>0.070</td>\n",
       "      <td>1</td>\n",
       "      <td>0.024064</td>\n",
       "      <td>2.75</td>\n",
       "      <td>0.100</td>\n",
       "      <td>33.191900</td>\n",
       "      <td>0.733</td>\n",
       "      <td>8.750</td>\n",
       "      <td>603.3</td>\n",
       "      <td>40.9</td>\n",
       "      <td>85.41</td>\n",
       "      <td>1406.0</td>\n",
       "      <td>0.701</td>\n",
       "      <td>515.0</td>\n",
       "      <td>0.07</td>\n",
       "      <td>-0.010</td>\n",
       "      <td>1.65450</td>\n",
       "      <td>0.230</td>\n",
       "      <td>4.749945</td>\n",
       "      <td>1.98635</td>\n",
       "      <td>0.0374</td>\n",
       "      <td>2.525592</td>\n",
       "      <td>926.16</td>\n",
       "      <td>CONFIRMED</td>\n",
       "    </tr>\n",
       "    <tr>\n",
       "      <th>4</th>\n",
       "      <td>8.948</td>\n",
       "      <td>1</td>\n",
       "      <td>0.183387</td>\n",
       "      <td>39.21</td>\n",
       "      <td>8.930</td>\n",
       "      <td>46.153080</td>\n",
       "      <td>0.000</td>\n",
       "      <td>2.400</td>\n",
       "      <td>233.7</td>\n",
       "      <td>47.7</td>\n",
       "      <td>60.92</td>\n",
       "      <td>1342.0</td>\n",
       "      <td>1.169</td>\n",
       "      <td>185.0</td>\n",
       "      <td>0.00</td>\n",
       "      <td>-13.450</td>\n",
       "      <td>5.02200</td>\n",
       "      <td>24.090</td>\n",
       "      <td>10.964684</td>\n",
       "      <td>0.00485</td>\n",
       "      <td>0.0820</td>\n",
       "      <td>7.361790</td>\n",
       "      <td>767.22</td>\n",
       "      <td>FALSE POSITIVE</td>\n",
       "    </tr>\n",
       "  </tbody>\n",
       "</table>\n",
       "</div>"
      ],
      "text/plain": [
       "   PRF Δθ<sub>SQ</sub>(KIC) [arcsec]  Number of Planets  \\\n",
       "0                              0.320                  2   \n",
       "1                              0.500                  2   \n",
       "2                              0.276                  1   \n",
       "3                              0.070                  1   \n",
       "4                              8.948                  1   \n",
       "\n",
       "   Planet-Star Radius Ratio  Planetary Radius [Earth radii]  \\\n",
       "0                  0.022344                            2.26   \n",
       "1                  0.027954                            2.83   \n",
       "2                  0.387394                           33.46   \n",
       "3                  0.024064                            2.75   \n",
       "4                  0.183387                           39.21   \n",
       "\n",
       "   PRF Δθ<sub>SQ</sub>(OOT) [arcsec]  Maximum Multiple Event Statistic  \\\n",
       "0                              0.200                         28.470820   \n",
       "1                              0.390                         20.109507   \n",
       "2                              0.289                        541.895100   \n",
       "3                              0.100                         33.191900   \n",
       "4                              8.930                         46.153080   \n",
       "\n",
       "   FW Offset Significance [percent]  Planet-Star Distance over Star Radius  \\\n",
       "0                             0.002                                 24.810   \n",
       "1                             0.003                                 77.900   \n",
       "2                             0.000                                  3.278   \n",
       "3                             0.733                                  8.750   \n",
       "4                             0.000                                  2.400   \n",
       "\n",
       "   Transit Depth [ppm]  Transit Signal-to-Noise  Inclination [deg]  \\\n",
       "0                615.8                     35.8              89.66   \n",
       "1                874.8                     25.8              89.57   \n",
       "2               8079.2                    505.6              67.09   \n",
       "3                603.3                     40.9              85.41   \n",
       "4                233.7                     47.7              60.92   \n",
       "\n",
       "   Equilibrium Temperature [K]  Impact Parameter  Number of Transits  \\\n",
       "0                        793.0             0.146               142.0   \n",
       "1                        443.0             0.586                25.0   \n",
       "2                       1395.0             1.276               621.0   \n",
       "3                       1406.0             0.701               515.0   \n",
       "4                       1342.0             1.169               185.0   \n",
       "\n",
       "   Stellar Metallicity [dex]  FW Source Δα(OOT) [sec]  Transit Duration [hrs]  \\\n",
       "0                       0.14                    0.430                 2.95750   \n",
       "1                       0.14                   -0.630                 4.50700   \n",
       "2                      -0.52                   -0.111                 2.40641   \n",
       "3                       0.07                   -0.010                 1.65450   \n",
       "4                       0.00                  -13.450                 5.02200   \n",
       "\n",
       "   FW Source Δδ(OOT) [arcsec]  Maximum Single Event Statistic  \\\n",
       "0                       0.940                        5.135849   \n",
       "1                       1.230                        7.027669   \n",
       "2                       0.002                       39.066550   \n",
       "3                       0.230                        4.749945   \n",
       "4                      24.090                       10.964684   \n",
       "\n",
       "   Fitted Stellar Density [g/cm**3]  Orbit Semi-Major Axis [AU]  \\\n",
       "0                           3.20796                      0.0853   \n",
       "1                           3.02368                      0.2734   \n",
       "2                           0.22080                      0.0267   \n",
       "3                           1.98635                      0.0374   \n",
       "4                           0.00485                      0.0820   \n",
       "\n",
       "   Orbital Period [days]  Insolation Flux [Earth flux]  \\\n",
       "0               9.488036                         93.59   \n",
       "1              54.418383                          9.11   \n",
       "2               1.736952                        891.96   \n",
       "3               2.525592                        926.16   \n",
       "4               7.361790                        767.22   \n",
       "\n",
       "  Exoplanet Archive Disposition  \n",
       "0                     CONFIRMED  \n",
       "1                     CONFIRMED  \n",
       "2                FALSE POSITIVE  \n",
       "3                     CONFIRMED  \n",
       "4                FALSE POSITIVE  "
      ]
     },
     "execution_count": 2,
     "metadata": {},
     "output_type": "execute_result"
    }
   ],
   "source": [
    "df = pd.read_csv(\"No_Errors_Reduced.csv\", header=0)\n",
    "pd.set_option('display.max_columns', None)\n",
    "df = df.drop(['Unnamed: 0'], axis=1)\n",
    "df.head(5)"
   ]
  },
  {
   "cell_type": "markdown",
   "metadata": {},
   "source": [
    "Apply Standard Scaler to the dataset because this classifier calculates distance and it is necessary all features are on the same scale."
   ]
  },
  {
   "cell_type": "code",
   "execution_count": 3,
   "metadata": {
    "ExecuteTime": {
     "end_time": "2019-05-01T00:48:19.889208Z",
     "start_time": "2019-05-01T00:48:19.365078Z"
    }
   },
   "outputs": [],
   "source": [
    "from sklearn.preprocessing import StandardScaler\n",
    "scaler = StandardScaler()"
   ]
  },
  {
   "cell_type": "code",
   "execution_count": 4,
   "metadata": {
    "ExecuteTime": {
     "end_time": "2019-05-01T00:48:20.184518Z",
     "start_time": "2019-05-01T00:48:20.164439Z"
    }
   },
   "outputs": [
    {
     "name": "stderr",
     "output_type": "stream",
     "text": [
      "C:\\Users\\lb3558\\AppData\\Local\\Continuum\\anaconda2\\envs\\machinelearning\\lib\\site-packages\\sklearn\\preprocessing\\data.py:625: DataConversionWarning: Data with input dtype int64, float64 were all converted to float64 by StandardScaler.\n",
      "  return self.partial_fit(X, y)\n"
     ]
    },
    {
     "data": {
      "text/plain": [
       "StandardScaler(copy=True, with_mean=True, with_std=True)"
      ]
     },
     "execution_count": 4,
     "metadata": {},
     "output_type": "execute_result"
    }
   ],
   "source": [
    "scaler.fit(df.drop('Exoplanet Archive Disposition',axis=1))"
   ]
  },
  {
   "cell_type": "code",
   "execution_count": 5,
   "metadata": {
    "ExecuteTime": {
     "end_time": "2019-05-01T00:48:21.323790Z",
     "start_time": "2019-05-01T00:48:21.313764Z"
    }
   },
   "outputs": [
    {
     "name": "stderr",
     "output_type": "stream",
     "text": [
      "C:\\Users\\lb3558\\AppData\\Local\\Continuum\\anaconda2\\envs\\machinelearning\\lib\\site-packages\\ipykernel_launcher.py:1: DataConversionWarning: Data with input dtype int64, float64 were all converted to float64 by StandardScaler.\n",
      "  \"\"\"Entry point for launching an IPython kernel.\n"
     ]
    },
    {
     "data": {
      "text/plain": [
       "array([[-0.512749  ,  0.57466542, -0.08220901, ..., -0.30031214,\n",
       "        -0.31089283, -0.09112746],\n",
       "       [-0.45606046,  0.57466542, -0.0800365 , ...,  0.47855444,\n",
       "         0.19794517, -0.0931332 ],\n",
       "       [-0.5266062 , -0.48246769,  0.05915894, ..., -0.54295745,\n",
       "        -0.39867416, -0.07217246],\n",
       "       ...,\n",
       "       [ 0.30891988, -0.48246769,  0.02439842, ..., -0.60051324,\n",
       "        -0.41236901,  0.01350268],\n",
       "       [ 1.01154282, -0.48246769, -0.08720461, ..., -0.5885052 ,\n",
       "        -0.41062832,  0.04229904],\n",
       "       [ 0.48874852, -0.48246769, -0.08773438, ..., -0.40258755,\n",
       "        -0.36335043, -0.07892804]])"
      ]
     },
     "execution_count": 5,
     "metadata": {},
     "output_type": "execute_result"
    }
   ],
   "source": [
    "scaled_features = scaler.transform(df.drop('Exoplanet Archive Disposition',axis=1))\n",
    "scaled_features"
   ]
  },
  {
   "cell_type": "code",
   "execution_count": 6,
   "metadata": {
    "ExecuteTime": {
     "end_time": "2019-05-01T00:48:26.411007Z",
     "start_time": "2019-05-01T00:48:26.389985Z"
    }
   },
   "outputs": [
    {
     "data": {
      "text/html": [
       "<div>\n",
       "<style scoped>\n",
       "    .dataframe tbody tr th:only-of-type {\n",
       "        vertical-align: middle;\n",
       "    }\n",
       "\n",
       "    .dataframe tbody tr th {\n",
       "        vertical-align: top;\n",
       "    }\n",
       "\n",
       "    .dataframe thead th {\n",
       "        text-align: right;\n",
       "    }\n",
       "</style>\n",
       "<table border=\"1\" class=\"dataframe\">\n",
       "  <thead>\n",
       "    <tr style=\"text-align: right;\">\n",
       "      <th></th>\n",
       "      <th>PRF Δθ&lt;sub&gt;SQ&lt;/sub&gt;(KIC) [arcsec]</th>\n",
       "      <th>Number of Planets</th>\n",
       "      <th>Planet-Star Radius Ratio</th>\n",
       "      <th>Planetary Radius [Earth radii]</th>\n",
       "      <th>PRF Δθ&lt;sub&gt;SQ&lt;/sub&gt;(OOT) [arcsec]</th>\n",
       "      <th>Maximum Multiple Event Statistic</th>\n",
       "      <th>FW Offset Significance [percent]</th>\n",
       "      <th>Planet-Star Distance over Star Radius</th>\n",
       "      <th>Transit Depth [ppm]</th>\n",
       "      <th>Transit Signal-to-Noise</th>\n",
       "      <th>Inclination [deg]</th>\n",
       "      <th>Equilibrium Temperature [K]</th>\n",
       "      <th>Impact Parameter</th>\n",
       "      <th>Number of Transits</th>\n",
       "      <th>Stellar Metallicity [dex]</th>\n",
       "      <th>FW Source Δα(OOT) [sec]</th>\n",
       "      <th>Transit Duration [hrs]</th>\n",
       "      <th>FW Source Δδ(OOT) [arcsec]</th>\n",
       "      <th>Maximum Single Event Statistic</th>\n",
       "      <th>Fitted Stellar Density [g/cm**3]</th>\n",
       "      <th>Orbit Semi-Major Axis [AU]</th>\n",
       "      <th>Orbital Period [days]</th>\n",
       "      <th>Insolation Flux [Earth flux]</th>\n",
       "    </tr>\n",
       "  </thead>\n",
       "  <tbody>\n",
       "    <tr>\n",
       "      <th>0</th>\n",
       "      <td>-0.512749</td>\n",
       "      <td>0.574665</td>\n",
       "      <td>-0.082209</td>\n",
       "      <td>-0.029689</td>\n",
       "      <td>-0.552872</td>\n",
       "      <td>-0.251865</td>\n",
       "      <td>-0.504768</td>\n",
       "      <td>-0.135335</td>\n",
       "      <td>-0.308900</td>\n",
       "      <td>-0.313184</td>\n",
       "      <td>0.520745</td>\n",
       "      <td>-0.450817</td>\n",
       "      <td>-0.217554</td>\n",
       "      <td>-0.479365</td>\n",
       "      <td>0.929629</td>\n",
       "      <td>0.048426</td>\n",
       "      <td>-0.380230</td>\n",
       "      <td>0.078659</td>\n",
       "      <td>-0.224601</td>\n",
       "      <td>-0.008000</td>\n",
       "      <td>-0.300312</td>\n",
       "      <td>-0.310893</td>\n",
       "      <td>-0.091127</td>\n",
       "    </tr>\n",
       "    <tr>\n",
       "      <th>1</th>\n",
       "      <td>-0.456060</td>\n",
       "      <td>0.574665</td>\n",
       "      <td>-0.080036</td>\n",
       "      <td>-0.029535</td>\n",
       "      <td>-0.493124</td>\n",
       "      <td>-0.254227</td>\n",
       "      <td>-0.500411</td>\n",
       "      <td>0.502853</td>\n",
       "      <td>-0.305029</td>\n",
       "      <td>-0.325034</td>\n",
       "      <td>0.515233</td>\n",
       "      <td>-0.897733</td>\n",
       "      <td>-0.049885</td>\n",
       "      <td>-0.686469</td>\n",
       "      <td>0.929629</td>\n",
       "      <td>-0.019383</td>\n",
       "      <td>-0.157404</td>\n",
       "      <td>0.095238</td>\n",
       "      <td>-0.222009</td>\n",
       "      <td>-0.015344</td>\n",
       "      <td>0.478554</td>\n",
       "      <td>0.197945</td>\n",
       "      <td>-0.093133</td>\n",
       "    </tr>\n",
       "    <tr>\n",
       "      <th>2</th>\n",
       "      <td>-0.526606</td>\n",
       "      <td>-0.482468</td>\n",
       "      <td>0.059159</td>\n",
       "      <td>-0.021243</td>\n",
       "      <td>-0.524885</td>\n",
       "      <td>-0.106805</td>\n",
       "      <td>-0.513481</td>\n",
       "      <td>-0.394169</td>\n",
       "      <td>-0.197334</td>\n",
       "      <td>0.243540</td>\n",
       "      <td>-0.861401</td>\n",
       "      <td>0.317877</td>\n",
       "      <td>0.213050</td>\n",
       "      <td>0.368523</td>\n",
       "      <td>-1.370972</td>\n",
       "      <td>0.013818</td>\n",
       "      <td>-0.459479</td>\n",
       "      <td>0.025032</td>\n",
       "      <td>-0.178113</td>\n",
       "      <td>-0.127042</td>\n",
       "      <td>-0.542957</td>\n",
       "      <td>-0.398674</td>\n",
       "      <td>-0.072172</td>\n",
       "    </tr>\n",
       "    <tr>\n",
       "      <th>3</th>\n",
       "      <td>-0.591483</td>\n",
       "      <td>-0.482468</td>\n",
       "      <td>-0.081543</td>\n",
       "      <td>-0.029556</td>\n",
       "      <td>-0.584318</td>\n",
       "      <td>-0.250531</td>\n",
       "      <td>2.679901</td>\n",
       "      <td>-0.328391</td>\n",
       "      <td>-0.309087</td>\n",
       "      <td>-0.307140</td>\n",
       "      <td>0.260482</td>\n",
       "      <td>0.331923</td>\n",
       "      <td>-0.006062</td>\n",
       "      <td>0.180890</td>\n",
       "      <td>0.685626</td>\n",
       "      <td>0.020279</td>\n",
       "      <td>-0.567608</td>\n",
       "      <td>0.038067</td>\n",
       "      <td>-0.225129</td>\n",
       "      <td>-0.056683</td>\n",
       "      <td>-0.498652</td>\n",
       "      <td>-0.389743</td>\n",
       "      <td>-0.071360</td>\n",
       "    </tr>\n",
       "    <tr>\n",
       "      <th>4</th>\n",
       "      <td>2.204522</td>\n",
       "      <td>-0.482468</td>\n",
       "      <td>-0.019844</td>\n",
       "      <td>-0.019687</td>\n",
       "      <td>2.192392</td>\n",
       "      <td>-0.246869</td>\n",
       "      <td>-0.513481</td>\n",
       "      <td>-0.404723</td>\n",
       "      <td>-0.314612</td>\n",
       "      <td>-0.299082</td>\n",
       "      <td>-1.239240</td>\n",
       "      <td>0.250202</td>\n",
       "      <td>0.172276</td>\n",
       "      <td>-0.403250</td>\n",
       "      <td>0.441623</td>\n",
       "      <td>-0.839492</td>\n",
       "      <td>-0.083345</td>\n",
       "      <td>1.402179</td>\n",
       "      <td>-0.216615</td>\n",
       "      <td>-0.135648</td>\n",
       "      <td>-0.313976</td>\n",
       "      <td>-0.334973</td>\n",
       "      <td>-0.075134</td>\n",
       "    </tr>\n",
       "  </tbody>\n",
       "</table>\n",
       "</div>"
      ],
      "text/plain": [
       "   PRF Δθ<sub>SQ</sub>(KIC) [arcsec]  Number of Planets  \\\n",
       "0                          -0.512749           0.574665   \n",
       "1                          -0.456060           0.574665   \n",
       "2                          -0.526606          -0.482468   \n",
       "3                          -0.591483          -0.482468   \n",
       "4                           2.204522          -0.482468   \n",
       "\n",
       "   Planet-Star Radius Ratio  Planetary Radius [Earth radii]  \\\n",
       "0                 -0.082209                       -0.029689   \n",
       "1                 -0.080036                       -0.029535   \n",
       "2                  0.059159                       -0.021243   \n",
       "3                 -0.081543                       -0.029556   \n",
       "4                 -0.019844                       -0.019687   \n",
       "\n",
       "   PRF Δθ<sub>SQ</sub>(OOT) [arcsec]  Maximum Multiple Event Statistic  \\\n",
       "0                          -0.552872                         -0.251865   \n",
       "1                          -0.493124                         -0.254227   \n",
       "2                          -0.524885                         -0.106805   \n",
       "3                          -0.584318                         -0.250531   \n",
       "4                           2.192392                         -0.246869   \n",
       "\n",
       "   FW Offset Significance [percent]  Planet-Star Distance over Star Radius  \\\n",
       "0                         -0.504768                              -0.135335   \n",
       "1                         -0.500411                               0.502853   \n",
       "2                         -0.513481                              -0.394169   \n",
       "3                          2.679901                              -0.328391   \n",
       "4                         -0.513481                              -0.404723   \n",
       "\n",
       "   Transit Depth [ppm]  Transit Signal-to-Noise  Inclination [deg]  \\\n",
       "0            -0.308900                -0.313184           0.520745   \n",
       "1            -0.305029                -0.325034           0.515233   \n",
       "2            -0.197334                 0.243540          -0.861401   \n",
       "3            -0.309087                -0.307140           0.260482   \n",
       "4            -0.314612                -0.299082          -1.239240   \n",
       "\n",
       "   Equilibrium Temperature [K]  Impact Parameter  Number of Transits  \\\n",
       "0                    -0.450817         -0.217554           -0.479365   \n",
       "1                    -0.897733         -0.049885           -0.686469   \n",
       "2                     0.317877          0.213050            0.368523   \n",
       "3                     0.331923         -0.006062            0.180890   \n",
       "4                     0.250202          0.172276           -0.403250   \n",
       "\n",
       "   Stellar Metallicity [dex]  FW Source Δα(OOT) [sec]  Transit Duration [hrs]  \\\n",
       "0                   0.929629                 0.048426               -0.380230   \n",
       "1                   0.929629                -0.019383               -0.157404   \n",
       "2                  -1.370972                 0.013818               -0.459479   \n",
       "3                   0.685626                 0.020279               -0.567608   \n",
       "4                   0.441623                -0.839492               -0.083345   \n",
       "\n",
       "   FW Source Δδ(OOT) [arcsec]  Maximum Single Event Statistic  \\\n",
       "0                    0.078659                       -0.224601   \n",
       "1                    0.095238                       -0.222009   \n",
       "2                    0.025032                       -0.178113   \n",
       "3                    0.038067                       -0.225129   \n",
       "4                    1.402179                       -0.216615   \n",
       "\n",
       "   Fitted Stellar Density [g/cm**3]  Orbit Semi-Major Axis [AU]  \\\n",
       "0                         -0.008000                   -0.300312   \n",
       "1                         -0.015344                    0.478554   \n",
       "2                         -0.127042                   -0.542957   \n",
       "3                         -0.056683                   -0.498652   \n",
       "4                         -0.135648                   -0.313976   \n",
       "\n",
       "   Orbital Period [days]  Insolation Flux [Earth flux]  \n",
       "0              -0.310893                     -0.091127  \n",
       "1               0.197945                     -0.093133  \n",
       "2              -0.398674                     -0.072172  \n",
       "3              -0.389743                     -0.071360  \n",
       "4              -0.334973                     -0.075134  "
      ]
     },
     "execution_count": 6,
     "metadata": {},
     "output_type": "execute_result"
    }
   ],
   "source": [
    "df_feat = pd.DataFrame(scaled_features,columns=df.columns[:-1])\n",
    "df_feat.head()"
   ]
  },
  {
   "cell_type": "markdown",
   "metadata": {},
   "source": [
    "Rename the full dataset for training on the reduced set as X_train_r and the response as y_train_r."
   ]
  },
  {
   "cell_type": "code",
   "execution_count": 7,
   "metadata": {
    "ExecuteTime": {
     "end_time": "2019-05-01T00:48:33.805855Z",
     "start_time": "2019-05-01T00:48:33.802801Z"
    }
   },
   "outputs": [],
   "source": [
    "X_train_r = df_feat \n",
    "y_train_r = df['Exoplanet Archive Disposition']"
   ]
  },
  {
   "cell_type": "markdown",
   "metadata": {},
   "source": [
    "Now run KNN with only the defaults to make a baseline model to be compared with our future/tuned ones."
   ]
  },
  {
   "cell_type": "code",
   "execution_count": 9,
   "metadata": {
    "ExecuteTime": {
     "end_time": "2019-05-01T00:50:26.186344Z",
     "start_time": "2019-05-01T00:50:26.128857Z"
    }
   },
   "outputs": [],
   "source": [
    "from sklearn.neighbors import KNeighborsClassifier\n",
    "from sklearn.model_selection import GridSearchCV\n",
    "from sklearn.model_selection import train_test_split, StratifiedShuffleSplit"
   ]
  },
  {
   "cell_type": "code",
   "execution_count": 25,
   "metadata": {
    "ExecuteTime": {
     "end_time": "2019-04-25T16:43:37.426767Z",
     "start_time": "2019-04-25T16:41:15.420136Z"
    }
   },
   "outputs": [],
   "source": [
    "from sklearn.model_selection import cross_validate\n",
    "knn_clf = KNeighborsClassifier()\n",
    "ss = StratifiedShuffleSplit(n_splits=1000, test_size=0.3, random_state=3)\n",
    "scores=cross_validate(knn_clf, X_train_r, y_train_r, cv=ss, return_train_score=True, scoring='accuracy', n_jobs=-1)"
   ]
  },
  {
   "cell_type": "code",
   "execution_count": 26,
   "metadata": {
    "ExecuteTime": {
     "end_time": "2019-04-25T16:43:37.433882Z",
     "start_time": "2019-04-25T16:43:37.426767Z"
    },
    "scrolled": true
   },
   "outputs": [
    {
     "name": "stdout",
     "output_type": "stream",
     "text": [
      "Validation Accuracy: 92.8405 (+/- 1.09)\n",
      "Train Accuracy: 94.62 (+/- 0.47)\n"
     ]
    }
   ],
   "source": [
    "print(\"Validation Accuracy: %0.4f (+/- %0.2f)\" % (scores['test_score'].mean()*100, scores['test_score'].std()*2*100))\n",
    "print(\"Train Accuracy: %0.2f (+/- %0.2f)\" % (scores['train_score'].mean()*100, scores['train_score'].std()*2*100))"
   ]
  },
  {
   "cell_type": "markdown",
   "metadata": {},
   "source": [
    "Run a broad grid search to search for the best parameters of KNN model."
   ]
  },
  {
   "cell_type": "code",
   "execution_count": 23,
   "metadata": {
    "ExecuteTime": {
     "end_time": "2019-04-25T16:40:27.044911Z",
     "start_time": "2019-04-25T16:29:32.605573Z"
    }
   },
   "outputs": [
    {
     "name": "stdout",
     "output_type": "stream",
     "text": [
      "Fitting 10 folds for each of 256 candidates, totalling 2560 fits\n"
     ]
    },
    {
     "name": "stderr",
     "output_type": "stream",
     "text": [
      "[Parallel(n_jobs=-1)]: Using backend LokyBackend with 8 concurrent workers.\n",
      "[Parallel(n_jobs=-1)]: Done  16 tasks      | elapsed:    6.9s\n",
      "[Parallel(n_jobs=-1)]: Done 112 tasks      | elapsed:   42.5s\n",
      "[Parallel(n_jobs=-1)]: Done 272 tasks      | elapsed:  1.6min\n",
      "[Parallel(n_jobs=-1)]: Done 496 tasks      | elapsed:  2.5min\n",
      "[Parallel(n_jobs=-1)]: Done 784 tasks      | elapsed:  3.7min\n",
      "[Parallel(n_jobs=-1)]: Done 1136 tasks      | elapsed:  5.1min\n",
      "[Parallel(n_jobs=-1)]: Done 1552 tasks      | elapsed:  7.5min\n",
      "[Parallel(n_jobs=-1)]: Done 2032 tasks      | elapsed:  9.3min\n",
      "[Parallel(n_jobs=-1)]: Done 2560 out of 2560 | elapsed: 10.9min finished\n"
     ]
    },
    {
     "data": {
      "text/plain": [
       "GridSearchCV(cv=StratifiedShuffleSplit(n_splits=10, random_state=3, test_size=0.3,\n",
       "            train_size=None),\n",
       "       error_score='raise-deprecating',\n",
       "       estimator=KNeighborsClassifier(algorithm='auto', leaf_size=30, metric='minkowski',\n",
       "           metric_params=None, n_jobs=None, n_neighbors=5, p=2,\n",
       "           weights='uniform'),\n",
       "       fit_params=None, iid='warn', n_jobs=-1,\n",
       "       param_grid=[{'n_neighbors': [5, 15, 25, 35], 'weights': ['uniform', 'distance'], 'algorithm': ['auto', 'ball_tree', 'kd_tree', 'brute'], 'leaf_size': [2, 10, 20, 30], 'p': [1, 2]}],\n",
       "       pre_dispatch='2*n_jobs', refit=True, return_train_score='warn',\n",
       "       scoring=None, verbose=3)"
      ]
     },
     "execution_count": 23,
     "metadata": {},
     "output_type": "execute_result"
    }
   ],
   "source": [
    "parameters = [{'n_neighbors':[5,15,25,35],\n",
    "               'weights' : ['uniform','distance'],\n",
    "              'algorithm': ['auto','ball_tree','kd_tree','brute'],\n",
    "              'leaf_size': [2,10,20,30],\n",
    "               'p' : [1,2]\n",
    "              }]\n",
    "knn_clf1 = KNeighborsClassifier()\n",
    "ss = StratifiedShuffleSplit(n_splits=10, test_size=0.3, random_state=3)\n",
    "grid = GridSearchCV(knn_clf1, parameters, cv=ss, n_jobs=-1, verbose=3)\n",
    "grid.fit(X_train_r, y_train_r)"
   ]
  },
  {
   "cell_type": "code",
   "execution_count": 24,
   "metadata": {
    "ExecuteTime": {
     "end_time": "2019-04-25T16:40:27.051368Z",
     "start_time": "2019-04-25T16:40:27.047357Z"
    }
   },
   "outputs": [
    {
     "name": "stdout",
     "output_type": "stream",
     "text": [
      "0.9320561941251596\n",
      "{'algorithm': 'auto', 'leaf_size': 2, 'n_neighbors': 5, 'p': 1, 'weights': 'distance'}\n"
     ]
    }
   ],
   "source": [
    "print(grid.best_score_)\n",
    "print(grid.best_params_)"
   ]
  },
  {
   "cell_type": "markdown",
   "metadata": {},
   "source": [
    "From the initial grid search we see that the model prefers a smaller number of n_neighbors and leaf_size. Perform another grid search with some smaller values for these hyperparameters and increase the n_splits to 100."
   ]
  },
  {
   "cell_type": "code",
   "execution_count": 14,
   "metadata": {
    "ExecuteTime": {
     "end_time": "2019-04-24T23:14:41.958700Z",
     "start_time": "2019-04-24T19:48:32.415574Z"
    }
   },
   "outputs": [
    {
     "name": "stdout",
     "output_type": "stream",
     "text": [
      "Fitting 100 folds for each of 672 candidates, totalling 67200 fits\n"
     ]
    },
    {
     "name": "stderr",
     "output_type": "stream",
     "text": [
      "[Parallel(n_jobs=-1)]: Using backend LokyBackend with 8 concurrent workers.\n",
      "[Parallel(n_jobs=-1)]: Done  16 tasks      | elapsed:    2.9s\n",
      "[Parallel(n_jobs=-1)]: Done 112 tasks      | elapsed:   19.1s\n",
      "[Parallel(n_jobs=-1)]: Done 272 tasks      | elapsed:   52.2s\n",
      "[Parallel(n_jobs=-1)]: Done 496 tasks      | elapsed:  1.8min\n",
      "[Parallel(n_jobs=-1)]: Done 784 tasks      | elapsed:  3.1min\n",
      "[Parallel(n_jobs=-1)]: Done 1136 tasks      | elapsed:  4.8min\n",
      "[Parallel(n_jobs=-1)]: Done 1552 tasks      | elapsed:  7.0min\n",
      "[Parallel(n_jobs=-1)]: Done 2032 tasks      | elapsed:  9.8min\n",
      "[Parallel(n_jobs=-1)]: Done 2576 tasks      | elapsed: 12.6min\n",
      "[Parallel(n_jobs=-1)]: Done 3184 tasks      | elapsed: 15.4min\n",
      "[Parallel(n_jobs=-1)]: Done 3856 tasks      | elapsed: 18.7min\n",
      "[Parallel(n_jobs=-1)]: Done 4592 tasks      | elapsed: 22.9min\n",
      "[Parallel(n_jobs=-1)]: Done 5392 tasks      | elapsed: 26.4min\n",
      "[Parallel(n_jobs=-1)]: Done 6256 tasks      | elapsed: 29.8min\n",
      "[Parallel(n_jobs=-1)]: Done 7184 tasks      | elapsed: 34.0min\n",
      "[Parallel(n_jobs=-1)]: Done 8176 tasks      | elapsed: 36.3min\n",
      "[Parallel(n_jobs=-1)]: Done 9232 tasks      | elapsed: 39.1min\n",
      "[Parallel(n_jobs=-1)]: Done 10352 tasks      | elapsed: 41.8min\n",
      "[Parallel(n_jobs=-1)]: Done 11536 tasks      | elapsed: 44.9min\n",
      "[Parallel(n_jobs=-1)]: Done 12784 tasks      | elapsed: 47.9min\n",
      "[Parallel(n_jobs=-1)]: Done 14096 tasks      | elapsed: 51.1min\n",
      "[Parallel(n_jobs=-1)]: Done 15472 tasks      | elapsed: 54.2min\n",
      "[Parallel(n_jobs=-1)]: Done 16912 tasks      | elapsed: 57.7min\n",
      "[Parallel(n_jobs=-1)]: Done 18416 tasks      | elapsed: 61.9min\n",
      "[Parallel(n_jobs=-1)]: Done 19984 tasks      | elapsed: 66.3min\n",
      "[Parallel(n_jobs=-1)]: Done 21616 tasks      | elapsed: 71.3min\n",
      "[Parallel(n_jobs=-1)]: Done 23312 tasks      | elapsed: 75.9min\n",
      "[Parallel(n_jobs=-1)]: Done 25072 tasks      | elapsed: 80.5min\n",
      "[Parallel(n_jobs=-1)]: Done 26896 tasks      | elapsed: 85.3min\n",
      "[Parallel(n_jobs=-1)]: Done 28784 tasks      | elapsed: 90.2min\n",
      "[Parallel(n_jobs=-1)]: Done 30736 tasks      | elapsed: 95.2min\n",
      "[Parallel(n_jobs=-1)]: Done 32752 tasks      | elapsed: 100.3min\n",
      "[Parallel(n_jobs=-1)]: Done 34832 tasks      | elapsed: 107.9min\n",
      "[Parallel(n_jobs=-1)]: Done 36976 tasks      | elapsed: 118.7min\n",
      "[Parallel(n_jobs=-1)]: Done 39184 tasks      | elapsed: 129.6min\n",
      "[Parallel(n_jobs=-1)]: Done 41456 tasks      | elapsed: 137.6min\n",
      "[Parallel(n_jobs=-1)]: Done 43792 tasks      | elapsed: 143.3min\n",
      "[Parallel(n_jobs=-1)]: Done 46192 tasks      | elapsed: 149.1min\n",
      "[Parallel(n_jobs=-1)]: Done 48656 tasks      | elapsed: 154.9min\n",
      "[Parallel(n_jobs=-1)]: Done 51184 tasks      | elapsed: 161.2min\n",
      "[Parallel(n_jobs=-1)]: Done 53776 tasks      | elapsed: 168.4min\n",
      "[Parallel(n_jobs=-1)]: Done 56432 tasks      | elapsed: 175.8min\n",
      "[Parallel(n_jobs=-1)]: Done 59152 tasks      | elapsed: 183.5min\n",
      "[Parallel(n_jobs=-1)]: Done 61936 tasks      | elapsed: 191.3min\n",
      "[Parallel(n_jobs=-1)]: Done 64784 tasks      | elapsed: 199.4min\n",
      "[Parallel(n_jobs=-1)]: Done 67200 out of 67200 | elapsed: 206.2min finished\n"
     ]
    },
    {
     "data": {
      "text/plain": [
       "GridSearchCV(cv=StratifiedShuffleSplit(n_splits=100, random_state=3, test_size=0.3,\n",
       "            train_size=None),\n",
       "       error_score='raise-deprecating',\n",
       "       estimator=KNeighborsClassifier(algorithm='auto', leaf_size=30, metric='minkowski',\n",
       "           metric_params=None, n_jobs=None, n_neighbors=5, p=2,\n",
       "           weights='uniform'),\n",
       "       fit_params=None, iid='warn', n_jobs=-1,\n",
       "       param_grid=[{'n_neighbors': [3, 5, 9, 11, 15, 21], 'weights': ['uniform', 'distance'], 'algorithm': ['auto', 'ball_tree', 'kd_tree', 'brute'], 'leaf_size': [2, 3, 4, 15, 20, 30, 35], 'p': [1, 2]}],\n",
       "       pre_dispatch='2*n_jobs', refit=True, return_train_score='warn',\n",
       "       scoring=None, verbose=3)"
      ]
     },
     "execution_count": 14,
     "metadata": {},
     "output_type": "execute_result"
    }
   ],
   "source": [
    "parameters = [{'n_neighbors':[3,5,9,11,15,21],\n",
    "               'weights' : ['uniform','distance'],\n",
    "              'algorithm': ['auto','ball_tree','kd_tree','brute'],\n",
    "              'leaf_size': [2,3,4,15,20,30,35],\n",
    "               'p' : [1,2]\n",
    "              }]\n",
    "knn_clf1 = KNeighborsClassifier()\n",
    "ss = StratifiedShuffleSplit(n_splits=100, test_size=0.3, random_state=3)\n",
    "grid = GridSearchCV(knn_clf1, parameters, cv=ss, n_jobs=-1, verbose=3)\n",
    "grid.fit(X_train_r, y_train_r)"
   ]
  },
  {
   "cell_type": "code",
   "execution_count": 15,
   "metadata": {
    "ExecuteTime": {
     "end_time": "2019-04-24T23:14:41.966721Z",
     "start_time": "2019-04-24T23:14:41.961706Z"
    }
   },
   "outputs": [
    {
     "data": {
      "text/plain": [
       "0.9347126436781609"
      ]
     },
     "execution_count": 15,
     "metadata": {},
     "output_type": "execute_result"
    }
   ],
   "source": [
    "grid.best_score_"
   ]
  },
  {
   "cell_type": "code",
   "execution_count": 16,
   "metadata": {
    "ExecuteTime": {
     "end_time": "2019-04-24T23:14:42.289577Z",
     "start_time": "2019-04-24T23:14:41.967723Z"
    }
   },
   "outputs": [
    {
     "data": {
      "text/plain": [
       "{'algorithm': 'auto',\n",
       " 'leaf_size': 2,\n",
       " 'n_neighbors': 5,\n",
       " 'p': 1,\n",
       " 'weights': 'distance'}"
      ]
     },
     "execution_count": 16,
     "metadata": {},
     "output_type": "execute_result"
    }
   ],
   "source": [
    "grid.best_params_"
   ]
  },
  {
   "cell_type": "markdown",
   "metadata": {},
   "source": [
    "Using the best parameters from the second grid search, now use a StratifiedShuffleSplit and run cross validation with them. We will use n_splits of 1000 and withhold 30% of the data for a test set used in cross validation."
   ]
  },
  {
   "cell_type": "code",
   "execution_count": 13,
   "metadata": {
    "ExecuteTime": {
     "end_time": "2019-04-25T14:57:22.550048Z",
     "start_time": "2019-04-25T14:53:59.990031Z"
    }
   },
   "outputs": [],
   "source": [
    "from sklearn.model_selection import cross_validate\n",
    "knn_clf = KNeighborsClassifier(algorithm='auto',n_neighbors=5,p=1,leaf_size=2,weights='distance')\n",
    "ss = StratifiedShuffleSplit(n_splits=1000, test_size=0.3, random_state=3)\n",
    "scores=cross_validate(knn_clf, X_train_r, y_train_r, cv=ss, return_train_score=True, scoring='accuracy', n_jobs=-1)"
   ]
  },
  {
   "cell_type": "code",
   "execution_count": 14,
   "metadata": {
    "ExecuteTime": {
     "end_time": "2019-04-25T14:57:22.562047Z",
     "start_time": "2019-04-25T14:57:22.550048Z"
    }
   },
   "outputs": [
    {
     "name": "stdout",
     "output_type": "stream",
     "text": [
      "Validation Accuracy: 93.3904 (+/- 1.10)\n",
      "Train Accuracy: 100.00 (+/- 0.00)\n"
     ]
    }
   ],
   "source": [
    "print(\"Validation Accuracy: %0.4f (+/- %0.2f)\" % (scores['test_score'].mean()*100, scores['test_score'].std()*2*100))\n",
    "print(\"Train Accuracy: %0.2f (+/- %0.2f)\" % (scores['train_score'].mean()*100, scores['train_score'].std()*2*100))"
   ]
  },
  {
   "cell_type": "markdown",
   "metadata": {},
   "source": [
    "The Train Accuracy returned 100% indicating it overfit the data. We will remove the weight='distance' hyperparameter and perform another StratifiedShuffleSplit and cross validation to compare."
   ]
  },
  {
   "cell_type": "code",
   "execution_count": 15,
   "metadata": {
    "ExecuteTime": {
     "end_time": "2019-04-25T15:01:24.742330Z",
     "start_time": "2019-04-25T14:57:58.726716Z"
    }
   },
   "outputs": [],
   "source": [
    "from sklearn.model_selection import cross_validate\n",
    "knn_clf = KNeighborsClassifier(algorithm='auto',n_neighbors=5,p=1,leaf_size=2)\n",
    "ss = StratifiedShuffleSplit(n_splits=1000, test_size=0.3, random_state=3)\n",
    "scores=cross_validate(knn_clf, X_train_r, y_train_r, cv=ss, return_train_score=True, scoring='accuracy', n_jobs=-1)"
   ]
  },
  {
   "cell_type": "code",
   "execution_count": 16,
   "metadata": {
    "ExecuteTime": {
     "end_time": "2019-04-25T15:01:24.750317Z",
     "start_time": "2019-04-25T15:01:24.742330Z"
    }
   },
   "outputs": [
    {
     "name": "stdout",
     "output_type": "stream",
     "text": [
      "Validation Accuracy: 93.3773 (+/- 1.10)\n",
      "Train Accuracy: 94.89 (+/- 0.45)\n"
     ]
    }
   ],
   "source": [
    "print(\"Validation Accuracy: %0.4f (+/- %0.2f)\" % (scores['test_score'].mean()*100, scores['test_score'].std()*2*100))\n",
    "print(\"Train Accuracy: %0.2f (+/- %0.2f)\" % (scores['train_score'].mean()*100, scores['train_score'].std()*2*100))"
   ]
  },
  {
   "cell_type": "code",
   "execution_count": 33,
   "metadata": {
    "ExecuteTime": {
     "end_time": "2019-04-25T19:04:47.349544Z",
     "start_time": "2019-04-25T19:01:28.456161Z"
    }
   },
   "outputs": [],
   "source": [
    "from sklearn.model_selection import cross_validate\n",
    "knn_clf = KNeighborsClassifier(algorithm='auto',n_neighbors=5,p=1,leaf_size=2)\n",
    "ss = StratifiedShuffleSplit(n_splits=1000, test_size=0.3, random_state=3)\n",
    "scores=cross_validate(knn_clf, X_train_r, y_train_r, cv=ss, return_train_score=True, scoring='roc_auc', n_jobs=-1)"
   ]
  },
  {
   "cell_type": "code",
   "execution_count": 34,
   "metadata": {
    "ExecuteTime": {
     "end_time": "2019-04-25T19:04:47.358263Z",
     "start_time": "2019-04-25T19:04:47.349544Z"
    }
   },
   "outputs": [
    {
     "name": "stdout",
     "output_type": "stream",
     "text": [
      "Validation Accuracy: 97.3475 (+/- 0.66)\n",
      "Train Accuracy: 99.43 (+/- 0.08)\n"
     ]
    }
   ],
   "source": [
    "print(\"Validation Accuracy: %0.4f (+/- %0.2f)\" % (scores['test_score'].mean()*100, scores['test_score'].std()*2*100))\n",
    "print(\"Train Accuracy: %0.2f (+/- %0.2f)\" % (scores['train_score'].mean()*100, scores['train_score'].std()*2*100))"
   ]
  },
  {
   "cell_type": "markdown",
   "metadata": {},
   "source": [
    "By removing the weight hyperparameter our results were much more reasonable. The validation accuracy dropped insignificantly by 0.013. However, the train accuracy is more reliable and not overfit as it is much closer to the validation accuracy score. "
   ]
  }
 ],
 "metadata": {
  "kernelspec": {
   "display_name": "Python 3",
   "language": "python",
   "name": "python3"
  },
  "language_info": {
   "codemirror_mode": {
    "name": "ipython",
    "version": 3
   },
   "file_extension": ".py",
   "mimetype": "text/x-python",
   "name": "python",
   "nbconvert_exporter": "python",
   "pygments_lexer": "ipython3",
   "version": "3.7.2"
  },
  "toc": {
   "base_numbering": 1,
   "nav_menu": {},
   "number_sections": true,
   "sideBar": true,
   "skip_h1_title": true,
   "title_cell": "Table of Contents",
   "title_sidebar": "Contents",
   "toc_cell": false,
   "toc_position": {},
   "toc_section_display": true,
   "toc_window_display": false
  }
 },
 "nbformat": 4,
 "nbformat_minor": 2
}
