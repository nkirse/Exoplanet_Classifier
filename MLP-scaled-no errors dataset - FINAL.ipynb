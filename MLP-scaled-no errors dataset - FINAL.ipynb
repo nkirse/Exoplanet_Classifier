{
 "cells": [
  {
   "cell_type": "markdown",
   "metadata": {},
   "source": [
    "Lauren Hare"
   ]
  },
  {
   "cell_type": "markdown",
   "metadata": {},
   "source": [
    "**Importing and reading in csv**"
   ]
  },
  {
   "cell_type": "code",
   "execution_count": 1,
   "metadata": {},
   "outputs": [],
   "source": [
    "import pandas as pd\n",
    "import numpy as np\n",
    "import matplotlib.pyplot as plt\n",
    "\n",
    "from sklearn.neural_network import MLPClassifier\n",
    "from sklearn.model_selection import GridSearchCV\n",
    "\n",
    "from sklearn.model_selection import train_test_split\n",
    "\n",
    "from sklearn.metrics import classification_report, confusion_matrix\n",
    "from sklearn.metrics import accuracy_score\n",
    "\n",
    "from sklearn.model_selection import StratifiedShuffleSplit\n",
    "\n",
    "from sklearn.model_selection import cross_validate\n",
    "\n",
    "from sklearn.ensemble import AdaBoostClassifier\n",
    "\n",
    "from sklearn.preprocessing import StandardScaler"
   ]
  },
  {
   "cell_type": "code",
   "execution_count": 84,
   "metadata": {},
   "outputs": [
    {
     "data": {
      "text/html": [
       "<div>\n",
       "<style scoped>\n",
       "    .dataframe tbody tr th:only-of-type {\n",
       "        vertical-align: middle;\n",
       "    }\n",
       "\n",
       "    .dataframe tbody tr th {\n",
       "        vertical-align: top;\n",
       "    }\n",
       "\n",
       "    .dataframe thead th {\n",
       "        text-align: right;\n",
       "    }\n",
       "</style>\n",
       "<table border=\"1\" class=\"dataframe\">\n",
       "  <thead>\n",
       "    <tr style=\"text-align: right;\">\n",
       "      <th></th>\n",
       "      <th>PRF Δθ&lt;sub&gt;SQ&lt;/sub&gt;(KIC) [arcsec]</th>\n",
       "      <th>Number of Planets</th>\n",
       "      <th>Planet-Star Radius Ratio</th>\n",
       "      <th>Planetary Radius [Earth radii]</th>\n",
       "      <th>PRF Δθ&lt;sub&gt;SQ&lt;/sub&gt;(OOT) [arcsec]</th>\n",
       "      <th>Maximum Multiple Event Statistic</th>\n",
       "      <th>FW Offset Significance [percent]</th>\n",
       "      <th>Planet-Star Distance over Star Radius</th>\n",
       "      <th>Transit Depth [ppm]</th>\n",
       "      <th>Transit Signal-to-Noise</th>\n",
       "      <th>...</th>\n",
       "      <th>Stellar Metallicity [dex]</th>\n",
       "      <th>FW Source Δα(OOT) [sec]</th>\n",
       "      <th>Transit Duration [hrs]</th>\n",
       "      <th>FW Source Δδ(OOT) [arcsec]</th>\n",
       "      <th>Maximum Single Event Statistic</th>\n",
       "      <th>Fitted Stellar Density [g/cm**3]</th>\n",
       "      <th>Orbit Semi-Major Axis [AU]</th>\n",
       "      <th>Orbital Period [days]</th>\n",
       "      <th>Insolation Flux [Earth flux]</th>\n",
       "      <th>Exoplanet Archive Disposition</th>\n",
       "    </tr>\n",
       "  </thead>\n",
       "  <tbody>\n",
       "    <tr>\n",
       "      <th>0</th>\n",
       "      <td>0.320</td>\n",
       "      <td>2</td>\n",
       "      <td>0.022344</td>\n",
       "      <td>2.26</td>\n",
       "      <td>0.200</td>\n",
       "      <td>28.470820</td>\n",
       "      <td>0.002</td>\n",
       "      <td>24.810</td>\n",
       "      <td>615.8</td>\n",
       "      <td>35.8</td>\n",
       "      <td>...</td>\n",
       "      <td>0.14</td>\n",
       "      <td>0.430</td>\n",
       "      <td>2.95750</td>\n",
       "      <td>0.940</td>\n",
       "      <td>5.135849</td>\n",
       "      <td>3.20796</td>\n",
       "      <td>0.0853</td>\n",
       "      <td>9.488036</td>\n",
       "      <td>93.59</td>\n",
       "      <td>CONFIRMED</td>\n",
       "    </tr>\n",
       "    <tr>\n",
       "      <th>1</th>\n",
       "      <td>0.500</td>\n",
       "      <td>2</td>\n",
       "      <td>0.027954</td>\n",
       "      <td>2.83</td>\n",
       "      <td>0.390</td>\n",
       "      <td>20.109507</td>\n",
       "      <td>0.003</td>\n",
       "      <td>77.900</td>\n",
       "      <td>874.8</td>\n",
       "      <td>25.8</td>\n",
       "      <td>...</td>\n",
       "      <td>0.14</td>\n",
       "      <td>-0.630</td>\n",
       "      <td>4.50700</td>\n",
       "      <td>1.230</td>\n",
       "      <td>7.027669</td>\n",
       "      <td>3.02368</td>\n",
       "      <td>0.2734</td>\n",
       "      <td>54.418383</td>\n",
       "      <td>9.11</td>\n",
       "      <td>CONFIRMED</td>\n",
       "    </tr>\n",
       "    <tr>\n",
       "      <th>2</th>\n",
       "      <td>0.276</td>\n",
       "      <td>1</td>\n",
       "      <td>0.387394</td>\n",
       "      <td>33.46</td>\n",
       "      <td>0.289</td>\n",
       "      <td>541.895100</td>\n",
       "      <td>0.000</td>\n",
       "      <td>3.278</td>\n",
       "      <td>8079.2</td>\n",
       "      <td>505.6</td>\n",
       "      <td>...</td>\n",
       "      <td>-0.52</td>\n",
       "      <td>-0.111</td>\n",
       "      <td>2.40641</td>\n",
       "      <td>0.002</td>\n",
       "      <td>39.066550</td>\n",
       "      <td>0.22080</td>\n",
       "      <td>0.0267</td>\n",
       "      <td>1.736952</td>\n",
       "      <td>891.96</td>\n",
       "      <td>FALSE POSITIVE</td>\n",
       "    </tr>\n",
       "    <tr>\n",
       "      <th>3</th>\n",
       "      <td>0.070</td>\n",
       "      <td>1</td>\n",
       "      <td>0.024064</td>\n",
       "      <td>2.75</td>\n",
       "      <td>0.100</td>\n",
       "      <td>33.191900</td>\n",
       "      <td>0.733</td>\n",
       "      <td>8.750</td>\n",
       "      <td>603.3</td>\n",
       "      <td>40.9</td>\n",
       "      <td>...</td>\n",
       "      <td>0.07</td>\n",
       "      <td>-0.010</td>\n",
       "      <td>1.65450</td>\n",
       "      <td>0.230</td>\n",
       "      <td>4.749945</td>\n",
       "      <td>1.98635</td>\n",
       "      <td>0.0374</td>\n",
       "      <td>2.525592</td>\n",
       "      <td>926.16</td>\n",
       "      <td>CONFIRMED</td>\n",
       "    </tr>\n",
       "    <tr>\n",
       "      <th>4</th>\n",
       "      <td>8.948</td>\n",
       "      <td>1</td>\n",
       "      <td>0.183387</td>\n",
       "      <td>39.21</td>\n",
       "      <td>8.930</td>\n",
       "      <td>46.153080</td>\n",
       "      <td>0.000</td>\n",
       "      <td>2.400</td>\n",
       "      <td>233.7</td>\n",
       "      <td>47.7</td>\n",
       "      <td>...</td>\n",
       "      <td>0.00</td>\n",
       "      <td>-13.450</td>\n",
       "      <td>5.02200</td>\n",
       "      <td>24.090</td>\n",
       "      <td>10.964684</td>\n",
       "      <td>0.00485</td>\n",
       "      <td>0.0820</td>\n",
       "      <td>7.361790</td>\n",
       "      <td>767.22</td>\n",
       "      <td>FALSE POSITIVE</td>\n",
       "    </tr>\n",
       "  </tbody>\n",
       "</table>\n",
       "<p>5 rows × 24 columns</p>\n",
       "</div>"
      ],
      "text/plain": [
       "   PRF Δθ<sub>SQ</sub>(KIC) [arcsec]  Number of Planets  \\\n",
       "0                              0.320                  2   \n",
       "1                              0.500                  2   \n",
       "2                              0.276                  1   \n",
       "3                              0.070                  1   \n",
       "4                              8.948                  1   \n",
       "\n",
       "   Planet-Star Radius Ratio  Planetary Radius [Earth radii]  \\\n",
       "0                  0.022344                            2.26   \n",
       "1                  0.027954                            2.83   \n",
       "2                  0.387394                           33.46   \n",
       "3                  0.024064                            2.75   \n",
       "4                  0.183387                           39.21   \n",
       "\n",
       "   PRF Δθ<sub>SQ</sub>(OOT) [arcsec]  Maximum Multiple Event Statistic  \\\n",
       "0                              0.200                         28.470820   \n",
       "1                              0.390                         20.109507   \n",
       "2                              0.289                        541.895100   \n",
       "3                              0.100                         33.191900   \n",
       "4                              8.930                         46.153080   \n",
       "\n",
       "   FW Offset Significance [percent]  Planet-Star Distance over Star Radius  \\\n",
       "0                             0.002                                 24.810   \n",
       "1                             0.003                                 77.900   \n",
       "2                             0.000                                  3.278   \n",
       "3                             0.733                                  8.750   \n",
       "4                             0.000                                  2.400   \n",
       "\n",
       "   Transit Depth [ppm]  Transit Signal-to-Noise  \\\n",
       "0                615.8                     35.8   \n",
       "1                874.8                     25.8   \n",
       "2               8079.2                    505.6   \n",
       "3                603.3                     40.9   \n",
       "4                233.7                     47.7   \n",
       "\n",
       "               ...                Stellar Metallicity [dex]  \\\n",
       "0              ...                                     0.14   \n",
       "1              ...                                     0.14   \n",
       "2              ...                                    -0.52   \n",
       "3              ...                                     0.07   \n",
       "4              ...                                     0.00   \n",
       "\n",
       "   FW Source Δα(OOT) [sec]  Transit Duration [hrs]  \\\n",
       "0                    0.430                 2.95750   \n",
       "1                   -0.630                 4.50700   \n",
       "2                   -0.111                 2.40641   \n",
       "3                   -0.010                 1.65450   \n",
       "4                  -13.450                 5.02200   \n",
       "\n",
       "   FW Source Δδ(OOT) [arcsec]  Maximum Single Event Statistic  \\\n",
       "0                       0.940                        5.135849   \n",
       "1                       1.230                        7.027669   \n",
       "2                       0.002                       39.066550   \n",
       "3                       0.230                        4.749945   \n",
       "4                      24.090                       10.964684   \n",
       "\n",
       "   Fitted Stellar Density [g/cm**3]  Orbit Semi-Major Axis [AU]  \\\n",
       "0                           3.20796                      0.0853   \n",
       "1                           3.02368                      0.2734   \n",
       "2                           0.22080                      0.0267   \n",
       "3                           1.98635                      0.0374   \n",
       "4                           0.00485                      0.0820   \n",
       "\n",
       "   Orbital Period [days]  Insolation Flux [Earth flux]  \\\n",
       "0               9.488036                         93.59   \n",
       "1              54.418383                          9.11   \n",
       "2               1.736952                        891.96   \n",
       "3               2.525592                        926.16   \n",
       "4               7.361790                        767.22   \n",
       "\n",
       "   Exoplanet Archive Disposition  \n",
       "0                      CONFIRMED  \n",
       "1                      CONFIRMED  \n",
       "2                 FALSE POSITIVE  \n",
       "3                      CONFIRMED  \n",
       "4                 FALSE POSITIVE  \n",
       "\n",
       "[5 rows x 24 columns]"
      ]
     },
     "execution_count": 84,
     "metadata": {},
     "output_type": "execute_result"
    }
   ],
   "source": [
    "planets = pd.read_csv(\"no_errors_reduced.csv\")\n",
    "planets = planets.drop('Unnamed: 0',axis=1)\n",
    "planets.head()"
   ]
  },
  {
   "cell_type": "markdown",
   "metadata": {},
   "source": [
    "**Create X and y**"
   ]
  },
  {
   "cell_type": "code",
   "execution_count": 3,
   "metadata": {},
   "outputs": [],
   "source": [
    "X = planets.drop('Exoplanet Archive Disposition',axis=1)\n",
    "y = planets['Exoplanet Archive Disposition']"
   ]
  },
  {
   "cell_type": "markdown",
   "metadata": {},
   "source": [
    "**Scale X**"
   ]
  },
  {
   "cell_type": "code",
   "execution_count": 4,
   "metadata": {},
   "outputs": [],
   "source": [
    "scaler = StandardScaler()\n",
    "scaler.fit(X)\n",
    "X = scaler.transform(X)"
   ]
  },
  {
   "cell_type": "markdown",
   "metadata": {},
   "source": [
    "**Test and Train Split**"
   ]
  },
  {
   "cell_type": "code",
   "execution_count": 5,
   "metadata": {},
   "outputs": [],
   "source": [
    "X_train, X_test, y_train, y_test = train_test_split(X, y, test_size=0.30, random_state=10)"
   ]
  },
  {
   "cell_type": "markdown",
   "metadata": {},
   "source": [
    "**Classifier with only default parameters and using test/train split**"
   ]
  },
  {
   "cell_type": "code",
   "execution_count": 6,
   "metadata": {},
   "outputs": [
    {
     "data": {
      "text/plain": [
       "MLPClassifier(activation='relu', alpha=0.0001, batch_size='auto', beta_1=0.9,\n",
       "       beta_2=0.999, early_stopping=False, epsilon=1e-08,\n",
       "       hidden_layer_sizes=(100,), learning_rate='constant',\n",
       "       learning_rate_init=0.001, max_iter=200, momentum=0.9,\n",
       "       nesterovs_momentum=True, power_t=0.5, random_state=None,\n",
       "       shuffle=True, solver='adam', tol=0.0001, validation_fraction=0.1,\n",
       "       verbose=False, warm_start=False)"
      ]
     },
     "execution_count": 6,
     "metadata": {},
     "output_type": "execute_result"
    }
   ],
   "source": [
    "mlp = MLPClassifier()\n",
    "mlp.fit(X_train,y_train)"
   ]
  },
  {
   "cell_type": "code",
   "execution_count": 7,
   "metadata": {},
   "outputs": [
    {
     "name": "stdout",
     "output_type": "stream",
     "text": [
      "Training set score: 0.965763\n"
     ]
    }
   ],
   "source": [
    "print(\"Training set score: %f\" % mlp.score(X_train,y_train))"
   ]
  },
  {
   "cell_type": "code",
   "execution_count": 8,
   "metadata": {},
   "outputs": [
    {
     "name": "stdout",
     "output_type": "stream",
     "text": [
      "Test set score: 0.960409\n"
     ]
    }
   ],
   "source": [
    "print(\"Test set score: %f\" % mlp.score(X_test, y_test))"
   ]
  },
  {
   "cell_type": "code",
   "execution_count": 9,
   "metadata": {},
   "outputs": [],
   "source": [
    "predictions = mlp.predict(X_test)"
   ]
  },
  {
   "cell_type": "code",
   "execution_count": 10,
   "metadata": {},
   "outputs": [
    {
     "name": "stdout",
     "output_type": "stream",
     "text": [
      "                precision    recall  f1-score   support\n",
      "\n",
      "     CONFIRMED       0.94      0.96      0.95       631\n",
      "FALSE POSITIVE       0.97      0.96      0.97       935\n",
      "\n",
      "   avg / total       0.96      0.96      0.96      1566\n",
      "\n"
     ]
    }
   ],
   "source": [
    "print(classification_report(y_test,predictions))"
   ]
  },
  {
   "cell_type": "code",
   "execution_count": 11,
   "metadata": {},
   "outputs": [
    {
     "name": "stdout",
     "output_type": "stream",
     "text": [
      "[[608  23]\n",
      " [ 39 896]]\n"
     ]
    }
   ],
   "source": [
    "print(confusion_matrix(y_test,predictions))"
   ]
  },
  {
   "cell_type": "code",
   "execution_count": 12,
   "metadata": {},
   "outputs": [
    {
     "name": "stdout",
     "output_type": "stream",
     "text": [
      "0.9604086845466155\n"
     ]
    }
   ],
   "source": [
    "print(accuracy_score(y_test,predictions))"
   ]
  },
  {
   "cell_type": "markdown",
   "metadata": {},
   "source": [
    "**MLP with StratifiedShuffleSplit - default parameters**"
   ]
  },
  {
   "cell_type": "code",
   "execution_count": 19,
   "metadata": {},
   "outputs": [
    {
     "name": "stdout",
     "output_type": "stream",
     "text": [
      "Fitting 100 folds for each of 1 candidates, totalling 100 fits\n"
     ]
    },
    {
     "name": "stderr",
     "output_type": "stream",
     "text": [
      "[Parallel(n_jobs=-1)]: Done  16 tasks      | elapsed:   30.4s\n",
      "[Parallel(n_jobs=-1)]: Done 100 out of 100 | elapsed:  2.1min finished\n"
     ]
    },
    {
     "data": {
      "text/plain": [
       "GridSearchCV(cv=StratifiedShuffleSplit(n_splits=100, random_state=3, test_size=0.3,\n",
       "            train_size=None),\n",
       "       error_score='raise',\n",
       "       estimator=MLPClassifier(activation='relu', alpha=0.0001, batch_size='auto', beta_1=0.9,\n",
       "       beta_2=0.999, early_stopping=False, epsilon=1e-08,\n",
       "       hidden_layer_sizes=(100,), learning_rate='constant',\n",
       "       learning_rate_init=0.001, max_iter=200, momentum=0.9,\n",
       "       nesterovs_momentum=True, power_t=0.5, random_state=None,\n",
       "       shuffle=True, solver='adam', tol=0.0001, validation_fraction=0.1,\n",
       "       verbose=False, warm_start=False),\n",
       "       fit_params=None, iid=True, n_jobs=-1, param_grid={},\n",
       "       pre_dispatch='2*n_jobs', refit=True, return_train_score='warn',\n",
       "       scoring=None, verbose=3)"
      ]
     },
     "execution_count": 19,
     "metadata": {},
     "output_type": "execute_result"
    }
   ],
   "source": [
    "parameters = {}\n",
    "mlp = MLPClassifier()\n",
    "ss = StratifiedShuffleSplit(n_splits=100, test_size=0.3, random_state=3)\n",
    "grid_mlp = GridSearchCV(mlp, parameters, cv=ss, n_jobs=-1, verbose=3)\n",
    "grid_mlp.fit(X,y)"
   ]
  },
  {
   "cell_type": "code",
   "execution_count": 20,
   "metadata": {},
   "outputs": [
    {
     "name": "stdout",
     "output_type": "stream",
     "text": [
      "Score: 0.965689\n"
     ]
    }
   ],
   "source": [
    "print(\"Score: %f\" % grid_mlp.score(X,y))"
   ]
  },
  {
   "cell_type": "code",
   "execution_count": 21,
   "metadata": {},
   "outputs": [],
   "source": [
    "predictions2 = grid_mlp.predict(X)"
   ]
  },
  {
   "cell_type": "code",
   "execution_count": 22,
   "metadata": {},
   "outputs": [
    {
     "name": "stdout",
     "output_type": "stream",
     "text": [
      "                precision    recall  f1-score   support\n",
      "\n",
      "     CONFIRMED       0.94      0.97      0.96      2102\n",
      "FALSE POSITIVE       0.98      0.96      0.97      3115\n",
      "\n",
      "   avg / total       0.97      0.97      0.97      5217\n",
      "\n"
     ]
    }
   ],
   "source": [
    "print(classification_report(y,predictions2))"
   ]
  },
  {
   "cell_type": "code",
   "execution_count": 23,
   "metadata": {},
   "outputs": [
    {
     "name": "stdout",
     "output_type": "stream",
     "text": [
      "[[2042   60]\n",
      " [ 119 2996]]\n"
     ]
    }
   ],
   "source": [
    "print(confusion_matrix(y,predictions2))"
   ]
  },
  {
   "cell_type": "code",
   "execution_count": 24,
   "metadata": {},
   "outputs": [
    {
     "name": "stdout",
     "output_type": "stream",
     "text": [
      "Fitting 100 folds for each of 1 candidates, totalling 100 fits\n"
     ]
    },
    {
     "name": "stderr",
     "output_type": "stream",
     "text": [
      "[Parallel(n_jobs=-1)]: Done  16 tasks      | elapsed:   25.3s\n",
      "[Parallel(n_jobs=-1)]: Done 100 out of 100 | elapsed:  1.7min finished\n"
     ]
    },
    {
     "name": "stdout",
     "output_type": "stream",
     "text": [
      "Fitting 100 folds for each of 1 candidates, totalling 100 fits\n"
     ]
    },
    {
     "name": "stderr",
     "output_type": "stream",
     "text": [
      "[Parallel(n_jobs=-1)]: Done  16 tasks      | elapsed:   22.8s\n",
      "[Parallel(n_jobs=-1)]: Done 100 out of 100 | elapsed:  1.6min finished\n"
     ]
    },
    {
     "name": "stdout",
     "output_type": "stream",
     "text": [
      "Fitting 100 folds for each of 1 candidates, totalling 100 fits\n"
     ]
    },
    {
     "name": "stderr",
     "output_type": "stream",
     "text": [
      "[Parallel(n_jobs=-1)]: Done  16 tasks      | elapsed:   23.8s\n",
      "[Parallel(n_jobs=-1)]: Done 100 out of 100 | elapsed:  1.7min finished\n"
     ]
    },
    {
     "name": "stdout",
     "output_type": "stream",
     "text": [
      "[0.9454023  0.97354802 0.94994246]\n"
     ]
    }
   ],
   "source": [
    "from sklearn.model_selection import cross_val_score\n",
    "cvs=cross_val_score(grid_mlp, X, y, cv=3, scoring=\"accuracy\")\n",
    "print(cvs)"
   ]
  },
  {
   "cell_type": "markdown",
   "metadata": {},
   "source": [
    "**MLP with Stratified Split - 1st set of parameters**"
   ]
  },
  {
   "cell_type": "code",
   "execution_count": 25,
   "metadata": {},
   "outputs": [
    {
     "name": "stdout",
     "output_type": "stream",
     "text": [
      "Fitting 100 folds for each of 324 candidates, totalling 32400 fits\n"
     ]
    },
    {
     "name": "stderr",
     "output_type": "stream",
     "text": [
      "[Parallel(n_jobs=-1)]: Done  16 tasks      | elapsed:   11.8s\n",
      "[Parallel(n_jobs=-1)]: Done 112 tasks      | elapsed:   15.7s\n",
      "[Parallel(n_jobs=-1)]: Done 272 tasks      | elapsed:   30.5s\n",
      "[Parallel(n_jobs=-1)]: Done 496 tasks      | elapsed:   53.7s\n",
      "[Parallel(n_jobs=-1)]: Done 784 tasks      | elapsed:  1.5min\n",
      "[Parallel(n_jobs=-1)]: Done 1136 tasks      | elapsed:  2.1min\n",
      "[Parallel(n_jobs=-1)]: Done 1552 tasks      | elapsed:  2.7min\n",
      "[Parallel(n_jobs=-1)]: Done 2032 tasks      | elapsed:  3.5min\n",
      "[Parallel(n_jobs=-1)]: Done 2576 tasks      | elapsed:  4.6min\n",
      "[Parallel(n_jobs=-1)]: Done 3184 tasks      | elapsed:  5.9min\n",
      "[Parallel(n_jobs=-1)]: Done 3856 tasks      | elapsed:  7.6min\n",
      "[Parallel(n_jobs=-1)]: Done 4592 tasks      | elapsed:  9.0min\n",
      "[Parallel(n_jobs=-1)]: Done 5392 tasks      | elapsed: 11.1min\n",
      "[Parallel(n_jobs=-1)]: Done 6256 tasks      | elapsed: 13.4min\n",
      "[Parallel(n_jobs=-1)]: Done 7184 tasks      | elapsed: 15.3min\n",
      "[Parallel(n_jobs=-1)]: Done 8176 tasks      | elapsed: 17.9min\n",
      "[Parallel(n_jobs=-1)]: Done 9232 tasks      | elapsed: 20.4min\n",
      "[Parallel(n_jobs=-1)]: Done 10352 tasks      | elapsed: 22.6min\n",
      "[Parallel(n_jobs=-1)]: Done 11536 tasks      | elapsed: 26.5min\n",
      "[Parallel(n_jobs=-1)]: Done 12784 tasks      | elapsed: 30.0min\n",
      "[Parallel(n_jobs=-1)]: Done 14096 tasks      | elapsed: 35.1min\n",
      "[Parallel(n_jobs=-1)]: Done 15472 tasks      | elapsed: 40.1min\n",
      "[Parallel(n_jobs=-1)]: Done 16912 tasks      | elapsed: 45.1min\n",
      "[Parallel(n_jobs=-1)]: Done 18416 tasks      | elapsed: 48.1min\n",
      "[Parallel(n_jobs=-1)]: Done 19984 tasks      | elapsed: 53.4min\n",
      "[Parallel(n_jobs=-1)]: Done 21616 tasks      | elapsed: 58.9min\n",
      "[Parallel(n_jobs=-1)]: Done 23312 tasks      | elapsed: 64.7min\n",
      "[Parallel(n_jobs=-1)]: Done 25072 tasks      | elapsed: 70.4min\n",
      "[Parallel(n_jobs=-1)]: Done 26896 tasks      | elapsed: 74.4min\n",
      "[Parallel(n_jobs=-1)]: Done 28784 tasks      | elapsed: 80.3min\n",
      "[Parallel(n_jobs=-1)]: Done 30736 tasks      | elapsed: 84.7min\n",
      "[Parallel(n_jobs=-1)]: Done 32400 out of 32400 | elapsed: 88.5min finished\n"
     ]
    },
    {
     "data": {
      "text/plain": [
       "GridSearchCV(cv=StratifiedShuffleSplit(n_splits=100, random_state=3, test_size=0.3,\n",
       "            train_size=None),\n",
       "       error_score='raise',\n",
       "       estimator=MLPClassifier(activation='relu', alpha=0.0001, batch_size='auto', beta_1=0.9,\n",
       "       beta_2=0.999, early_stopping=False, epsilon=1e-08,\n",
       "       hidden_layer_sizes=(100,), learning_rate='constant',\n",
       "       learning_rate_init=0.001, max_iter=200, momentum=0.9,\n",
       "       nesterovs_momentum=True, power_t=0.5, random_state=None,\n",
       "       shuffle=True, solver='adam', tol=0.0001, validation_fraction=0.1,\n",
       "       verbose=False, warm_start=False),\n",
       "       fit_params=None, iid=True, n_jobs=-1,\n",
       "       param_grid={'solver': ['lbfgs', 'sgd', 'adam'], 'activation': ['identity', 'logistic', 'tanh', 'relu'], 'hidden_layer_sizes': [20, 40, 60], 'alpha': [1e-05], 'learning_rate': ['constant', 'invscaling', 'adaptive'], 'max_iter': [20, 40, 60], 'tol': [0.001]},\n",
       "       pre_dispatch='2*n_jobs', refit=True, return_train_score='warn',\n",
       "       scoring=None, verbose=3)"
      ]
     },
     "execution_count": 25,
     "metadata": {},
     "output_type": "execute_result"
    }
   ],
   "source": [
    "parameters = {'solver':['lbfgs','sgd','adam'],'activation':['identity','logistic','tanh','relu'],\n",
    "            'hidden_layer_sizes':[20,40,60],'alpha':[1e-5],\n",
    "            'learning_rate':['constant','invscaling','adaptive'],\n",
    "           'max_iter':[20,40,60],'tol':[1e-3]}\n",
    "mlp = MLPClassifier()\n",
    "ss = StratifiedShuffleSplit(n_splits=100, test_size=0.3, random_state=3)\n",
    "grid_mlp = GridSearchCV(mlp, parameters, cv=ss, n_jobs=-1, verbose=3)\n",
    "grid_mlp.fit(X,y)"
   ]
  },
  {
   "cell_type": "code",
   "execution_count": 26,
   "metadata": {},
   "outputs": [
    {
     "name": "stdout",
     "output_type": "stream",
     "text": [
      "0.9691393521180756\n",
      "{'activation': 'relu', 'alpha': 1e-05, 'hidden_layer_sizes': 40, 'learning_rate': 'invscaling', 'max_iter': 40, 'solver': 'lbfgs', 'tol': 0.001}\n"
     ]
    }
   ],
   "source": [
    "print(grid_mlp.score(X, y))\n",
    "print(grid_mlp.best_params_)"
   ]
  },
  {
   "cell_type": "code",
   "execution_count": 27,
   "metadata": {},
   "outputs": [],
   "source": [
    "predictions3 = grid_mlp.predict(X)"
   ]
  },
  {
   "cell_type": "code",
   "execution_count": 28,
   "metadata": {},
   "outputs": [
    {
     "name": "stdout",
     "output_type": "stream",
     "text": [
      "                precision    recall  f1-score   support\n",
      "\n",
      "     CONFIRMED       0.95      0.97      0.96      2102\n",
      "FALSE POSITIVE       0.98      0.97      0.97      3115\n",
      "\n",
      "   avg / total       0.97      0.97      0.97      5217\n",
      "\n"
     ]
    }
   ],
   "source": [
    "print(classification_report(y,predictions3))"
   ]
  },
  {
   "cell_type": "code",
   "execution_count": 29,
   "metadata": {},
   "outputs": [
    {
     "name": "stdout",
     "output_type": "stream",
     "text": [
      "[[2040   62]\n",
      " [  99 3016]]\n"
     ]
    }
   ],
   "source": [
    "print(confusion_matrix(y,predictions3))"
   ]
  },
  {
   "cell_type": "code",
   "execution_count": 30,
   "metadata": {},
   "outputs": [
    {
     "name": "stdout",
     "output_type": "stream",
     "text": [
      "Validation Accuracy: 95.7713 (+/- 0.91)\n",
      "Train Accuracy: 97.03 (+/- 0.45)\n"
     ]
    }
   ],
   "source": [
    "from sklearn.model_selection import cross_validate\n",
    "mlp_clf = MLPClassifier(activation='relu', alpha=1e-05, hidden_layer_sizes=40, learning_rate='invscaling', max_iter=40, solver='lbfgs', tol=0.001)\n",
    "ss = StratifiedShuffleSplit(n_splits=1000, test_size=0.3, random_state=3)\n",
    "scores=cross_validate(mlp_clf, X, y, cv=ss, return_train_score=True, scoring='accuracy', n_jobs=-1)\n",
    "\n",
    "print(\"Validation Accuracy: %0.4f (+/- %0.2f)\" % (scores['test_score'].mean()*100, scores['test_score'].std()*2*100))\n",
    "print(\"Train Accuracy: %0.2f (+/- %0.2f)\" % (scores['train_score'].mean()*100, scores['train_score'].std()*2*100))"
   ]
  },
  {
   "cell_type": "markdown",
   "metadata": {},
   "source": [
    "**MLP with Stratified Split - 2nd set of parameters**"
   ]
  },
  {
   "cell_type": "code",
   "execution_count": 31,
   "metadata": {},
   "outputs": [
    {
     "name": "stdout",
     "output_type": "stream",
     "text": [
      "Fitting 100 folds for each of 9 candidates, totalling 900 fits\n"
     ]
    },
    {
     "name": "stderr",
     "output_type": "stream",
     "text": [
      "[Parallel(n_jobs=-1)]: Done  16 tasks      | elapsed:    6.9s\n",
      "[Parallel(n_jobs=-1)]: Done 112 tasks      | elapsed:   12.5s\n",
      "[Parallel(n_jobs=-1)]: Done 272 tasks      | elapsed:   25.2s\n",
      "[Parallel(n_jobs=-1)]: Done 496 tasks      | elapsed:   45.7s\n",
      "[Parallel(n_jobs=-1)]: Done 784 tasks      | elapsed:  1.3min\n",
      "[Parallel(n_jobs=-1)]: Done 900 out of 900 | elapsed:  1.6min finished\n"
     ]
    },
    {
     "data": {
      "text/plain": [
       "GridSearchCV(cv=StratifiedShuffleSplit(n_splits=100, random_state=3, test_size=0.3,\n",
       "            train_size=None),\n",
       "       error_score='raise',\n",
       "       estimator=MLPClassifier(activation='relu', alpha=0.0001, batch_size='auto', beta_1=0.9,\n",
       "       beta_2=0.999, early_stopping=False, epsilon=1e-08,\n",
       "       hidden_layer_sizes=(100,), learning_rate='constant',\n",
       "       learning_rate_init=0.001, max_iter=200, momentum=0.9,\n",
       "       nesterovs_momentum=True, power_t=0.5, random_state=None,\n",
       "       shuffle=True, solver='adam', tol=0.0001, validation_fraction=0.1,\n",
       "       verbose=False, warm_start=False),\n",
       "       fit_params=None, iid=True, n_jobs=-1,\n",
       "       param_grid={'solver': ['lbfgs'], 'activation': ['relu'], 'hidden_layer_sizes': [30, 40, 50], 'alpha': [1e-05], 'learning_rate': ['invscaling'], 'max_iter': [30, 40, 50], 'tol': [0.001]},\n",
       "       pre_dispatch='2*n_jobs', refit=True, return_train_score='warn',\n",
       "       scoring=None, verbose=3)"
      ]
     },
     "execution_count": 31,
     "metadata": {},
     "output_type": "execute_result"
    }
   ],
   "source": [
    "parameters = {'solver':['lbfgs'],'activation':['relu'],\n",
    "            'hidden_layer_sizes':[30,40,50],'alpha':[1e-5],\n",
    "            'learning_rate':['invscaling'],\n",
    "           'max_iter':[30,40,50],'tol':[1e-3]}\n",
    "mlp = MLPClassifier()\n",
    "ss = StratifiedShuffleSplit(n_splits=100, test_size=0.3, random_state=3)\n",
    "grid_mlp = GridSearchCV(mlp, parameters, cv=ss, n_jobs=-1, verbose=3)\n",
    "grid_mlp.fit(X,y)"
   ]
  },
  {
   "cell_type": "code",
   "execution_count": 32,
   "metadata": {},
   "outputs": [
    {
     "name": "stdout",
     "output_type": "stream",
     "text": [
      "0.9660724554341575\n",
      "{'activation': 'relu', 'alpha': 1e-05, 'hidden_layer_sizes': 50, 'learning_rate': 'invscaling', 'max_iter': 40, 'solver': 'lbfgs', 'tol': 0.001}\n"
     ]
    }
   ],
   "source": [
    "print(grid_mlp.score(X, y))\n",
    "print(grid_mlp.best_params_)"
   ]
  },
  {
   "cell_type": "code",
   "execution_count": 33,
   "metadata": {},
   "outputs": [],
   "source": [
    "predictions4 = grid_mlp.predict(X)"
   ]
  },
  {
   "cell_type": "code",
   "execution_count": 34,
   "metadata": {},
   "outputs": [
    {
     "name": "stdout",
     "output_type": "stream",
     "text": [
      "                precision    recall  f1-score   support\n",
      "\n",
      "     CONFIRMED       0.95      0.97      0.96      2102\n",
      "FALSE POSITIVE       0.98      0.97      0.97      3115\n",
      "\n",
      "   avg / total       0.97      0.97      0.97      5217\n",
      "\n"
     ]
    }
   ],
   "source": [
    "print(classification_report(y,predictions4))"
   ]
  },
  {
   "cell_type": "code",
   "execution_count": 35,
   "metadata": {},
   "outputs": [
    {
     "name": "stdout",
     "output_type": "stream",
     "text": [
      "[[2033   69]\n",
      " [ 108 3007]]\n"
     ]
    }
   ],
   "source": [
    "print(confusion_matrix(y,predictions4))"
   ]
  },
  {
   "cell_type": "code",
   "execution_count": 36,
   "metadata": {},
   "outputs": [
    {
     "name": "stdout",
     "output_type": "stream",
     "text": [
      "Validation Accuracy: 95.7757 (+/- 0.90)\n",
      "Train Accuracy: 97.09 (+/- 0.44)\n"
     ]
    }
   ],
   "source": [
    "from sklearn.model_selection import cross_validate\n",
    "mlp_clf = MLPClassifier(activation='relu', alpha=1e-05, hidden_layer_sizes=50, learning_rate='invscaling', max_iter=40, solver='lbfgs', tol=0.001)\n",
    "ss = StratifiedShuffleSplit(n_splits=1000, test_size=0.3, random_state=3)\n",
    "scores=cross_validate(mlp_clf, X, y, cv=ss, return_train_score=True, scoring='accuracy', n_jobs=-1)\n",
    "\n",
    "print(\"Validation Accuracy: %0.4f (+/- %0.2f)\" % (scores['test_score'].mean()*100, scores['test_score'].std()*2*100))\n",
    "print(\"Train Accuracy: %0.2f (+/- %0.2f)\" % (scores['train_score'].mean()*100, scores['train_score'].std()*2*100))"
   ]
  },
  {
   "cell_type": "markdown",
   "metadata": {},
   "source": [
    "**MLP With Stratified Split - 3rd set of parameters**"
   ]
  },
  {
   "cell_type": "code",
   "execution_count": 37,
   "metadata": {},
   "outputs": [
    {
     "name": "stdout",
     "output_type": "stream",
     "text": [
      "Fitting 100 folds for each of 30 candidates, totalling 3000 fits\n"
     ]
    },
    {
     "name": "stderr",
     "output_type": "stream",
     "text": [
      "[Parallel(n_jobs=-1)]: Done  16 tasks      | elapsed:    8.0s\n",
      "[Parallel(n_jobs=-1)]: Done 112 tasks      | elapsed:   17.8s\n",
      "[Parallel(n_jobs=-1)]: Done 272 tasks      | elapsed:   37.1s\n",
      "[Parallel(n_jobs=-1)]: Done 496 tasks      | elapsed:   44.7s\n",
      "[Parallel(n_jobs=-1)]: Done 784 tasks      | elapsed:  1.3min\n",
      "[Parallel(n_jobs=-1)]: Done 1136 tasks      | elapsed:  1.7min\n",
      "[Parallel(n_jobs=-1)]: Done 1552 tasks      | elapsed:  2.2min\n",
      "[Parallel(n_jobs=-1)]: Done 2032 tasks      | elapsed:  2.9min\n",
      "[Parallel(n_jobs=-1)]: Done 2576 tasks      | elapsed:  3.6min\n",
      "[Parallel(n_jobs=-1)]: Done 3000 out of 3000 | elapsed:  4.2min finished\n"
     ]
    },
    {
     "data": {
      "text/plain": [
       "GridSearchCV(cv=StratifiedShuffleSplit(n_splits=100, random_state=3, test_size=0.3,\n",
       "            train_size=None),\n",
       "       error_score='raise',\n",
       "       estimator=MLPClassifier(activation='relu', alpha=0.0001, batch_size='auto', beta_1=0.9,\n",
       "       beta_2=0.999, early_stopping=False, epsilon=1e-08,\n",
       "       hidden_layer_sizes=(100,), learning_rate='constant',\n",
       "       learning_rate_init=0.001, max_iter=200, momentum=0.9,\n",
       "       nesterovs_momentum=True, power_t=0.5, random_state=None,\n",
       "       shuffle=True, solver='adam', tol=0.0001, validation_fraction=0.1,\n",
       "       verbose=False, warm_start=False),\n",
       "       fit_params=None, iid=True, n_jobs=-1,\n",
       "       param_grid={'solver': ['lbfgs'], 'activation': ['relu'], 'hidden_layer_sizes': [50], 'alpha': [1e-07, 1e-06, 1e-05, 0.0001, 0.01, 0.1], 'learning_rate': ['invscaling'], 'max_iter': [40], 'tol': [1e-05, 0.0001, 0.001, 0.01, 0.1]},\n",
       "       pre_dispatch='2*n_jobs', refit=True, return_train_score='warn',\n",
       "       scoring=None, verbose=3)"
      ]
     },
     "execution_count": 37,
     "metadata": {},
     "output_type": "execute_result"
    }
   ],
   "source": [
    "parameters = {'solver':['lbfgs'],'activation':['relu'],\n",
    "            'hidden_layer_sizes':[50],'alpha':[1e-7,1e-6,1e-5,1e-4,1e-2,1e-1],\n",
    "            'learning_rate':['invscaling'],\n",
    "           'max_iter':[40],'tol':[0.00001,0.0001,0.001,0.01,0.1]}\n",
    "mlp = MLPClassifier()\n",
    "ss = StratifiedShuffleSplit(n_splits=100, test_size=0.3, random_state=3)\n",
    "grid_mlp = GridSearchCV(mlp, parameters, cv=ss, n_jobs=-1, verbose=3)\n",
    "grid_mlp.fit(X,y)"
   ]
  },
  {
   "cell_type": "code",
   "execution_count": 38,
   "metadata": {},
   "outputs": [
    {
     "name": "stdout",
     "output_type": "stream",
     "text": [
      "0.9672225416906268\n",
      "{'activation': 'relu', 'alpha': 0.1, 'hidden_layer_sizes': 50, 'learning_rate': 'invscaling', 'max_iter': 40, 'solver': 'lbfgs', 'tol': 1e-05}\n"
     ]
    }
   ],
   "source": [
    "print(grid_mlp.score(X, y))\n",
    "print(grid_mlp.best_params_)"
   ]
  },
  {
   "cell_type": "code",
   "execution_count": 57,
   "metadata": {},
   "outputs": [],
   "source": [
    "predictions5 = grid_mlp.predict(X)"
   ]
  },
  {
   "cell_type": "code",
   "execution_count": 58,
   "metadata": {},
   "outputs": [
    {
     "name": "stdout",
     "output_type": "stream",
     "text": [
      "                precision    recall  f1-score   support\n",
      "\n",
      "     CONFIRMED       0.96      0.98      0.97      2102\n",
      "FALSE POSITIVE       0.99      0.97      0.98      3115\n",
      "\n",
      "   avg / total       0.98      0.98      0.98      5217\n",
      "\n"
     ]
    }
   ],
   "source": [
    "print(classification_report(y,predictions5))"
   ]
  },
  {
   "cell_type": "code",
   "execution_count": 59,
   "metadata": {},
   "outputs": [
    {
     "name": "stdout",
     "output_type": "stream",
     "text": [
      "[[2064   38]\n",
      " [  80 3035]]\n"
     ]
    }
   ],
   "source": [
    "print(confusion_matrix(y,predictions5))"
   ]
  },
  {
   "cell_type": "code",
   "execution_count": 39,
   "metadata": {},
   "outputs": [
    {
     "name": "stdout",
     "output_type": "stream",
     "text": [
      "Validation Accuracy: 95.8096 (+/- 0.91)\n",
      "Train Accuracy: 97.09 (+/- 0.44)\n"
     ]
    }
   ],
   "source": [
    "from sklearn.model_selection import cross_validate\n",
    "mlp_clf = MLPClassifier(activation='relu', alpha=0.1, hidden_layer_sizes=50, learning_rate='invscaling', max_iter=40, solver='lbfgs', tol=0.00001)\n",
    "ss = StratifiedShuffleSplit(n_splits=1000, test_size=0.3, random_state=3)\n",
    "scores = cross_validate(mlp_clf, X, y, cv=ss, return_train_score=True, scoring='accuracy', n_jobs=-1)\n",
    "\n",
    "print(\"Validation Accuracy: %0.4f (+/- %0.2f)\" % (scores['test_score'].mean()*100, scores['test_score'].std()*2*100))\n",
    "print(\"Train Accuracy: %0.2f (+/- %0.2f)\" % (scores['train_score'].mean()*100, scores['train_score'].std()*2*100))"
   ]
  },
  {
   "cell_type": "markdown",
   "metadata": {},
   "source": [
    "**MLP with StratifiedShuffleSplit - 4th set of parameters**"
   ]
  },
  {
   "cell_type": "code",
   "execution_count": 40,
   "metadata": {},
   "outputs": [
    {
     "name": "stdout",
     "output_type": "stream",
     "text": [
      "Fitting 100 folds for each of 12 candidates, totalling 1200 fits\n"
     ]
    },
    {
     "name": "stderr",
     "output_type": "stream",
     "text": [
      "[Parallel(n_jobs=-1)]: Done  16 tasks      | elapsed:    7.9s\n",
      "[Parallel(n_jobs=-1)]: Done 112 tasks      | elapsed:   17.8s\n",
      "[Parallel(n_jobs=-1)]: Done 272 tasks      | elapsed:   38.3s\n",
      "[Parallel(n_jobs=-1)]: Done 496 tasks      | elapsed:  1.1min\n",
      "[Parallel(n_jobs=-1)]: Done 784 tasks      | elapsed:  1.7min\n",
      "[Parallel(n_jobs=-1)]: Done 1136 tasks      | elapsed:  2.5min\n",
      "[Parallel(n_jobs=-1)]: Done 1200 out of 1200 | elapsed:  2.6min finished\n"
     ]
    },
    {
     "data": {
      "text/plain": [
       "GridSearchCV(cv=StratifiedShuffleSplit(n_splits=100, random_state=3, test_size=0.3,\n",
       "            train_size=None),\n",
       "       error_score='raise',\n",
       "       estimator=MLPClassifier(activation='relu', alpha=0.0001, batch_size='auto', beta_1=0.9,\n",
       "       beta_2=0.999, early_stopping=False, epsilon=1e-08,\n",
       "       hidden_layer_sizes=(100,), learning_rate='constant',\n",
       "       learning_rate_init=0.001, max_iter=200, momentum=0.9,\n",
       "       nesterovs_momentum=True, power_t=0.5, random_state=None,\n",
       "       shuffle=True, solver='adam', tol=0.0001, validation_fraction=0.1,\n",
       "       verbose=False, warm_start=False),\n",
       "       fit_params=None, iid=True, n_jobs=-1,\n",
       "       param_grid={'solver': ['lbfgs'], 'activation': ['relu'], 'hidden_layer_sizes': [50], 'alpha': [0.1, 0.25, 0.5, 0.75], 'learning_rate': ['invscaling'], 'max_iter': [40], 'tol': [1e-07, 1e-06, 1e-05]},\n",
       "       pre_dispatch='2*n_jobs', refit=True, return_train_score='warn',\n",
       "       scoring=None, verbose=3)"
      ]
     },
     "execution_count": 40,
     "metadata": {},
     "output_type": "execute_result"
    }
   ],
   "source": [
    "parameters = {'solver':['lbfgs'],'activation':['relu'],\n",
    "            'hidden_layer_sizes':[50],'alpha':[0.1,0.25,0.5,0.75],\n",
    "            'learning_rate':['invscaling'],\n",
    "           'max_iter':[40],'tol':[0.0000001,0.000001,0.00001]}\n",
    "mlp = MLPClassifier()\n",
    "ss = StratifiedShuffleSplit(n_splits=100, test_size=0.3, random_state=3)\n",
    "grid_mlp = GridSearchCV(mlp, parameters, cv=ss, n_jobs=-1, verbose=3)\n",
    "grid_mlp.fit(X,y)"
   ]
  },
  {
   "cell_type": "code",
   "execution_count": 41,
   "metadata": {},
   "outputs": [
    {
     "name": "stdout",
     "output_type": "stream",
     "text": [
      "0.9666474985623922\n",
      "{'activation': 'relu', 'alpha': 0.25, 'hidden_layer_sizes': 50, 'learning_rate': 'invscaling', 'max_iter': 40, 'solver': 'lbfgs', 'tol': 1e-05}\n"
     ]
    }
   ],
   "source": [
    "print(grid_mlp.score(X, y))\n",
    "print(grid_mlp.best_params_)"
   ]
  },
  {
   "cell_type": "code",
   "execution_count": 42,
   "metadata": {},
   "outputs": [],
   "source": [
    "predictions6 = grid_mlp.predict(X)"
   ]
  },
  {
   "cell_type": "code",
   "execution_count": 43,
   "metadata": {},
   "outputs": [
    {
     "name": "stdout",
     "output_type": "stream",
     "text": [
      "                precision    recall  f1-score   support\n",
      "\n",
      "     CONFIRMED       0.95      0.97      0.96      2102\n",
      "FALSE POSITIVE       0.98      0.97      0.97      3115\n",
      "\n",
      "   avg / total       0.97      0.97      0.97      5217\n",
      "\n"
     ]
    }
   ],
   "source": [
    "print(classification_report(y,predictions6))"
   ]
  },
  {
   "cell_type": "code",
   "execution_count": 44,
   "metadata": {},
   "outputs": [
    {
     "name": "stdout",
     "output_type": "stream",
     "text": [
      "[[2029   73]\n",
      " [ 101 3014]]\n"
     ]
    }
   ],
   "source": [
    "print(confusion_matrix(y,predictions6))"
   ]
  },
  {
   "cell_type": "code",
   "execution_count": 45,
   "metadata": {},
   "outputs": [
    {
     "name": "stdout",
     "output_type": "stream",
     "text": [
      "Validation Accuracy: 95.8257 (+/- 0.88)\n",
      "Train Accuracy: 97.06 (+/- 0.44)\n"
     ]
    }
   ],
   "source": [
    "from sklearn.model_selection import cross_validate\n",
    "mlp_clf = MLPClassifier(activation='relu', alpha=0.25, hidden_layer_sizes=50, learning_rate='invscaling', max_iter=40, solver='lbfgs', tol=0.00001)\n",
    "ss = StratifiedShuffleSplit(n_splits=1000, test_size=0.3, random_state=3)\n",
    "scores = cross_validate(mlp_clf, X, y, cv=ss, return_train_score=True, scoring='accuracy', n_jobs=-1)\n",
    "\n",
    "print(\"Validation Accuracy: %0.4f (+/- %0.2f)\" % (scores['test_score'].mean()*100, scores['test_score'].std()*2*100))\n",
    "print(\"Train Accuracy: %0.2f (+/- %0.2f)\" % (scores['train_score'].mean()*100, scores['train_score'].std()*2*100))"
   ]
  },
  {
   "cell_type": "markdown",
   "metadata": {},
   "source": [
    "**Top parameters but learning rate is 'constant' instead of 'invscaling'**"
   ]
  },
  {
   "cell_type": "code",
   "execution_count": 47,
   "metadata": {},
   "outputs": [
    {
     "name": "stdout",
     "output_type": "stream",
     "text": [
      "Validation Accuracy: 95.8065 (+/- 0.89)\n",
      "Train Accuracy: 97.07 (+/- 0.42)\n"
     ]
    }
   ],
   "source": [
    "from sklearn.model_selection import cross_validate\n",
    "mlp_clf = MLPClassifier(activation='relu', alpha=0.25, hidden_layer_sizes=50, learning_rate='constant', max_iter=40, solver='lbfgs', tol=0.00001)\n",
    "ss = StratifiedShuffleSplit(n_splits=1000, test_size=0.3, random_state=3)\n",
    "scores = cross_validate(mlp_clf, X, y, cv=ss, return_train_score=True, scoring='accuracy', n_jobs=-1)\n",
    "\n",
    "print(\"Validation Accuracy: %0.4f (+/- %0.2f)\" % (scores['test_score'].mean()*100, scores['test_score'].std()*2*100))\n",
    "print(\"Train Accuracy: %0.2f (+/- %0.2f)\" % (scores['train_score'].mean()*100, scores['train_score'].std()*2*100))"
   ]
  },
  {
   "cell_type": "markdown",
   "metadata": {},
   "source": [
    "**GridSearch with best parameters and including default max_iter value (using only training data)**"
   ]
  },
  {
   "cell_type": "code",
   "execution_count": 55,
   "metadata": {},
   "outputs": [
    {
     "name": "stdout",
     "output_type": "stream",
     "text": [
      "Fitting 100 folds for each of 3 candidates, totalling 300 fits\n"
     ]
    },
    {
     "name": "stderr",
     "output_type": "stream",
     "text": [
      "[Parallel(n_jobs=-1)]: Done  16 tasks      | elapsed:   12.5s\n",
      "[Parallel(n_jobs=-1)]: Done 112 tasks      | elapsed:   24.3s\n",
      "[Parallel(n_jobs=-1)]: Done 272 tasks      | elapsed:  1.4min\n",
      "[Parallel(n_jobs=-1)]: Done 300 out of 300 | elapsed:  1.6min finished\n"
     ]
    },
    {
     "data": {
      "text/plain": [
       "GridSearchCV(cv=StratifiedShuffleSplit(n_splits=100, random_state=3, test_size=0.3,\n",
       "            train_size=None),\n",
       "       error_score='raise',\n",
       "       estimator=MLPClassifier(activation='relu', alpha=0.0001, batch_size='auto', beta_1=0.9,\n",
       "       beta_2=0.999, early_stopping=False, epsilon=1e-08,\n",
       "       hidden_layer_sizes=(100,), learning_rate='constant',\n",
       "       learning_rate_init=0.001, max_iter=200, momentum=0.9,\n",
       "       nesterovs_momentum=True, power_t=0.5, random_state=None,\n",
       "       shuffle=True, solver='adam', tol=0.0001, validation_fraction=0.1,\n",
       "       verbose=False, warm_start=False),\n",
       "       fit_params=None, iid=True, n_jobs=-1,\n",
       "       param_grid={'solver': ['lbfgs'], 'activation': ['relu'], 'hidden_layer_sizes': [50], 'alpha': [0.25], 'learning_rate': ['invscaling'], 'max_iter': [40, 100, 200], 'tol': [1e-05]},\n",
       "       pre_dispatch='2*n_jobs', refit=True, return_train_score='warn',\n",
       "       scoring=None, verbose=3)"
      ]
     },
     "execution_count": 55,
     "metadata": {},
     "output_type": "execute_result"
    }
   ],
   "source": [
    "parameters={'solver':['lbfgs'],'activation':['relu'],\n",
    "            'hidden_layer_sizes':[50],'alpha':[0.25],\n",
    "            'learning_rate':['invscaling'],\n",
    "           'max_iter':[40,100,200],'tol':[0.00001]}\n",
    "mlp = MLPClassifier()\n",
    "ss = StratifiedShuffleSplit(n_splits=100, test_size=0.3, random_state=3)\n",
    "grid_mlp = GridSearchCV(mlp, parameters, cv=ss, n_jobs=-1, verbose=3)\n",
    "grid_mlp.fit(X_train,y_train)"
   ]
  },
  {
   "cell_type": "code",
   "execution_count": 56,
   "metadata": {},
   "outputs": [
    {
     "name": "stdout",
     "output_type": "stream",
     "text": [
      "0.9674142227333716\n",
      "{'activation': 'relu', 'alpha': 0.25, 'hidden_layer_sizes': 50, 'learning_rate': 'invscaling', 'max_iter': 40, 'solver': 'lbfgs', 'tol': 1e-05}\n"
     ]
    }
   ],
   "source": [
    "print(grid_mlp.score(X, y))\n",
    "print(grid_mlp.best_params_)"
   ]
  },
  {
   "cell_type": "code",
   "execution_count": 57,
   "metadata": {},
   "outputs": [],
   "source": [
    "predictions7 = grid_mlp.predict(X)"
   ]
  },
  {
   "cell_type": "code",
   "execution_count": 58,
   "metadata": {},
   "outputs": [
    {
     "name": "stdout",
     "output_type": "stream",
     "text": [
      "                precision    recall  f1-score   support\n",
      "\n",
      "     CONFIRMED       0.95      0.97      0.96      2102\n",
      "FALSE POSITIVE       0.98      0.97      0.97      3115\n",
      "\n",
      "   avg / total       0.97      0.97      0.97      5217\n",
      "\n"
     ]
    }
   ],
   "source": [
    "print(classification_report(y,predictions7))"
   ]
  },
  {
   "cell_type": "code",
   "execution_count": 59,
   "metadata": {},
   "outputs": [
    {
     "name": "stdout",
     "output_type": "stream",
     "text": [
      "Validation Accuracy: 95.6854 (+/- 1.12)\n",
      "Train Accuracy: 97.41 (+/- 0.54)\n"
     ]
    }
   ],
   "source": [
    "from sklearn.model_selection import cross_validate\n",
    "mlp_clf = MLPClassifier(activation='relu', alpha=0.25, hidden_layer_sizes=50, learning_rate='invscaling', max_iter=40, solver='lbfgs', tol=0.00001)\n",
    "ss = StratifiedShuffleSplit(n_splits=1000, test_size=0.3, random_state=3)\n",
    "scores = cross_validate(mlp_clf, X_train, y_train, cv=ss, return_train_score=True, scoring='accuracy', n_jobs=-1)\n",
    "\n",
    "print(\"Validation Accuracy: %0.4f (+/- %0.2f)\" % (scores['test_score'].mean()*100, scores['test_score'].std()*2*100))\n",
    "print(\"Train Accuracy: %0.2f (+/- %0.2f)\" % (scores['train_score'].mean()*100, scores['train_score'].std()*2*100))"
   ]
  },
  {
   "cell_type": "markdown",
   "metadata": {},
   "source": [
    "**Changing the scoring to 'roc_auc'**"
   ]
  },
  {
   "cell_type": "code",
   "execution_count": 86,
   "metadata": {},
   "outputs": [
    {
     "data": {
      "text/html": [
       "<div>\n",
       "<style scoped>\n",
       "    .dataframe tbody tr th:only-of-type {\n",
       "        vertical-align: middle;\n",
       "    }\n",
       "\n",
       "    .dataframe tbody tr th {\n",
       "        vertical-align: top;\n",
       "    }\n",
       "\n",
       "    .dataframe thead th {\n",
       "        text-align: right;\n",
       "    }\n",
       "</style>\n",
       "<table border=\"1\" class=\"dataframe\">\n",
       "  <thead>\n",
       "    <tr style=\"text-align: right;\">\n",
       "      <th></th>\n",
       "      <th>PRF Δθ&lt;sub&gt;SQ&lt;/sub&gt;(KIC) [arcsec]</th>\n",
       "      <th>Number of Planets</th>\n",
       "      <th>Planet-Star Radius Ratio</th>\n",
       "      <th>Planetary Radius [Earth radii]</th>\n",
       "      <th>PRF Δθ&lt;sub&gt;SQ&lt;/sub&gt;(OOT) [arcsec]</th>\n",
       "      <th>Maximum Multiple Event Statistic</th>\n",
       "      <th>FW Offset Significance [percent]</th>\n",
       "      <th>Planet-Star Distance over Star Radius</th>\n",
       "      <th>Transit Depth [ppm]</th>\n",
       "      <th>Transit Signal-to-Noise</th>\n",
       "      <th>...</th>\n",
       "      <th>Stellar Metallicity [dex]</th>\n",
       "      <th>FW Source Δα(OOT) [sec]</th>\n",
       "      <th>Transit Duration [hrs]</th>\n",
       "      <th>FW Source Δδ(OOT) [arcsec]</th>\n",
       "      <th>Maximum Single Event Statistic</th>\n",
       "      <th>Fitted Stellar Density [g/cm**3]</th>\n",
       "      <th>Orbit Semi-Major Axis [AU]</th>\n",
       "      <th>Orbital Period [days]</th>\n",
       "      <th>Insolation Flux [Earth flux]</th>\n",
       "      <th>Exoplanet Archive Disposition</th>\n",
       "    </tr>\n",
       "  </thead>\n",
       "  <tbody>\n",
       "    <tr>\n",
       "      <th>0</th>\n",
       "      <td>0.320</td>\n",
       "      <td>2</td>\n",
       "      <td>0.022344</td>\n",
       "      <td>2.26</td>\n",
       "      <td>0.200</td>\n",
       "      <td>28.470820</td>\n",
       "      <td>0.002</td>\n",
       "      <td>24.810</td>\n",
       "      <td>615.8</td>\n",
       "      <td>35.8</td>\n",
       "      <td>...</td>\n",
       "      <td>0.14</td>\n",
       "      <td>0.430</td>\n",
       "      <td>2.95750</td>\n",
       "      <td>0.940</td>\n",
       "      <td>5.135849</td>\n",
       "      <td>3.20796</td>\n",
       "      <td>0.0853</td>\n",
       "      <td>9.488036</td>\n",
       "      <td>93.59</td>\n",
       "      <td>1</td>\n",
       "    </tr>\n",
       "    <tr>\n",
       "      <th>1</th>\n",
       "      <td>0.500</td>\n",
       "      <td>2</td>\n",
       "      <td>0.027954</td>\n",
       "      <td>2.83</td>\n",
       "      <td>0.390</td>\n",
       "      <td>20.109507</td>\n",
       "      <td>0.003</td>\n",
       "      <td>77.900</td>\n",
       "      <td>874.8</td>\n",
       "      <td>25.8</td>\n",
       "      <td>...</td>\n",
       "      <td>0.14</td>\n",
       "      <td>-0.630</td>\n",
       "      <td>4.50700</td>\n",
       "      <td>1.230</td>\n",
       "      <td>7.027669</td>\n",
       "      <td>3.02368</td>\n",
       "      <td>0.2734</td>\n",
       "      <td>54.418383</td>\n",
       "      <td>9.11</td>\n",
       "      <td>1</td>\n",
       "    </tr>\n",
       "    <tr>\n",
       "      <th>2</th>\n",
       "      <td>0.276</td>\n",
       "      <td>1</td>\n",
       "      <td>0.387394</td>\n",
       "      <td>33.46</td>\n",
       "      <td>0.289</td>\n",
       "      <td>541.895100</td>\n",
       "      <td>0.000</td>\n",
       "      <td>3.278</td>\n",
       "      <td>8079.2</td>\n",
       "      <td>505.6</td>\n",
       "      <td>...</td>\n",
       "      <td>-0.52</td>\n",
       "      <td>-0.111</td>\n",
       "      <td>2.40641</td>\n",
       "      <td>0.002</td>\n",
       "      <td>39.066550</td>\n",
       "      <td>0.22080</td>\n",
       "      <td>0.0267</td>\n",
       "      <td>1.736952</td>\n",
       "      <td>891.96</td>\n",
       "      <td>0</td>\n",
       "    </tr>\n",
       "    <tr>\n",
       "      <th>3</th>\n",
       "      <td>0.070</td>\n",
       "      <td>1</td>\n",
       "      <td>0.024064</td>\n",
       "      <td>2.75</td>\n",
       "      <td>0.100</td>\n",
       "      <td>33.191900</td>\n",
       "      <td>0.733</td>\n",
       "      <td>8.750</td>\n",
       "      <td>603.3</td>\n",
       "      <td>40.9</td>\n",
       "      <td>...</td>\n",
       "      <td>0.07</td>\n",
       "      <td>-0.010</td>\n",
       "      <td>1.65450</td>\n",
       "      <td>0.230</td>\n",
       "      <td>4.749945</td>\n",
       "      <td>1.98635</td>\n",
       "      <td>0.0374</td>\n",
       "      <td>2.525592</td>\n",
       "      <td>926.16</td>\n",
       "      <td>1</td>\n",
       "    </tr>\n",
       "    <tr>\n",
       "      <th>4</th>\n",
       "      <td>8.948</td>\n",
       "      <td>1</td>\n",
       "      <td>0.183387</td>\n",
       "      <td>39.21</td>\n",
       "      <td>8.930</td>\n",
       "      <td>46.153080</td>\n",
       "      <td>0.000</td>\n",
       "      <td>2.400</td>\n",
       "      <td>233.7</td>\n",
       "      <td>47.7</td>\n",
       "      <td>...</td>\n",
       "      <td>0.00</td>\n",
       "      <td>-13.450</td>\n",
       "      <td>5.02200</td>\n",
       "      <td>24.090</td>\n",
       "      <td>10.964684</td>\n",
       "      <td>0.00485</td>\n",
       "      <td>0.0820</td>\n",
       "      <td>7.361790</td>\n",
       "      <td>767.22</td>\n",
       "      <td>0</td>\n",
       "    </tr>\n",
       "  </tbody>\n",
       "</table>\n",
       "<p>5 rows × 24 columns</p>\n",
       "</div>"
      ],
      "text/plain": [
       "   PRF Δθ<sub>SQ</sub>(KIC) [arcsec]  Number of Planets  \\\n",
       "0                              0.320                  2   \n",
       "1                              0.500                  2   \n",
       "2                              0.276                  1   \n",
       "3                              0.070                  1   \n",
       "4                              8.948                  1   \n",
       "\n",
       "   Planet-Star Radius Ratio  Planetary Radius [Earth radii]  \\\n",
       "0                  0.022344                            2.26   \n",
       "1                  0.027954                            2.83   \n",
       "2                  0.387394                           33.46   \n",
       "3                  0.024064                            2.75   \n",
       "4                  0.183387                           39.21   \n",
       "\n",
       "   PRF Δθ<sub>SQ</sub>(OOT) [arcsec]  Maximum Multiple Event Statistic  \\\n",
       "0                              0.200                         28.470820   \n",
       "1                              0.390                         20.109507   \n",
       "2                              0.289                        541.895100   \n",
       "3                              0.100                         33.191900   \n",
       "4                              8.930                         46.153080   \n",
       "\n",
       "   FW Offset Significance [percent]  Planet-Star Distance over Star Radius  \\\n",
       "0                             0.002                                 24.810   \n",
       "1                             0.003                                 77.900   \n",
       "2                             0.000                                  3.278   \n",
       "3                             0.733                                  8.750   \n",
       "4                             0.000                                  2.400   \n",
       "\n",
       "   Transit Depth [ppm]  Transit Signal-to-Noise  \\\n",
       "0                615.8                     35.8   \n",
       "1                874.8                     25.8   \n",
       "2               8079.2                    505.6   \n",
       "3                603.3                     40.9   \n",
       "4                233.7                     47.7   \n",
       "\n",
       "               ...                Stellar Metallicity [dex]  \\\n",
       "0              ...                                     0.14   \n",
       "1              ...                                     0.14   \n",
       "2              ...                                    -0.52   \n",
       "3              ...                                     0.07   \n",
       "4              ...                                     0.00   \n",
       "\n",
       "   FW Source Δα(OOT) [sec]  Transit Duration [hrs]  \\\n",
       "0                    0.430                 2.95750   \n",
       "1                   -0.630                 4.50700   \n",
       "2                   -0.111                 2.40641   \n",
       "3                   -0.010                 1.65450   \n",
       "4                  -13.450                 5.02200   \n",
       "\n",
       "   FW Source Δδ(OOT) [arcsec]  Maximum Single Event Statistic  \\\n",
       "0                       0.940                        5.135849   \n",
       "1                       1.230                        7.027669   \n",
       "2                       0.002                       39.066550   \n",
       "3                       0.230                        4.749945   \n",
       "4                      24.090                       10.964684   \n",
       "\n",
       "   Fitted Stellar Density [g/cm**3]  Orbit Semi-Major Axis [AU]  \\\n",
       "0                           3.20796                      0.0853   \n",
       "1                           3.02368                      0.2734   \n",
       "2                           0.22080                      0.0267   \n",
       "3                           1.98635                      0.0374   \n",
       "4                           0.00485                      0.0820   \n",
       "\n",
       "   Orbital Period [days]  Insolation Flux [Earth flux]  \\\n",
       "0               9.488036                         93.59   \n",
       "1              54.418383                          9.11   \n",
       "2               1.736952                        891.96   \n",
       "3               2.525592                        926.16   \n",
       "4               7.361790                        767.22   \n",
       "\n",
       "   Exoplanet Archive Disposition  \n",
       "0                              1  \n",
       "1                              1  \n",
       "2                              0  \n",
       "3                              1  \n",
       "4                              0  \n",
       "\n",
       "[5 rows x 24 columns]"
      ]
     },
     "execution_count": 86,
     "metadata": {},
     "output_type": "execute_result"
    }
   ],
   "source": [
    "#the values for disposition were replaced with numbers to get the roc_auc method of scoring to run correctly\n",
    "\n",
    "planets_v2 = planets.replace({'Exoplanet Archive Disposition':{'FALSE POSITIVE':0,'CONFIRMED':1}})\n",
    "planets_v2.head()"
   ]
  },
  {
   "cell_type": "code",
   "execution_count": 87,
   "metadata": {},
   "outputs": [],
   "source": [
    "X = planets_v2.drop('Exoplanet Archive Disposition',axis=1)\n",
    "y = planets_v2['Exoplanet Archive Disposition']"
   ]
  },
  {
   "cell_type": "code",
   "execution_count": 88,
   "metadata": {},
   "outputs": [],
   "source": [
    "scaler = StandardScaler()\n",
    "scaler.fit(X)\n",
    "X = scaler.transform(X)"
   ]
  },
  {
   "cell_type": "code",
   "execution_count": 89,
   "metadata": {},
   "outputs": [
    {
     "name": "stdout",
     "output_type": "stream",
     "text": [
      "Validation Accuracy: 98.9528 (+/- 0.38)\n",
      "Train Accuracy: 99.48 (+/- 0.12)\n"
     ]
    }
   ],
   "source": [
    "from sklearn.model_selection import cross_validate\n",
    "mlp_clf = MLPClassifier(activation='relu', alpha=0.25, hidden_layer_sizes=50, learning_rate='invscaling', max_iter=40, solver='lbfgs', tol=0.00001)\n",
    "ss = StratifiedShuffleSplit(n_splits=1000, test_size=0.3, random_state=3)\n",
    "scores=cross_validate(mlp_clf, X, y, cv=ss, return_train_score=True, scoring='roc_auc', n_jobs=-1)\n",
    "\n",
    "print(\"Validation Accuracy: %0.4f (+/- %0.2f)\" % (scores['test_score'].mean()*100, scores['test_score'].std()*2*100))\n",
    "print(\"Train Accuracy: %0.2f (+/- %0.2f)\" % (scores['train_score'].mean()*100, scores['train_score'].std()*2*100))"
   ]
  },
  {
   "cell_type": "markdown",
   "metadata": {},
   "source": [
    "**Discussion**"
   ]
  },
  {
   "cell_type": "markdown",
   "metadata": {},
   "source": [
    "The accuracy score increased when changing scoring method from 'accuracy' to 'roc_auc'."
   ]
  },
  {
   "cell_type": "markdown",
   "metadata": {},
   "source": [
    "Each iteration of the gridsearch involved fine-tuned parameters. The score increased with each round, showing that the new parameters were better than the previous set."
   ]
  }
 ],
 "metadata": {
  "kernelspec": {
   "display_name": "Python 3",
   "language": "python",
   "name": "python3"
  },
  "language_info": {
   "codemirror_mode": {
    "name": "ipython",
    "version": 3
   },
   "file_extension": ".py",
   "mimetype": "text/x-python",
   "name": "python",
   "nbconvert_exporter": "python",
   "pygments_lexer": "ipython3",
   "version": "3.6.5"
  }
 },
 "nbformat": 4,
 "nbformat_minor": 2
}
