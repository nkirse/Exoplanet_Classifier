{
 "cells": [
  {
   "cell_type": "markdown",
   "metadata": {},
   "source": [
    "Name: Laura-Jane Beardsley"
   ]
  },
  {
   "cell_type": "markdown",
   "metadata": {},
   "source": [
    "# Decision Tree Classifier "
   ]
  },
  {
   "cell_type": "code",
   "execution_count": 1,
   "metadata": {
    "ExecuteTime": {
     "end_time": "2019-04-30T16:21:27.575054Z",
     "start_time": "2019-04-30T16:21:04.498899Z"
    }
   },
   "outputs": [],
   "source": [
    "import pandas as pd \n",
    "import numpy as np\n",
    "import matplotlib.pyplot as plt"
   ]
  },
  {
   "cell_type": "markdown",
   "metadata": {},
   "source": [
    "Import the reduced data set obtained after feature importance was performed.\n",
    "\n",
    "Drop the unnecessary index column 'Unamed: 0'."
   ]
  },
  {
   "cell_type": "code",
   "execution_count": 2,
   "metadata": {
    "ExecuteTime": {
     "end_time": "2019-04-30T16:21:27.955000Z",
     "start_time": "2019-04-30T16:21:27.575054Z"
    }
   },
   "outputs": [
    {
     "data": {
      "text/html": [
       "<div>\n",
       "<style scoped>\n",
       "    .dataframe tbody tr th:only-of-type {\n",
       "        vertical-align: middle;\n",
       "    }\n",
       "\n",
       "    .dataframe tbody tr th {\n",
       "        vertical-align: top;\n",
       "    }\n",
       "\n",
       "    .dataframe thead th {\n",
       "        text-align: right;\n",
       "    }\n",
       "</style>\n",
       "<table border=\"1\" class=\"dataframe\">\n",
       "  <thead>\n",
       "    <tr style=\"text-align: right;\">\n",
       "      <th></th>\n",
       "      <th>PRF Δθ&lt;sub&gt;SQ&lt;/sub&gt;(KIC) [arcsec]</th>\n",
       "      <th>Number of Planets</th>\n",
       "      <th>Planet-Star Radius Ratio</th>\n",
       "      <th>Planetary Radius [Earth radii]</th>\n",
       "      <th>PRF Δθ&lt;sub&gt;SQ&lt;/sub&gt;(OOT) [arcsec]</th>\n",
       "      <th>Maximum Multiple Event Statistic</th>\n",
       "      <th>FW Offset Significance [percent]</th>\n",
       "      <th>Planet-Star Distance over Star Radius</th>\n",
       "      <th>Transit Depth [ppm]</th>\n",
       "      <th>Transit Signal-to-Noise</th>\n",
       "      <th>Inclination [deg]</th>\n",
       "      <th>Equilibrium Temperature [K]</th>\n",
       "      <th>Impact Parameter</th>\n",
       "      <th>Number of Transits</th>\n",
       "      <th>Stellar Metallicity [dex]</th>\n",
       "      <th>FW Source Δα(OOT) [sec]</th>\n",
       "      <th>Transit Duration [hrs]</th>\n",
       "      <th>FW Source Δδ(OOT) [arcsec]</th>\n",
       "      <th>Maximum Single Event Statistic</th>\n",
       "      <th>Fitted Stellar Density [g/cm**3]</th>\n",
       "      <th>Orbit Semi-Major Axis [AU]</th>\n",
       "      <th>Orbital Period [days]</th>\n",
       "      <th>Insolation Flux [Earth flux]</th>\n",
       "      <th>Exoplanet Archive Disposition</th>\n",
       "    </tr>\n",
       "  </thead>\n",
       "  <tbody>\n",
       "    <tr>\n",
       "      <th>0</th>\n",
       "      <td>0.320</td>\n",
       "      <td>2</td>\n",
       "      <td>0.022344</td>\n",
       "      <td>2.26</td>\n",
       "      <td>0.200</td>\n",
       "      <td>28.470820</td>\n",
       "      <td>0.002</td>\n",
       "      <td>24.810</td>\n",
       "      <td>615.8</td>\n",
       "      <td>35.8</td>\n",
       "      <td>89.66</td>\n",
       "      <td>793.0</td>\n",
       "      <td>0.146</td>\n",
       "      <td>142.0</td>\n",
       "      <td>0.14</td>\n",
       "      <td>0.430</td>\n",
       "      <td>2.95750</td>\n",
       "      <td>0.940</td>\n",
       "      <td>5.135849</td>\n",
       "      <td>3.20796</td>\n",
       "      <td>0.0853</td>\n",
       "      <td>9.488036</td>\n",
       "      <td>93.59</td>\n",
       "      <td>CONFIRMED</td>\n",
       "    </tr>\n",
       "    <tr>\n",
       "      <th>1</th>\n",
       "      <td>0.500</td>\n",
       "      <td>2</td>\n",
       "      <td>0.027954</td>\n",
       "      <td>2.83</td>\n",
       "      <td>0.390</td>\n",
       "      <td>20.109507</td>\n",
       "      <td>0.003</td>\n",
       "      <td>77.900</td>\n",
       "      <td>874.8</td>\n",
       "      <td>25.8</td>\n",
       "      <td>89.57</td>\n",
       "      <td>443.0</td>\n",
       "      <td>0.586</td>\n",
       "      <td>25.0</td>\n",
       "      <td>0.14</td>\n",
       "      <td>-0.630</td>\n",
       "      <td>4.50700</td>\n",
       "      <td>1.230</td>\n",
       "      <td>7.027669</td>\n",
       "      <td>3.02368</td>\n",
       "      <td>0.2734</td>\n",
       "      <td>54.418383</td>\n",
       "      <td>9.11</td>\n",
       "      <td>CONFIRMED</td>\n",
       "    </tr>\n",
       "    <tr>\n",
       "      <th>2</th>\n",
       "      <td>0.276</td>\n",
       "      <td>1</td>\n",
       "      <td>0.387394</td>\n",
       "      <td>33.46</td>\n",
       "      <td>0.289</td>\n",
       "      <td>541.895100</td>\n",
       "      <td>0.000</td>\n",
       "      <td>3.278</td>\n",
       "      <td>8079.2</td>\n",
       "      <td>505.6</td>\n",
       "      <td>67.09</td>\n",
       "      <td>1395.0</td>\n",
       "      <td>1.276</td>\n",
       "      <td>621.0</td>\n",
       "      <td>-0.52</td>\n",
       "      <td>-0.111</td>\n",
       "      <td>2.40641</td>\n",
       "      <td>0.002</td>\n",
       "      <td>39.066550</td>\n",
       "      <td>0.22080</td>\n",
       "      <td>0.0267</td>\n",
       "      <td>1.736952</td>\n",
       "      <td>891.96</td>\n",
       "      <td>FALSE POSITIVE</td>\n",
       "    </tr>\n",
       "    <tr>\n",
       "      <th>3</th>\n",
       "      <td>0.070</td>\n",
       "      <td>1</td>\n",
       "      <td>0.024064</td>\n",
       "      <td>2.75</td>\n",
       "      <td>0.100</td>\n",
       "      <td>33.191900</td>\n",
       "      <td>0.733</td>\n",
       "      <td>8.750</td>\n",
       "      <td>603.3</td>\n",
       "      <td>40.9</td>\n",
       "      <td>85.41</td>\n",
       "      <td>1406.0</td>\n",
       "      <td>0.701</td>\n",
       "      <td>515.0</td>\n",
       "      <td>0.07</td>\n",
       "      <td>-0.010</td>\n",
       "      <td>1.65450</td>\n",
       "      <td>0.230</td>\n",
       "      <td>4.749945</td>\n",
       "      <td>1.98635</td>\n",
       "      <td>0.0374</td>\n",
       "      <td>2.525592</td>\n",
       "      <td>926.16</td>\n",
       "      <td>CONFIRMED</td>\n",
       "    </tr>\n",
       "    <tr>\n",
       "      <th>4</th>\n",
       "      <td>8.948</td>\n",
       "      <td>1</td>\n",
       "      <td>0.183387</td>\n",
       "      <td>39.21</td>\n",
       "      <td>8.930</td>\n",
       "      <td>46.153080</td>\n",
       "      <td>0.000</td>\n",
       "      <td>2.400</td>\n",
       "      <td>233.7</td>\n",
       "      <td>47.7</td>\n",
       "      <td>60.92</td>\n",
       "      <td>1342.0</td>\n",
       "      <td>1.169</td>\n",
       "      <td>185.0</td>\n",
       "      <td>0.00</td>\n",
       "      <td>-13.450</td>\n",
       "      <td>5.02200</td>\n",
       "      <td>24.090</td>\n",
       "      <td>10.964684</td>\n",
       "      <td>0.00485</td>\n",
       "      <td>0.0820</td>\n",
       "      <td>7.361790</td>\n",
       "      <td>767.22</td>\n",
       "      <td>FALSE POSITIVE</td>\n",
       "    </tr>\n",
       "  </tbody>\n",
       "</table>\n",
       "</div>"
      ],
      "text/plain": [
       "   PRF Δθ<sub>SQ</sub>(KIC) [arcsec]  Number of Planets  \\\n",
       "0                              0.320                  2   \n",
       "1                              0.500                  2   \n",
       "2                              0.276                  1   \n",
       "3                              0.070                  1   \n",
       "4                              8.948                  1   \n",
       "\n",
       "   Planet-Star Radius Ratio  Planetary Radius [Earth radii]  \\\n",
       "0                  0.022344                            2.26   \n",
       "1                  0.027954                            2.83   \n",
       "2                  0.387394                           33.46   \n",
       "3                  0.024064                            2.75   \n",
       "4                  0.183387                           39.21   \n",
       "\n",
       "   PRF Δθ<sub>SQ</sub>(OOT) [arcsec]  Maximum Multiple Event Statistic  \\\n",
       "0                              0.200                         28.470820   \n",
       "1                              0.390                         20.109507   \n",
       "2                              0.289                        541.895100   \n",
       "3                              0.100                         33.191900   \n",
       "4                              8.930                         46.153080   \n",
       "\n",
       "   FW Offset Significance [percent]  Planet-Star Distance over Star Radius  \\\n",
       "0                             0.002                                 24.810   \n",
       "1                             0.003                                 77.900   \n",
       "2                             0.000                                  3.278   \n",
       "3                             0.733                                  8.750   \n",
       "4                             0.000                                  2.400   \n",
       "\n",
       "   Transit Depth [ppm]  Transit Signal-to-Noise  Inclination [deg]  \\\n",
       "0                615.8                     35.8              89.66   \n",
       "1                874.8                     25.8              89.57   \n",
       "2               8079.2                    505.6              67.09   \n",
       "3                603.3                     40.9              85.41   \n",
       "4                233.7                     47.7              60.92   \n",
       "\n",
       "   Equilibrium Temperature [K]  Impact Parameter  Number of Transits  \\\n",
       "0                        793.0             0.146               142.0   \n",
       "1                        443.0             0.586                25.0   \n",
       "2                       1395.0             1.276               621.0   \n",
       "3                       1406.0             0.701               515.0   \n",
       "4                       1342.0             1.169               185.0   \n",
       "\n",
       "   Stellar Metallicity [dex]  FW Source Δα(OOT) [sec]  Transit Duration [hrs]  \\\n",
       "0                       0.14                    0.430                 2.95750   \n",
       "1                       0.14                   -0.630                 4.50700   \n",
       "2                      -0.52                   -0.111                 2.40641   \n",
       "3                       0.07                   -0.010                 1.65450   \n",
       "4                       0.00                  -13.450                 5.02200   \n",
       "\n",
       "   FW Source Δδ(OOT) [arcsec]  Maximum Single Event Statistic  \\\n",
       "0                       0.940                        5.135849   \n",
       "1                       1.230                        7.027669   \n",
       "2                       0.002                       39.066550   \n",
       "3                       0.230                        4.749945   \n",
       "4                      24.090                       10.964684   \n",
       "\n",
       "   Fitted Stellar Density [g/cm**3]  Orbit Semi-Major Axis [AU]  \\\n",
       "0                           3.20796                      0.0853   \n",
       "1                           3.02368                      0.2734   \n",
       "2                           0.22080                      0.0267   \n",
       "3                           1.98635                      0.0374   \n",
       "4                           0.00485                      0.0820   \n",
       "\n",
       "   Orbital Period [days]  Insolation Flux [Earth flux]  \\\n",
       "0               9.488036                         93.59   \n",
       "1              54.418383                          9.11   \n",
       "2               1.736952                        891.96   \n",
       "3               2.525592                        926.16   \n",
       "4               7.361790                        767.22   \n",
       "\n",
       "  Exoplanet Archive Disposition  \n",
       "0                     CONFIRMED  \n",
       "1                     CONFIRMED  \n",
       "2                FALSE POSITIVE  \n",
       "3                     CONFIRMED  \n",
       "4                FALSE POSITIVE  "
      ]
     },
     "execution_count": 2,
     "metadata": {},
     "output_type": "execute_result"
    }
   ],
   "source": [
    "df = pd.read_csv(\"No_Errors_Reduced.csv\", header=0)\n",
    "pd.set_option('display.max_columns', None)\n",
    "df = df.drop(['Unnamed: 0'], axis=1)\n",
    "df.head(5)"
   ]
  },
  {
   "cell_type": "markdown",
   "metadata": {},
   "source": [
    "Apply Standard Scaler to the dataset. Although it is not necessary for Decision Tree models this was done to remain consistent with other models tried. "
   ]
  },
  {
   "cell_type": "code",
   "execution_count": 3,
   "metadata": {
    "ExecuteTime": {
     "end_time": "2019-04-30T16:21:43.554315Z",
     "start_time": "2019-04-30T16:21:34.391343Z"
    }
   },
   "outputs": [],
   "source": [
    "from sklearn.preprocessing import StandardScaler\n",
    "scaler = StandardScaler()"
   ]
  },
  {
   "cell_type": "code",
   "execution_count": 4,
   "metadata": {
    "ExecuteTime": {
     "end_time": "2019-04-30T16:21:43.786521Z",
     "start_time": "2019-04-30T16:21:43.554315Z"
    }
   },
   "outputs": [
    {
     "name": "stderr",
     "output_type": "stream",
     "text": [
      "C:\\Users\\lb3558\\AppData\\Local\\Continuum\\anaconda2\\envs\\machinelearning\\lib\\site-packages\\sklearn\\preprocessing\\data.py:625: DataConversionWarning: Data with input dtype int64, float64 were all converted to float64 by StandardScaler.\n",
      "  return self.partial_fit(X, y)\n"
     ]
    },
    {
     "data": {
      "text/plain": [
       "StandardScaler(copy=True, with_mean=True, with_std=True)"
      ]
     },
     "execution_count": 4,
     "metadata": {},
     "output_type": "execute_result"
    }
   ],
   "source": [
    "scaler.fit(df.drop('Exoplanet Archive Disposition',axis=1))"
   ]
  },
  {
   "cell_type": "code",
   "execution_count": 5,
   "metadata": {
    "ExecuteTime": {
     "end_time": "2019-04-30T16:21:43.826521Z",
     "start_time": "2019-04-30T16:21:43.786521Z"
    }
   },
   "outputs": [
    {
     "name": "stderr",
     "output_type": "stream",
     "text": [
      "C:\\Users\\lb3558\\AppData\\Local\\Continuum\\anaconda2\\envs\\machinelearning\\lib\\site-packages\\ipykernel_launcher.py:1: DataConversionWarning: Data with input dtype int64, float64 were all converted to float64 by StandardScaler.\n",
      "  \"\"\"Entry point for launching an IPython kernel.\n"
     ]
    },
    {
     "data": {
      "text/plain": [
       "array([[-0.512749  ,  0.57466542, -0.08220901, ..., -0.30031214,\n",
       "        -0.31089283, -0.09112746],\n",
       "       [-0.45606046,  0.57466542, -0.0800365 , ...,  0.47855444,\n",
       "         0.19794517, -0.0931332 ],\n",
       "       [-0.5266062 , -0.48246769,  0.05915894, ..., -0.54295745,\n",
       "        -0.39867416, -0.07217246],\n",
       "       ...,\n",
       "       [ 0.30891988, -0.48246769,  0.02439842, ..., -0.60051324,\n",
       "        -0.41236901,  0.01350268],\n",
       "       [ 1.01154282, -0.48246769, -0.08720461, ..., -0.5885052 ,\n",
       "        -0.41062832,  0.04229904],\n",
       "       [ 0.48874852, -0.48246769, -0.08773438, ..., -0.40258755,\n",
       "        -0.36335043, -0.07892804]])"
      ]
     },
     "execution_count": 5,
     "metadata": {},
     "output_type": "execute_result"
    }
   ],
   "source": [
    "scaled_features = scaler.transform(df.drop('Exoplanet Archive Disposition',axis=1))\n",
    "scaled_features"
   ]
  },
  {
   "cell_type": "code",
   "execution_count": 6,
   "metadata": {
    "ExecuteTime": {
     "end_time": "2019-04-30T16:21:43.972534Z",
     "start_time": "2019-04-30T16:21:43.826521Z"
    }
   },
   "outputs": [
    {
     "data": {
      "text/html": [
       "<div>\n",
       "<style scoped>\n",
       "    .dataframe tbody tr th:only-of-type {\n",
       "        vertical-align: middle;\n",
       "    }\n",
       "\n",
       "    .dataframe tbody tr th {\n",
       "        vertical-align: top;\n",
       "    }\n",
       "\n",
       "    .dataframe thead th {\n",
       "        text-align: right;\n",
       "    }\n",
       "</style>\n",
       "<table border=\"1\" class=\"dataframe\">\n",
       "  <thead>\n",
       "    <tr style=\"text-align: right;\">\n",
       "      <th></th>\n",
       "      <th>PRF Δθ&lt;sub&gt;SQ&lt;/sub&gt;(KIC) [arcsec]</th>\n",
       "      <th>Number of Planets</th>\n",
       "      <th>Planet-Star Radius Ratio</th>\n",
       "      <th>Planetary Radius [Earth radii]</th>\n",
       "      <th>PRF Δθ&lt;sub&gt;SQ&lt;/sub&gt;(OOT) [arcsec]</th>\n",
       "      <th>Maximum Multiple Event Statistic</th>\n",
       "      <th>FW Offset Significance [percent]</th>\n",
       "      <th>Planet-Star Distance over Star Radius</th>\n",
       "      <th>Transit Depth [ppm]</th>\n",
       "      <th>Transit Signal-to-Noise</th>\n",
       "      <th>Inclination [deg]</th>\n",
       "      <th>Equilibrium Temperature [K]</th>\n",
       "      <th>Impact Parameter</th>\n",
       "      <th>Number of Transits</th>\n",
       "      <th>Stellar Metallicity [dex]</th>\n",
       "      <th>FW Source Δα(OOT) [sec]</th>\n",
       "      <th>Transit Duration [hrs]</th>\n",
       "      <th>FW Source Δδ(OOT) [arcsec]</th>\n",
       "      <th>Maximum Single Event Statistic</th>\n",
       "      <th>Fitted Stellar Density [g/cm**3]</th>\n",
       "      <th>Orbit Semi-Major Axis [AU]</th>\n",
       "      <th>Orbital Period [days]</th>\n",
       "      <th>Insolation Flux [Earth flux]</th>\n",
       "    </tr>\n",
       "  </thead>\n",
       "  <tbody>\n",
       "    <tr>\n",
       "      <th>0</th>\n",
       "      <td>-0.512749</td>\n",
       "      <td>0.574665</td>\n",
       "      <td>-0.082209</td>\n",
       "      <td>-0.029689</td>\n",
       "      <td>-0.552872</td>\n",
       "      <td>-0.251865</td>\n",
       "      <td>-0.504768</td>\n",
       "      <td>-0.135335</td>\n",
       "      <td>-0.308900</td>\n",
       "      <td>-0.313184</td>\n",
       "      <td>0.520745</td>\n",
       "      <td>-0.450817</td>\n",
       "      <td>-0.217554</td>\n",
       "      <td>-0.479365</td>\n",
       "      <td>0.929629</td>\n",
       "      <td>0.048426</td>\n",
       "      <td>-0.380230</td>\n",
       "      <td>0.078659</td>\n",
       "      <td>-0.224601</td>\n",
       "      <td>-0.008000</td>\n",
       "      <td>-0.300312</td>\n",
       "      <td>-0.310893</td>\n",
       "      <td>-0.091127</td>\n",
       "    </tr>\n",
       "    <tr>\n",
       "      <th>1</th>\n",
       "      <td>-0.456060</td>\n",
       "      <td>0.574665</td>\n",
       "      <td>-0.080036</td>\n",
       "      <td>-0.029535</td>\n",
       "      <td>-0.493124</td>\n",
       "      <td>-0.254227</td>\n",
       "      <td>-0.500411</td>\n",
       "      <td>0.502853</td>\n",
       "      <td>-0.305029</td>\n",
       "      <td>-0.325034</td>\n",
       "      <td>0.515233</td>\n",
       "      <td>-0.897733</td>\n",
       "      <td>-0.049885</td>\n",
       "      <td>-0.686469</td>\n",
       "      <td>0.929629</td>\n",
       "      <td>-0.019383</td>\n",
       "      <td>-0.157404</td>\n",
       "      <td>0.095238</td>\n",
       "      <td>-0.222009</td>\n",
       "      <td>-0.015344</td>\n",
       "      <td>0.478554</td>\n",
       "      <td>0.197945</td>\n",
       "      <td>-0.093133</td>\n",
       "    </tr>\n",
       "    <tr>\n",
       "      <th>2</th>\n",
       "      <td>-0.526606</td>\n",
       "      <td>-0.482468</td>\n",
       "      <td>0.059159</td>\n",
       "      <td>-0.021243</td>\n",
       "      <td>-0.524885</td>\n",
       "      <td>-0.106805</td>\n",
       "      <td>-0.513481</td>\n",
       "      <td>-0.394169</td>\n",
       "      <td>-0.197334</td>\n",
       "      <td>0.243540</td>\n",
       "      <td>-0.861401</td>\n",
       "      <td>0.317877</td>\n",
       "      <td>0.213050</td>\n",
       "      <td>0.368523</td>\n",
       "      <td>-1.370972</td>\n",
       "      <td>0.013818</td>\n",
       "      <td>-0.459479</td>\n",
       "      <td>0.025032</td>\n",
       "      <td>-0.178113</td>\n",
       "      <td>-0.127042</td>\n",
       "      <td>-0.542957</td>\n",
       "      <td>-0.398674</td>\n",
       "      <td>-0.072172</td>\n",
       "    </tr>\n",
       "    <tr>\n",
       "      <th>3</th>\n",
       "      <td>-0.591483</td>\n",
       "      <td>-0.482468</td>\n",
       "      <td>-0.081543</td>\n",
       "      <td>-0.029556</td>\n",
       "      <td>-0.584318</td>\n",
       "      <td>-0.250531</td>\n",
       "      <td>2.679901</td>\n",
       "      <td>-0.328391</td>\n",
       "      <td>-0.309087</td>\n",
       "      <td>-0.307140</td>\n",
       "      <td>0.260482</td>\n",
       "      <td>0.331923</td>\n",
       "      <td>-0.006062</td>\n",
       "      <td>0.180890</td>\n",
       "      <td>0.685626</td>\n",
       "      <td>0.020279</td>\n",
       "      <td>-0.567608</td>\n",
       "      <td>0.038067</td>\n",
       "      <td>-0.225129</td>\n",
       "      <td>-0.056683</td>\n",
       "      <td>-0.498652</td>\n",
       "      <td>-0.389743</td>\n",
       "      <td>-0.071360</td>\n",
       "    </tr>\n",
       "    <tr>\n",
       "      <th>4</th>\n",
       "      <td>2.204522</td>\n",
       "      <td>-0.482468</td>\n",
       "      <td>-0.019844</td>\n",
       "      <td>-0.019687</td>\n",
       "      <td>2.192392</td>\n",
       "      <td>-0.246869</td>\n",
       "      <td>-0.513481</td>\n",
       "      <td>-0.404723</td>\n",
       "      <td>-0.314612</td>\n",
       "      <td>-0.299082</td>\n",
       "      <td>-1.239240</td>\n",
       "      <td>0.250202</td>\n",
       "      <td>0.172276</td>\n",
       "      <td>-0.403250</td>\n",
       "      <td>0.441623</td>\n",
       "      <td>-0.839492</td>\n",
       "      <td>-0.083345</td>\n",
       "      <td>1.402179</td>\n",
       "      <td>-0.216615</td>\n",
       "      <td>-0.135648</td>\n",
       "      <td>-0.313976</td>\n",
       "      <td>-0.334973</td>\n",
       "      <td>-0.075134</td>\n",
       "    </tr>\n",
       "  </tbody>\n",
       "</table>\n",
       "</div>"
      ],
      "text/plain": [
       "   PRF Δθ<sub>SQ</sub>(KIC) [arcsec]  Number of Planets  \\\n",
       "0                          -0.512749           0.574665   \n",
       "1                          -0.456060           0.574665   \n",
       "2                          -0.526606          -0.482468   \n",
       "3                          -0.591483          -0.482468   \n",
       "4                           2.204522          -0.482468   \n",
       "\n",
       "   Planet-Star Radius Ratio  Planetary Radius [Earth radii]  \\\n",
       "0                 -0.082209                       -0.029689   \n",
       "1                 -0.080036                       -0.029535   \n",
       "2                  0.059159                       -0.021243   \n",
       "3                 -0.081543                       -0.029556   \n",
       "4                 -0.019844                       -0.019687   \n",
       "\n",
       "   PRF Δθ<sub>SQ</sub>(OOT) [arcsec]  Maximum Multiple Event Statistic  \\\n",
       "0                          -0.552872                         -0.251865   \n",
       "1                          -0.493124                         -0.254227   \n",
       "2                          -0.524885                         -0.106805   \n",
       "3                          -0.584318                         -0.250531   \n",
       "4                           2.192392                         -0.246869   \n",
       "\n",
       "   FW Offset Significance [percent]  Planet-Star Distance over Star Radius  \\\n",
       "0                         -0.504768                              -0.135335   \n",
       "1                         -0.500411                               0.502853   \n",
       "2                         -0.513481                              -0.394169   \n",
       "3                          2.679901                              -0.328391   \n",
       "4                         -0.513481                              -0.404723   \n",
       "\n",
       "   Transit Depth [ppm]  Transit Signal-to-Noise  Inclination [deg]  \\\n",
       "0            -0.308900                -0.313184           0.520745   \n",
       "1            -0.305029                -0.325034           0.515233   \n",
       "2            -0.197334                 0.243540          -0.861401   \n",
       "3            -0.309087                -0.307140           0.260482   \n",
       "4            -0.314612                -0.299082          -1.239240   \n",
       "\n",
       "   Equilibrium Temperature [K]  Impact Parameter  Number of Transits  \\\n",
       "0                    -0.450817         -0.217554           -0.479365   \n",
       "1                    -0.897733         -0.049885           -0.686469   \n",
       "2                     0.317877          0.213050            0.368523   \n",
       "3                     0.331923         -0.006062            0.180890   \n",
       "4                     0.250202          0.172276           -0.403250   \n",
       "\n",
       "   Stellar Metallicity [dex]  FW Source Δα(OOT) [sec]  Transit Duration [hrs]  \\\n",
       "0                   0.929629                 0.048426               -0.380230   \n",
       "1                   0.929629                -0.019383               -0.157404   \n",
       "2                  -1.370972                 0.013818               -0.459479   \n",
       "3                   0.685626                 0.020279               -0.567608   \n",
       "4                   0.441623                -0.839492               -0.083345   \n",
       "\n",
       "   FW Source Δδ(OOT) [arcsec]  Maximum Single Event Statistic  \\\n",
       "0                    0.078659                       -0.224601   \n",
       "1                    0.095238                       -0.222009   \n",
       "2                    0.025032                       -0.178113   \n",
       "3                    0.038067                       -0.225129   \n",
       "4                    1.402179                       -0.216615   \n",
       "\n",
       "   Fitted Stellar Density [g/cm**3]  Orbit Semi-Major Axis [AU]  \\\n",
       "0                         -0.008000                   -0.300312   \n",
       "1                         -0.015344                    0.478554   \n",
       "2                         -0.127042                   -0.542957   \n",
       "3                         -0.056683                   -0.498652   \n",
       "4                         -0.135648                   -0.313976   \n",
       "\n",
       "   Orbital Period [days]  Insolation Flux [Earth flux]  \n",
       "0              -0.310893                     -0.091127  \n",
       "1               0.197945                     -0.093133  \n",
       "2              -0.398674                     -0.072172  \n",
       "3              -0.389743                     -0.071360  \n",
       "4              -0.334973                     -0.075134  "
      ]
     },
     "execution_count": 6,
     "metadata": {},
     "output_type": "execute_result"
    }
   ],
   "source": [
    "df_feat = pd.DataFrame(scaled_features,columns=df.columns[:-1])\n",
    "df_feat.head()"
   ]
  },
  {
   "cell_type": "markdown",
   "metadata": {},
   "source": [
    "Rename the full dataset for training on the reduced set as X_train_r and the response as y_train_r."
   ]
  },
  {
   "cell_type": "code",
   "execution_count": 7,
   "metadata": {
    "ExecuteTime": {
     "end_time": "2019-04-30T16:21:59.652149Z",
     "start_time": "2019-04-30T16:21:59.644116Z"
    }
   },
   "outputs": [],
   "source": [
    "X_train_r = df_feat\n",
    "y_train_r = df['Exoplanet Archive Disposition']"
   ]
  },
  {
   "cell_type": "code",
   "execution_count": 8,
   "metadata": {
    "ExecuteTime": {
     "end_time": "2019-04-30T16:23:14.084480Z",
     "start_time": "2019-04-30T16:23:13.318246Z"
    }
   },
   "outputs": [],
   "source": [
    "from sklearn.model_selection import train_test_split, StratifiedShuffleSplit\n",
    "from sklearn.tree import DecisionTreeClassifier"
   ]
  },
  {
   "cell_type": "markdown",
   "metadata": {},
   "source": [
    "We first create a baseline model using the default parameters to compare how well our future/tuned models perform. We will use two different scoring types 'accuracy' and 'roc_auc'."
   ]
  },
  {
   "cell_type": "code",
   "execution_count": 11,
   "metadata": {
    "ExecuteTime": {
     "end_time": "2019-04-30T16:23:40.499834Z",
     "start_time": "2019-04-30T16:23:19.653336Z"
    }
   },
   "outputs": [],
   "source": [
    "from sklearn.model_selection import cross_validate\n",
    "dt_clf = DecisionTreeClassifier()\n",
    "ss = StratifiedShuffleSplit(n_splits=1000, test_size=0.3, random_state=3)\n",
    "scores=cross_validate(dt_clf, X_train_r, y_train_r, cv=ss, return_train_score=True, scoring='accuracy', n_jobs=-1)"
   ]
  },
  {
   "cell_type": "code",
   "execution_count": 12,
   "metadata": {
    "ExecuteTime": {
     "end_time": "2019-04-30T16:23:41.226871Z",
     "start_time": "2019-04-30T16:23:41.222904Z"
    }
   },
   "outputs": [
    {
     "name": "stdout",
     "output_type": "stream",
     "text": [
      "Validation Accuracy: 95.0188 (+/- 1.08)\n",
      "Train Accuracy: 100.00 (+/- 0.00)\n"
     ]
    }
   ],
   "source": [
    "print(\"Validation Accuracy: %0.4f (+/- %0.2f)\" % (scores['test_score'].mean()*100, scores['test_score'].std()*2*100))\n",
    "print(\"Train Accuracy: %0.2f (+/- %0.2f)\" % (scores['train_score'].mean()*100, scores['train_score'].std()*2*100))"
   ]
  },
  {
   "cell_type": "code",
   "execution_count": 13,
   "metadata": {
    "ExecuteTime": {
     "end_time": "2019-04-30T16:27:29.728530Z",
     "start_time": "2019-04-30T16:27:13.314396Z"
    }
   },
   "outputs": [],
   "source": [
    "from sklearn.model_selection import cross_validate\n",
    "dt_clf = DecisionTreeClassifier()\n",
    "ss = StratifiedShuffleSplit(n_splits=1000, test_size=0.3, random_state=3)\n",
    "scores=cross_validate(dt_clf, X_train_r, y_train_r, cv=ss, return_train_score=True, scoring='roc_auc', n_jobs=-1)"
   ]
  },
  {
   "cell_type": "code",
   "execution_count": 14,
   "metadata": {
    "ExecuteTime": {
     "end_time": "2019-04-30T16:27:31.672013Z",
     "start_time": "2019-04-30T16:27:31.664012Z"
    }
   },
   "outputs": [
    {
     "name": "stdout",
     "output_type": "stream",
     "text": [
      "Validation Accuracy: 94.8433 (+/- 1.17)\n",
      "Train Accuracy: 100.00 (+/- 0.00)\n"
     ]
    }
   ],
   "source": [
    "print(\"Validation Accuracy: %0.4f (+/- %0.2f)\" % (scores['test_score'].mean()*100, scores['test_score'].std()*2*100))\n",
    "print(\"Train Accuracy: %0.2f (+/- %0.2f)\" % (scores['train_score'].mean()*100, scores['train_score'].std()*2*100))"
   ]
  },
  {
   "cell_type": "markdown",
   "metadata": {},
   "source": [
    "Run a broad grid search to search for the best parameters of Decision Tree model and use only 100 for n_splits."
   ]
  },
  {
   "cell_type": "code",
   "execution_count": 19,
   "metadata": {
    "ExecuteTime": {
     "end_time": "2019-04-25T15:29:06.151822Z",
     "start_time": "2019-04-25T15:29:06.143789Z"
    }
   },
   "outputs": [],
   "source": [
    "from sklearn.model_selection import GridSearchCV"
   ]
  },
  {
   "cell_type": "code",
   "execution_count": 16,
   "metadata": {
    "ExecuteTime": {
     "end_time": "2019-04-25T03:24:55.320793Z",
     "start_time": "2019-04-25T02:44:37.464388Z"
    }
   },
   "outputs": [
    {
     "name": "stdout",
     "output_type": "stream",
     "text": [
      "Fitting 100 folds for each of 4032 candidates, totalling 403200 fits\n"
     ]
    },
    {
     "name": "stderr",
     "output_type": "stream",
     "text": [
      "[Parallel(n_jobs=-1)]: Using backend LokyBackend with 8 concurrent workers.\n",
      "[Parallel(n_jobs=-1)]: Done  16 tasks      | elapsed:    2.9s\n",
      "[Parallel(n_jobs=-1)]: Done 275 tasks      | elapsed:    4.5s\n",
      "[Parallel(n_jobs=-1)]: Done 915 tasks      | elapsed:    8.6s\n",
      "[Parallel(n_jobs=-1)]: Done 1811 tasks      | elapsed:   14.0s\n",
      "[Parallel(n_jobs=-1)]: Done 2963 tasks      | elapsed:   20.5s\n",
      "[Parallel(n_jobs=-1)]: Done 4371 tasks      | elapsed:   28.6s\n",
      "[Parallel(n_jobs=-1)]: Done 6035 tasks      | elapsed:   39.7s\n",
      "[Parallel(n_jobs=-1)]: Done 7955 tasks      | elapsed:   53.4s\n",
      "[Parallel(n_jobs=-1)]: Done 10131 tasks      | elapsed:  1.1min\n",
      "[Parallel(n_jobs=-1)]: Done 12563 tasks      | elapsed:  1.3min\n",
      "[Parallel(n_jobs=-1)]: Done 15251 tasks      | elapsed:  1.5min\n",
      "[Parallel(n_jobs=-1)]: Done 18195 tasks      | elapsed:  1.7min\n",
      "[Parallel(n_jobs=-1)]: Done 21395 tasks      | elapsed:  1.9min\n",
      "[Parallel(n_jobs=-1)]: Done 24851 tasks      | elapsed:  2.2min\n",
      "[Parallel(n_jobs=-1)]: Done 28563 tasks      | elapsed:  2.5min\n",
      "[Parallel(n_jobs=-1)]: Done 32531 tasks      | elapsed:  2.8min\n",
      "[Parallel(n_jobs=-1)]: Done 36755 tasks      | elapsed:  3.3min\n",
      "[Parallel(n_jobs=-1)]: Done 41235 tasks      | elapsed:  3.8min\n",
      "[Parallel(n_jobs=-1)]: Done 45971 tasks      | elapsed:  4.2min\n",
      "[Parallel(n_jobs=-1)]: Done 50963 tasks      | elapsed:  4.6min\n",
      "[Parallel(n_jobs=-1)]: Done 56211 tasks      | elapsed:  4.9min\n",
      "[Parallel(n_jobs=-1)]: Done 61715 tasks      | elapsed:  5.3min\n",
      "[Parallel(n_jobs=-1)]: Done 67475 tasks      | elapsed:  5.8min\n",
      "[Parallel(n_jobs=-1)]: Done 73491 tasks      | elapsed:  6.6min\n",
      "[Parallel(n_jobs=-1)]: Done 79763 tasks      | elapsed:  7.2min\n",
      "[Parallel(n_jobs=-1)]: Done 86291 tasks      | elapsed:  7.7min\n",
      "[Parallel(n_jobs=-1)]: Done 93075 tasks      | elapsed:  8.2min\n",
      "[Parallel(n_jobs=-1)]: Done 100115 tasks      | elapsed:  8.7min\n",
      "[Parallel(n_jobs=-1)]: Done 107411 tasks      | elapsed:  9.7min\n",
      "[Parallel(n_jobs=-1)]: Done 114963 tasks      | elapsed: 10.4min\n",
      "[Parallel(n_jobs=-1)]: Done 122771 tasks      | elapsed: 11.0min\n",
      "[Parallel(n_jobs=-1)]: Done 130835 tasks      | elapsed: 11.6min\n",
      "[Parallel(n_jobs=-1)]: Done 139155 tasks      | elapsed: 12.6min\n",
      "[Parallel(n_jobs=-1)]: Done 147731 tasks      | elapsed: 13.5min\n",
      "[Parallel(n_jobs=-1)]: Done 156563 tasks      | elapsed: 14.1min\n",
      "[Parallel(n_jobs=-1)]: Done 165651 tasks      | elapsed: 14.8min\n",
      "[Parallel(n_jobs=-1)]: Done 174995 tasks      | elapsed: 16.1min\n",
      "[Parallel(n_jobs=-1)]: Done 184595 tasks      | elapsed: 16.9min\n",
      "[Parallel(n_jobs=-1)]: Done 194451 tasks      | elapsed: 17.7min\n",
      "[Parallel(n_jobs=-1)]: Done 204563 tasks      | elapsed: 18.6min\n",
      "[Parallel(n_jobs=-1)]: Done 214931 tasks      | elapsed: 19.8min\n",
      "[Parallel(n_jobs=-1)]: Done 225555 tasks      | elapsed: 20.6min\n",
      "[Parallel(n_jobs=-1)]: Done 236435 tasks      | elapsed: 21.5min\n",
      "[Parallel(n_jobs=-1)]: Done 247571 tasks      | elapsed: 23.1min\n",
      "[Parallel(n_jobs=-1)]: Done 258963 tasks      | elapsed: 24.0min\n",
      "[Parallel(n_jobs=-1)]: Done 270611 tasks      | elapsed: 25.2min\n",
      "[Parallel(n_jobs=-1)]: Done 282515 tasks      | elapsed: 26.8min\n",
      "[Parallel(n_jobs=-1)]: Done 294675 tasks      | elapsed: 27.9min\n",
      "[Parallel(n_jobs=-1)]: Done 307091 tasks      | elapsed: 29.4min\n",
      "[Parallel(n_jobs=-1)]: Done 319763 tasks      | elapsed: 31.0min\n",
      "[Parallel(n_jobs=-1)]: Done 332691 tasks      | elapsed: 32.1min\n",
      "[Parallel(n_jobs=-1)]: Done 345875 tasks      | elapsed: 34.2min\n",
      "[Parallel(n_jobs=-1)]: Done 359315 tasks      | elapsed: 35.4min\n",
      "[Parallel(n_jobs=-1)]: Done 373011 tasks      | elapsed: 37.1min\n",
      "[Parallel(n_jobs=-1)]: Done 386963 tasks      | elapsed: 38.8min\n",
      "[Parallel(n_jobs=-1)]: Done 401171 tasks      | elapsed: 40.1min\n",
      "[Parallel(n_jobs=-1)]: Done 403200 out of 403200 | elapsed: 40.3min finished\n"
     ]
    },
    {
     "data": {
      "text/plain": [
       "GridSearchCV(cv=StratifiedShuffleSplit(n_splits=100, random_state=3, test_size=0.3,\n",
       "            train_size=None),\n",
       "       error_score='raise-deprecating',\n",
       "       estimator=DecisionTreeClassifier(class_weight=None, criterion='gini', max_depth=None,\n",
       "            max_features=None, max_leaf_nodes=None,\n",
       "            min_impurity_decrease=0.0, min_impurity_split=None,\n",
       "            min_samples_leaf=1, min_samples_split=2,\n",
       "            min_weight_fraction_leaf=0.0, presort=False, random_state=None,\n",
       "            splitter='best'),\n",
       "       fit_params=None, iid='warn', n_jobs=-1,\n",
       "       param_grid=[{'criterion': ('gini', 'entropy'), 'max_depth': [2, 4, 6, 8, 10, 15], 'min_samples_split': [2, 3, 4, 6, 8, 10, 15], 'min_samples_leaf': [1, 2, 5], 'max_features': [None, 'auto', 'sqrt', 'log2'], 'max_leaf_nodes': [None, 2, 5, 10]}],\n",
       "       pre_dispatch='2*n_jobs', refit=True, return_train_score='warn',\n",
       "       scoring=None, verbose=3)"
      ]
     },
     "execution_count": 16,
     "metadata": {},
     "output_type": "execute_result"
    }
   ],
   "source": [
    "parameters = [{'criterion': ('gini', 'entropy'),\n",
    "               'max_depth' : [2,4,6,8,10,15],\n",
    "              'min_samples_split': [2,3,4,6,8,10,15],\n",
    "              'min_samples_leaf': [1,2,5],\n",
    "              'max_features': [None, 'auto', 'sqrt', 'log2'],\n",
    "               'max_leaf_nodes' : [None, 2,5,10]\n",
    "              }]\n",
    "dt_clf1 = DecisionTreeClassifier()\n",
    "ss = StratifiedShuffleSplit(n_splits=100, test_size=0.3, random_state=3)\n",
    "grid1 = GridSearchCV(dt_clf1, parameters, cv=ss, n_jobs=-1, verbose=3)\n",
    "grid1.fit(X_train_r, y_train_r)"
   ]
  },
  {
   "cell_type": "code",
   "execution_count": 18,
   "metadata": {
    "ExecuteTime": {
     "end_time": "2019-04-25T12:32:36.320819Z",
     "start_time": "2019-04-25T12:32:36.312820Z"
    }
   },
   "outputs": [
    {
     "data": {
      "text/plain": [
       "0.956602809706258"
      ]
     },
     "execution_count": 18,
     "metadata": {},
     "output_type": "execute_result"
    }
   ],
   "source": [
    "grid1.best_score_"
   ]
  },
  {
   "cell_type": "code",
   "execution_count": 19,
   "metadata": {
    "ExecuteTime": {
     "end_time": "2019-04-25T12:32:43.512746Z",
     "start_time": "2019-04-25T12:32:43.504712Z"
    }
   },
   "outputs": [
    {
     "data": {
      "text/plain": [
       "{'criterion': 'entropy',\n",
       " 'max_depth': 10,\n",
       " 'max_features': None,\n",
       " 'max_leaf_nodes': None,\n",
       " 'min_samples_leaf': 5,\n",
       " 'min_samples_split': 8}"
      ]
     },
     "execution_count": 19,
     "metadata": {},
     "output_type": "execute_result"
    }
   ],
   "source": [
    "grid1.best_params_"
   ]
  },
  {
   "cell_type": "markdown",
   "metadata": {},
   "source": [
    "Run a second finer grid search to verify the best hyperparameters found in the first one."
   ]
  },
  {
   "cell_type": "code",
   "execution_count": 31,
   "metadata": {
    "ExecuteTime": {
     "end_time": "2019-04-25T17:06:28.409488Z",
     "start_time": "2019-04-25T17:05:10.487135Z"
    }
   },
   "outputs": [
    {
     "name": "stdout",
     "output_type": "stream",
     "text": [
      "Fitting 100 folds for each of 48 candidates, totalling 4800 fits\n"
     ]
    },
    {
     "name": "stderr",
     "output_type": "stream",
     "text": [
      "[Parallel(n_jobs=-1)]: Using backend LokyBackend with 8 concurrent workers.\n",
      "[Parallel(n_jobs=-1)]: Done  16 tasks      | elapsed:   19.6s\n",
      "[Parallel(n_jobs=-1)]: Done 158 tasks      | elapsed:   21.3s\n",
      "[Parallel(n_jobs=-1)]: Done 478 tasks      | elapsed:   25.0s\n",
      "[Parallel(n_jobs=-1)]: Done 926 tasks      | elapsed:   30.0s\n",
      "[Parallel(n_jobs=-1)]: Done 1502 tasks      | elapsed:   36.8s\n",
      "[Parallel(n_jobs=-1)]: Done 2206 tasks      | elapsed:   44.9s\n",
      "[Parallel(n_jobs=-1)]: Done 3038 tasks      | elapsed:   55.1s\n",
      "[Parallel(n_jobs=-1)]: Done 3998 tasks      | elapsed:  1.1min\n",
      "[Parallel(n_jobs=-1)]: Done 4800 out of 4800 | elapsed:  1.3min finished\n"
     ]
    },
    {
     "data": {
      "text/plain": [
       "GridSearchCV(cv=StratifiedShuffleSplit(n_splits=100, random_state=3, test_size=0.3,\n",
       "            train_size=None),\n",
       "       error_score='raise-deprecating',\n",
       "       estimator=DecisionTreeClassifier(class_weight=None, criterion='gini', max_depth=None,\n",
       "            max_features=None, max_leaf_nodes=None,\n",
       "            min_impurity_decrease=0.0, min_impurity_split=None,\n",
       "            min_samples_leaf=1, min_samples_split=2,\n",
       "            min_weight_fraction_leaf=0.0, presort=False, random_state=None,\n",
       "            splitter='best'),\n",
       "       fit_params=None, iid='warn', n_jobs=-1,\n",
       "       param_grid=[{'max_depth': [9, 10, 11, 12], 'min_samples_split': [7, 8, 9], 'min_samples_leaf': [4, 5, 6, 7]}],\n",
       "       pre_dispatch='2*n_jobs', refit=True, return_train_score='warn',\n",
       "       scoring=None, verbose=3)"
      ]
     },
     "execution_count": 31,
     "metadata": {},
     "output_type": "execute_result"
    }
   ],
   "source": [
    "parameters = [{'max_depth' : [9,10,11,12],\n",
    "              'min_samples_split': [7,8,9],\n",
    "              'min_samples_leaf': [4,5,6,7]\n",
    "               }]\n",
    "dt_clf2 = DecisionTreeClassifier()\n",
    "ss = StratifiedShuffleSplit(n_splits=100, test_size=0.3, random_state=3)\n",
    "grid2 = GridSearchCV(dt_clf2, parameters, cv=ss, n_jobs=-1, verbose=3)\n",
    "grid2.fit(X_train_r, y_train_r)"
   ]
  },
  {
   "cell_type": "code",
   "execution_count": 32,
   "metadata": {
    "ExecuteTime": {
     "end_time": "2019-04-25T17:06:28.415505Z",
     "start_time": "2019-04-25T17:06:28.411495Z"
    }
   },
   "outputs": [
    {
     "name": "stdout",
     "output_type": "stream",
     "text": [
      "0.9542145593869732\n",
      "{'max_depth': 10, 'min_samples_leaf': 5, 'min_samples_split': 8}\n"
     ]
    }
   ],
   "source": [
    "print(grid2.best_score_)\n",
    "print(grid2.best_params_)"
   ]
  },
  {
   "cell_type": "markdown",
   "metadata": {},
   "source": [
    "We returned the same hyperparameters in both grid searches so we are now moving on to a StratifiedShuffleSplit on them. We will use n_splits of 1000 and withhold 30% of the data for a test set used in cross validation."
   ]
  },
  {
   "cell_type": "code",
   "execution_count": 21,
   "metadata": {
    "ExecuteTime": {
     "end_time": "2019-04-25T12:34:32.561841Z",
     "start_time": "2019-04-25T12:34:17.430197Z"
    }
   },
   "outputs": [],
   "source": [
    "from sklearn.model_selection import cross_validate\n",
    "dt_clf = DecisionTreeClassifier(criterion='entropy',max_depth=10,min_samples_leaf=5,min_samples_split=8)\n",
    "ss = StratifiedShuffleSplit(n_splits=1000, test_size=0.3, random_state=3)\n",
    "scores=cross_validate(dt_clf, X_train_r, y_train_r, cv=ss, return_train_score=True, scoring='accuracy', n_jobs=-1)"
   ]
  },
  {
   "cell_type": "code",
   "execution_count": 22,
   "metadata": {
    "ExecuteTime": {
     "end_time": "2019-04-25T12:34:32.569768Z",
     "start_time": "2019-04-25T12:34:32.561841Z"
    },
    "scrolled": true
   },
   "outputs": [
    {
     "name": "stdout",
     "output_type": "stream",
     "text": [
      "Validation Accuracy: 95.7030 (+/- 1.07)\n",
      "Train Accuracy: 98.37 (+/- 0.31)\n"
     ]
    }
   ],
   "source": [
    "print(\"Validation Accuracy: %0.4f (+/- %0.2f)\" % (scores['test_score'].mean()*100, scores['test_score'].std()*2*100))\n",
    "print(\"Train Accuracy: %0.2f (+/- %0.2f)\" % (scores['train_score'].mean()*100, scores['train_score'].std()*2*100))"
   ]
  },
  {
   "cell_type": "code",
   "execution_count": 43,
   "metadata": {
    "ExecuteTime": {
     "end_time": "2019-04-25T19:10:34.667026Z",
     "start_time": "2019-04-25T19:10:12.985932Z"
    }
   },
   "outputs": [],
   "source": [
    "from sklearn.model_selection import cross_validate\n",
    "dt_clf = DecisionTreeClassifier(criterion='entropy',max_depth=10,min_samples_leaf=5,min_samples_split=8)\n",
    "ss = StratifiedShuffleSplit(n_splits=1000, test_size=0.3, random_state=3)\n",
    "scores=cross_validate(dt_clf, X_train_r, y_train_r, cv=ss, return_train_score=True, scoring='roc_auc', n_jobs=-1)"
   ]
  },
  {
   "cell_type": "code",
   "execution_count": 44,
   "metadata": {
    "ExecuteTime": {
     "end_time": "2019-04-25T19:10:34.678844Z",
     "start_time": "2019-04-25T19:10:34.667026Z"
    }
   },
   "outputs": [
    {
     "name": "stdout",
     "output_type": "stream",
     "text": [
      "Validation Accuracy: 97.2624 (+/- 1.01)\n",
      "Train Accuracy: 99.88 (+/- 0.07)\n"
     ]
    }
   ],
   "source": [
    "print(\"Validation Accuracy: %0.4f (+/- %0.2f)\" % (scores['test_score'].mean()*100, scores['test_score'].std()*2*100))\n",
    "print(\"Train Accuracy: %0.2f (+/- %0.2f)\" % (scores['train_score'].mean()*100, scores['train_score'].std()*2*100))"
   ]
  },
  {
   "cell_type": "markdown",
   "metadata": {},
   "source": [
    "Both validation accuracy scores for the two different scoring types using our tuned hyperparameters outperformed our baseline models. "
   ]
  },
  {
   "cell_type": "markdown",
   "metadata": {},
   "source": [
    "# AdaBoost"
   ]
  },
  {
   "cell_type": "markdown",
   "metadata": {},
   "source": [
    "Now we will try AdaBoost to see if we can improve and build a baseline (default) model again."
   ]
  },
  {
   "cell_type": "code",
   "execution_count": 9,
   "metadata": {
    "ExecuteTime": {
     "end_time": "2019-04-30T16:35:24.345218Z",
     "start_time": "2019-04-30T16:35:23.959784Z"
    }
   },
   "outputs": [],
   "source": [
    "from sklearn.ensemble import AdaBoostClassifier\n",
    "from sklearn.model_selection import cross_validate"
   ]
  },
  {
   "cell_type": "code",
   "execution_count": 16,
   "metadata": {
    "ExecuteTime": {
     "end_time": "2019-04-30T16:36:01.850910Z",
     "start_time": "2019-04-30T16:35:56.002561Z"
    }
   },
   "outputs": [],
   "source": [
    "ada_clf = AdaBoostClassifier(DecisionTreeClassifier(),random_state=3)\n",
    "ss = StratifiedShuffleSplit(n_splits=100, test_size=0.3, random_state=3)\n",
    "scores=cross_validate(ada_clf, X_train_r, y_train_r, cv=ss, return_train_score=True, scoring='accuracy', n_jobs=-1)"
   ]
  },
  {
   "cell_type": "code",
   "execution_count": 17,
   "metadata": {
    "ExecuteTime": {
     "end_time": "2019-04-30T16:36:07.052932Z",
     "start_time": "2019-04-30T16:36:07.044899Z"
    }
   },
   "outputs": [
    {
     "name": "stdout",
     "output_type": "stream",
     "text": [
      "Validation Accuracy: 94.9872 (+/- 1.10)\n",
      "Train Accuracy: 100.00 (+/- 0.00)\n"
     ]
    }
   ],
   "source": [
    "print(\"Validation Accuracy: %0.4f (+/- %0.2f)\" % (scores['test_score'].mean()*100, scores['test_score'].std()*2*100))\n",
    "print(\"Train Accuracy: %0.2f (+/- %0.2f)\" % (scores['train_score'].mean()*100, scores['train_score'].std()*2*100))"
   ]
  },
  {
   "cell_type": "code",
   "execution_count": 18,
   "metadata": {
    "ExecuteTime": {
     "end_time": "2019-04-30T16:36:23.880502Z",
     "start_time": "2019-04-30T16:36:22.037690Z"
    }
   },
   "outputs": [],
   "source": [
    "ada_clf = AdaBoostClassifier(DecisionTreeClassifier(),random_state=3)\n",
    "ss = StratifiedShuffleSplit(n_splits=100, test_size=0.3, random_state=3)\n",
    "scores=cross_validate(ada_clf, X_train_r, y_train_r, cv=ss, return_train_score=True, scoring='roc_auc', n_jobs=-1)"
   ]
  },
  {
   "cell_type": "code",
   "execution_count": 19,
   "metadata": {
    "ExecuteTime": {
     "end_time": "2019-04-30T16:36:31.005566Z",
     "start_time": "2019-04-30T16:36:31.001597Z"
    }
   },
   "outputs": [
    {
     "name": "stdout",
     "output_type": "stream",
     "text": [
      "Validation Accuracy: 94.8036 (+/- 1.21)\n",
      "Train Accuracy: 100.00 (+/- 0.00)\n"
     ]
    }
   ],
   "source": [
    "print(\"Validation Accuracy: %0.4f (+/- %0.2f)\" % (scores['test_score'].mean()*100, scores['test_score'].std()*2*100))\n",
    "print(\"Train Accuracy: %0.2f (+/- %0.2f)\" % (scores['train_score'].mean()*100, scores['train_score'].std()*2*100))"
   ]
  },
  {
   "cell_type": "markdown",
   "metadata": {},
   "source": [
    "Now that we have our baseline scores we will add the best hyperparameters from our earlier Decision Tree and fine tune other ones used for AdaBoost. Use a series of graphs plotting a range a n_estimators and learning rates vs accuracy scores to help with this process and find AdaBoost's best parameters. "
   ]
  },
  {
   "cell_type": "code",
   "execution_count": 11,
   "metadata": {},
   "outputs": [
    {
     "data": {
      "image/png": "[encoded data removed]",
      "text/plain": [
       "<Figure size 432x288 with 1 Axes>"
      ]
     },
     "metadata": {
      "needs_background": "light"
     },
     "output_type": "display_data"
    }
   ],
   "source": [
    "splits = []\n",
    "for i in np.linspace(.1,.9,8):\n",
    "    ss = StratifiedShuffleSplit(n_splits=50, test_size=0.3, random_state=3)\n",
    "    ada_clf = AdaBoostClassifier(DecisionTreeClassifier(criterion='entropy',max_depth=10,min_samples_leaf=5,min_samples_split=8),\n",
    "    n_estimators=50, algorithm=\"SAMME.R\", learning_rate=i, random_state=3)\n",
    "    scores= cross_validate(ada_clf, X_train_r, y_train_r, cv=ss, return_train_score=True, scoring='accuracy', n_jobs=-1)\n",
    "    splits.append(scores['test_score'].mean()*100)\n",
    "plt.plot(np.linspace(.1,.9,8), splits)\n",
    "plt.show()"
   ]
  },
  {
   "cell_type": "code",
   "execution_count": 12,
   "metadata": {},
   "outputs": [
    {
     "data": {
      "image/png": "[encoded data removed]",
      "text/plain": [
       "<Figure size 432x288 with 1 Axes>"
      ]
     },
     "metadata": {
      "needs_background": "light"
     },
     "output_type": "display_data"
    }
   ],
   "source": [
    "splits = []\n",
    "for i in np.linspace(.1,.9,8):\n",
    "    \n",
    "    ss = StratifiedShuffleSplit(n_splits=50, test_size=0.3, random_state=3)\n",
    "    ada_clf = AdaBoostClassifier(DecisionTreeClassifier(criterion='entropy',max_depth=10,min_samples_leaf=5,min_samples_split=8),\n",
    "    n_estimators=200, algorithm=\"SAMME.R\", learning_rate=i, random_state=3)\n",
    "    scores= cross_validate(ada_clf, X_train_r, y_train_r, cv=ss, return_train_score=True, scoring='accuracy', n_jobs=-1)\n",
    "    splits.append(scores['test_score'].mean()*100)\n",
    "plt.plot(np.linspace(.1,.9,8), splits)\n",
    "plt.show()"
   ]
  },
  {
   "cell_type": "markdown",
   "metadata": {},
   "source": [
    "We can see that a higher accuracy score for both a smaller and larger number of n_estimators occurs with higher learning rates. We will choose a learning rate of 0.8, it is still relatively high but not as high as 0.9 to reduce the risk of training too fast and returning suboptimal results. "
   ]
  },
  {
   "cell_type": "code",
   "execution_count": 10,
   "metadata": {},
   "outputs": [
    {
     "data": {
      "image/png": "[encoded data removed]",
      "text/plain": [
       "<Figure size 432x288 with 1 Axes>"
      ]
     },
     "metadata": {
      "needs_background": "light"
     },
     "output_type": "display_data"
    }
   ],
   "source": [
    "splits = []\n",
    "for i in range(50,180,10):\n",
    "    ss = StratifiedShuffleSplit(n_splits=50, test_size=0.3, random_state=3)\n",
    "    ada_clf = AdaBoostClassifier(DecisionTreeClassifier(criterion='entropy',max_depth=10,min_samples_leaf=5,min_samples_split=8),\n",
    "    n_estimators=i, algorithm=\"SAMME.R\", learning_rate=.8, random_state=3)\n",
    "    scores= cross_validate(ada_clf, X_train_r, y_train_r, cv=ss, return_train_score=True, scoring='accuracy', n_jobs=-1)\n",
    "    splits.append(scores['test_score'].mean()*100)\n",
    "plt.plot(range(50,180,10), splits)\n",
    "plt.show() "
   ]
  },
  {
   "cell_type": "markdown",
   "metadata": {},
   "source": [
    "Based on the above graph, we will choose 160 for n_estimators and 0.8 for the learning rate to use for our AdaBoost best parameters. "
   ]
  },
  {
   "cell_type": "code",
   "execution_count": 21,
   "metadata": {
    "ExecuteTime": {
     "end_time": "2019-04-30T18:54:35.878337Z",
     "start_time": "2019-04-30T18:11:01.384379Z"
    }
   },
   "outputs": [],
   "source": [
    "ada_clf = AdaBoostClassifier(DecisionTreeClassifier(criterion='entropy',max_depth=10,min_samples_leaf=5,min_samples_split=8),\n",
    "    n_estimators=160, algorithm=\"SAMME.R\", learning_rate=0.8, random_state=3)\n",
    "ss = StratifiedShuffleSplit(n_splits=1000, test_size=0.3, random_state=3)\n",
    "scores=cross_validate(ada_clf, X_train_r, y_train_r, cv=ss, return_train_score=True, scoring='accuracy', n_jobs=-1)"
   ]
  },
  {
   "cell_type": "code",
   "execution_count": 22,
   "metadata": {
    "ExecuteTime": {
     "end_time": "2019-04-30T18:54:35.887330Z",
     "start_time": "2019-04-30T18:54:35.881313Z"
    }
   },
   "outputs": [
    {
     "name": "stdout",
     "output_type": "stream",
     "text": [
      "Validation Accuracy: 97.6900 (+/- 0.70)\n",
      "Train Accuracy: 100.00 (+/- 0.00)\n"
     ]
    }
   ],
   "source": [
    "print(\"Validation Accuracy: %0.4f (+/- %0.2f)\" % (scores['test_score'].mean()*100, scores['test_score'].std()*2*100))\n",
    "print(\"Train Accuracy: %0.2f (+/- %0.2f)\" % (scores['train_score'].mean()*100, scores['train_score'].std()*2*100))"
   ]
  },
  {
   "cell_type": "code",
   "execution_count": 24,
   "metadata": {
    "ExecuteTime": {
     "end_time": "2019-04-30T20:00:59.728966Z",
     "start_time": "2019-04-30T19:15:40.524527Z"
    }
   },
   "outputs": [],
   "source": [
    "ada_clf = AdaBoostClassifier(DecisionTreeClassifier(criterion='entropy',max_depth=10,min_samples_leaf=5,min_samples_split=8),\n",
    "    n_estimators=160, algorithm=\"SAMME.R\", learning_rate=0.8, random_state=3)\n",
    "ss = StratifiedShuffleSplit(n_splits=1000, test_size=0.3, random_state=3)\n",
    "scores=cross_validate(ada_clf, X_train_r, y_train_r, cv=ss, return_train_score=True, scoring='roc_auc', n_jobs=-1)"
   ]
  },
  {
   "cell_type": "code",
   "execution_count": 25,
   "metadata": {
    "ExecuteTime": {
     "end_time": "2019-04-30T20:00:59.735611Z",
     "start_time": "2019-04-30T20:00:59.728966Z"
    }
   },
   "outputs": [
    {
     "name": "stdout",
     "output_type": "stream",
     "text": [
      "Validation Accuracy: 99.6192 (+/- 0.21)\n",
      "Train Accuracy: 100.00 (+/- 0.00)\n"
     ]
    }
   ],
   "source": [
    "print(\"Validation Accuracy: %0.4f (+/- %0.2f)\" % (scores['test_score'].mean()*100, scores['test_score'].std()*2*100))\n",
    "print(\"Train Accuracy: %0.2f (+/- %0.2f)\" % (scores['train_score'].mean()*100, scores['train_score'].std()*2*100))"
   ]
  },
  {
   "cell_type": "markdown",
   "metadata": {},
   "source": [
    "We can see that our tuned model outperforms one using only the defaults."
   ]
  },
  {
   "cell_type": "markdown",
   "metadata": {},
   "source": [
    "The rest of the code below shows other combinations of n_estimators and learning rates tried but none of them are better than the above model and help confirm the information from the graphs in selecting our best hyperparameters. "
   ]
  },
  {
   "cell_type": "code",
   "execution_count": 59,
   "metadata": {
    "ExecuteTime": {
     "end_time": "2019-04-26T15:07:00.086292Z",
     "start_time": "2019-04-26T14:56:41.526863Z"
    }
   },
   "outputs": [],
   "source": [
    "ada_clf = AdaBoostClassifier(DecisionTreeClassifier(criterion='entropy',max_depth=10,min_samples_leaf=5,min_samples_split=8),\n",
    "    n_estimators=175, algorithm=\"SAMME.R\", learning_rate=0.3, random_state=3)\n",
    "ss = StratifiedShuffleSplit(n_splits=100, test_size=0.3, random_state=3)\n",
    "scores=cross_validate(ada_clf, X_train_r, y_train_r, cv=ss, return_train_score=True, scoring='accuracy', n_jobs=-1)"
   ]
  },
  {
   "cell_type": "code",
   "execution_count": 60,
   "metadata": {
    "ExecuteTime": {
     "end_time": "2019-04-26T15:07:00.098323Z",
     "start_time": "2019-04-26T15:07:00.090302Z"
    }
   },
   "outputs": [
    {
     "name": "stdout",
     "output_type": "stream",
     "text": [
      "Validation Accuracy: 97.0172 (+/- 0.88)\n",
      "Train Accuracy: 100.00 (+/- 0.00)\n"
     ]
    }
   ],
   "source": [
    "print(\"Validation Accuracy: %0.4f (+/- %0.2f)\" % (scores['test_score'].mean()*100, scores['test_score'].std()*2*100))\n",
    "print(\"Train Accuracy: %0.2f (+/- %0.2f)\" % (scores['train_score'].mean()*100, scores['train_score'].std()*2*100))"
   ]
  },
  {
   "cell_type": "code",
   "execution_count": 61,
   "metadata": {
    "ExecuteTime": {
     "end_time": "2019-04-26T15:14:21.929298Z",
     "start_time": "2019-04-26T15:07:00.101332Z"
    }
   },
   "outputs": [],
   "source": [
    "ada_clf = AdaBoostClassifier(DecisionTreeClassifier(criterion='entropy',max_depth=10,min_samples_leaf=5,min_samples_split=8),\n",
    "    n_estimators=175, algorithm=\"SAMME.R\", learning_rate=0.3, random_state=3)\n",
    "ss = StratifiedShuffleSplit(n_splits=100, test_size=0.3, random_state=3)\n",
    "scores=cross_validate(ada_clf, X_train_r, y_train_r, cv=ss, return_train_score=True, scoring='roc_auc', n_jobs=-1)"
   ]
  },
  {
   "cell_type": "code",
   "execution_count": 62,
   "metadata": {
    "ExecuteTime": {
     "end_time": "2019-04-26T15:14:21.938323Z",
     "start_time": "2019-04-26T15:14:21.931304Z"
    }
   },
   "outputs": [
    {
     "name": "stdout",
     "output_type": "stream",
     "text": [
      "Validation Accuracy: 99.4041 (+/- 0.33)\n",
      "Train Accuracy: 100.00 (+/- 0.00)\n"
     ]
    }
   ],
   "source": [
    "print(\"Validation Accuracy: %0.4f (+/- %0.2f)\" % (scores['test_score'].mean()*100, scores['test_score'].std()*2*100))\n",
    "print(\"Train Accuracy: %0.2f (+/- %0.2f)\" % (scores['train_score'].mean()*100, scores['train_score'].std()*2*100))"
   ]
  },
  {
   "cell_type": "code",
   "execution_count": null,
   "metadata": {},
   "outputs": [],
   "source": []
  },
  {
   "cell_type": "code",
   "execution_count": 45,
   "metadata": {
    "ExecuteTime": {
     "end_time": "2019-04-26T14:17:28.130664Z",
     "start_time": "2019-04-26T14:14:19.635193Z"
    }
   },
   "outputs": [],
   "source": [
    "ada_clf = AdaBoostClassifier(DecisionTreeClassifier(criterion='entropy',max_depth=10,min_samples_leaf=5,min_samples_split=8),\n",
    "    n_estimators=100, algorithm=\"SAMME.R\", learning_rate=0.7, random_state=3)\n",
    "ss = StratifiedShuffleSplit(n_splits=100, test_size=0.3, random_state=3)\n",
    "scores=cross_validate(ada_clf, X_train_r, y_train_r, cv=ss, return_train_score=True, scoring='accuracy', n_jobs=-1)"
   ]
  },
  {
   "cell_type": "code",
   "execution_count": 46,
   "metadata": {
    "ExecuteTime": {
     "end_time": "2019-04-26T14:17:28.137683Z",
     "start_time": "2019-04-26T14:17:28.132669Z"
    },
    "scrolled": true
   },
   "outputs": [
    {
     "name": "stdout",
     "output_type": "stream",
     "text": [
      "Validation Accuracy: 97.5217 (+/- 0.71)\n",
      "Train Accuracy: 100.00 (+/- 0.00)\n"
     ]
    }
   ],
   "source": [
    "print(\"Validation Accuracy: %0.4f (+/- %0.2f)\" % (scores['test_score'].mean()*100, scores['test_score'].std()*2*100))\n",
    "print(\"Train Accuracy: %0.2f (+/- %0.2f)\" % (scores['train_score'].mean()*100, scores['train_score'].std()*2*100))"
   ]
  },
  {
   "cell_type": "code",
   "execution_count": 51,
   "metadata": {
    "ExecuteTime": {
     "end_time": "2019-04-26T14:32:04.217484Z",
     "start_time": "2019-04-26T14:29:16.029421Z"
    }
   },
   "outputs": [],
   "source": [
    "ada_clf = AdaBoostClassifier(DecisionTreeClassifier(criterion='entropy',max_depth=10,min_samples_leaf=5,min_samples_split=8),\n",
    "    n_estimators=100, algorithm=\"SAMME.R\", learning_rate=0.7, random_state=3)\n",
    "ss = StratifiedShuffleSplit(n_splits=100, test_size=0.3, random_state=3)\n",
    "scores=cross_validate(ada_clf, X_train_r, y_train_r, cv=ss, return_train_score=True, scoring='roc_auc', n_jobs=-1)"
   ]
  },
  {
   "cell_type": "code",
   "execution_count": 52,
   "metadata": {
    "ExecuteTime": {
     "end_time": "2019-04-26T14:32:04.223502Z",
     "start_time": "2019-04-26T14:32:04.218487Z"
    }
   },
   "outputs": [
    {
     "name": "stdout",
     "output_type": "stream",
     "text": [
      "Validation Accuracy: 99.5577 (+/- 0.26)\n",
      "Train Accuracy: 100.00 (+/- 0.00)\n"
     ]
    }
   ],
   "source": [
    "print(\"Validation Accuracy: %0.4f (+/- %0.2f)\" % (scores['test_score'].mean()*100, scores['test_score'].std()*2*100))\n",
    "print(\"Train Accuracy: %0.2f (+/- %0.2f)\" % (scores['train_score'].mean()*100, scores['train_score'].std()*2*100))"
   ]
  },
  {
   "cell_type": "code",
   "execution_count": null,
   "metadata": {},
   "outputs": [],
   "source": []
  },
  {
   "cell_type": "code",
   "execution_count": 49,
   "metadata": {
    "ExecuteTime": {
     "end_time": "2019-04-26T14:29:16.018391Z",
     "start_time": "2019-04-26T14:23:45.024687Z"
    }
   },
   "outputs": [],
   "source": [
    "ada_clf = AdaBoostClassifier(DecisionTreeClassifier(criterion='entropy',max_depth=10,min_samples_leaf=5,min_samples_split=8),\n",
    "    n_estimators=200, algorithm=\"SAMME.R\", learning_rate=0.4, random_state=3)\n",
    "ss = StratifiedShuffleSplit(n_splits=100, test_size=0.3, random_state=3)\n",
    "scores=cross_validate(ada_clf, X_train_r, y_train_r, cv=ss, return_train_score=True, scoring='accuracy', n_jobs=-1)"
   ]
  },
  {
   "cell_type": "code",
   "execution_count": 50,
   "metadata": {
    "ExecuteTime": {
     "end_time": "2019-04-26T14:29:16.027416Z",
     "start_time": "2019-04-26T14:29:16.021399Z"
    }
   },
   "outputs": [
    {
     "name": "stdout",
     "output_type": "stream",
     "text": [
      "Validation Accuracy: 97.2395 (+/- 0.78)\n",
      "Train Accuracy: 100.00 (+/- 0.00)\n"
     ]
    }
   ],
   "source": [
    "print(\"Validation Accuracy: %0.4f (+/- %0.2f)\" % (scores['test_score'].mean()*100, scores['test_score'].std()*2*100))\n",
    "print(\"Train Accuracy: %0.2f (+/- %0.2f)\" % (scores['train_score'].mean()*100, scores['train_score'].std()*2*100))"
   ]
  },
  {
   "cell_type": "code",
   "execution_count": 53,
   "metadata": {
    "ExecuteTime": {
     "end_time": "2019-04-26T14:37:54.134731Z",
     "start_time": "2019-04-26T14:32:04.225508Z"
    }
   },
   "outputs": [],
   "source": [
    "ada_clf = AdaBoostClassifier(DecisionTreeClassifier(criterion='entropy',max_depth=10,min_samples_leaf=5,min_samples_split=8),\n",
    "    n_estimators=200, algorithm=\"SAMME.R\", learning_rate=0.4, random_state=3)\n",
    "ss = StratifiedShuffleSplit(n_splits=100, test_size=0.3, random_state=3)\n",
    "scores=cross_validate(ada_clf, X_train_r, y_train_r, cv=ss, return_train_score=True, scoring='roc_auc', n_jobs=-1)"
   ]
  },
  {
   "cell_type": "code",
   "execution_count": 54,
   "metadata": {
    "ExecuteTime": {
     "end_time": "2019-04-26T14:37:54.142713Z",
     "start_time": "2019-04-26T14:37:54.136699Z"
    }
   },
   "outputs": [
    {
     "name": "stdout",
     "output_type": "stream",
     "text": [
      "Validation Accuracy: 99.4721 (+/- 0.26)\n",
      "Train Accuracy: 100.00 (+/- 0.00)\n"
     ]
    }
   ],
   "source": [
    "print(\"Validation Accuracy: %0.4f (+/- %0.2f)\" % (scores['test_score'].mean()*100, scores['test_score'].std()*2*100))\n",
    "print(\"Train Accuracy: %0.2f (+/- %0.2f)\" % (scores['train_score'].mean()*100, scores['train_score'].std()*2*100))"
   ]
  },
  {
   "cell_type": "code",
   "execution_count": null,
   "metadata": {},
   "outputs": [],
   "source": []
  },
  {
   "cell_type": "code",
   "execution_count": 41,
   "metadata": {
    "ExecuteTime": {
     "end_time": "2019-04-25T18:45:16.119705Z",
     "start_time": "2019-04-25T18:41:14.763721Z"
    }
   },
   "outputs": [],
   "source": [
    "ada_clf = AdaBoostClassifier(DecisionTreeClassifier(criterion='entropy',max_depth=10,min_samples_leaf=5,min_samples_split=8),\n",
    "    n_estimators=150, algorithm=\"SAMME.R\", learning_rate=0.5, random_state=3)\n",
    "ss = StratifiedShuffleSplit(n_splits=100, test_size=0.3, random_state=3)\n",
    "scores=cross_validate(ada_clf, X_train_r, y_train_r, cv=ss, return_train_score=True, scoring='accuracy', n_jobs=-1)"
   ]
  },
  {
   "cell_type": "code",
   "execution_count": 42,
   "metadata": {
    "ExecuteTime": {
     "end_time": "2019-04-25T18:45:16.131688Z",
     "start_time": "2019-04-25T18:45:16.123687Z"
    }
   },
   "outputs": [
    {
     "name": "stdout",
     "output_type": "stream",
     "text": [
      "Validation Accuracy: 97.2797 (+/- 0.84)\n",
      "Train Accuracy: 100.00 (+/- 0.00)\n"
     ]
    }
   ],
   "source": [
    "print(\"Validation Accuracy: %0.4f (+/- %0.2f)\" % (scores['test_score'].mean()*100, scores['test_score'].std()*2*100))\n",
    "print(\"Train Accuracy: %0.2f (+/- %0.2f)\" % (scores['train_score'].mean()*100, scores['train_score'].std()*2*100))"
   ]
  },
  {
   "cell_type": "code",
   "execution_count": 39,
   "metadata": {
    "ExecuteTime": {
     "end_time": "2019-04-25T18:39:16.807786Z",
     "start_time": "2019-04-25T18:35:22.855974Z"
    }
   },
   "outputs": [],
   "source": [
    "ada_clf = AdaBoostClassifier(DecisionTreeClassifier(criterion='entropy',max_depth=10,min_samples_leaf=5,min_samples_split=8),\n",
    "    n_estimators=150, algorithm=\"SAMME.R\", learning_rate=0.5, random_state=3)\n",
    "ss = StratifiedShuffleSplit(n_splits=100, test_size=0.3, random_state=3)\n",
    "scores=cross_validate(ada_clf, X_train_r, y_train_r, cv=ss, return_train_score=True, scoring='roc_auc', n_jobs=-1)"
   ]
  },
  {
   "cell_type": "code",
   "execution_count": 40,
   "metadata": {
    "ExecuteTime": {
     "end_time": "2019-04-25T18:39:16.815688Z",
     "start_time": "2019-04-25T18:39:16.807786Z"
    }
   },
   "outputs": [
    {
     "name": "stdout",
     "output_type": "stream",
     "text": [
      "Validation Accuracy: 99.4834 (+/- 0.28)\n",
      "Train Accuracy: 100.00 (+/- 0.00)\n"
     ]
    }
   ],
   "source": [
    "print(\"Validation Accuracy: %0.4f (+/- %0.2f)\" % (scores['test_score'].mean()*100, scores['test_score'].std()*2*100))\n",
    "print(\"Train Accuracy: %0.2f (+/- %0.2f)\" % (scores['train_score'].mean()*100, scores['train_score'].std()*2*100))"
   ]
  }
 ],
 "metadata": {
  "kernelspec": {
   "display_name": "Python 3",
   "language": "python",
   "name": "python3"
  },
  "language_info": {
   "codemirror_mode": {
    "name": "ipython",
    "version": 3
   },
   "file_extension": ".py",
   "mimetype": "text/x-python",
   "name": "python",
   "nbconvert_exporter": "python",
   "pygments_lexer": "ipython3",
   "version": "3.7.2"
  },
  "toc": {
   "base_numbering": 1,
   "nav_menu": {},
   "number_sections": true,
   "sideBar": true,
   "skip_h1_title": true,
   "title_cell": "Table of Contents",
   "title_sidebar": "Contents",
   "toc_cell": false,
   "toc_position": {},
   "toc_section_display": true,
   "toc_window_display": false
  }
 },
 "nbformat": 4,
 "nbformat_minor": 2
}
