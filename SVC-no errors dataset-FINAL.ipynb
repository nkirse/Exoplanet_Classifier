{
 "cells": [
  {
   "cell_type": "markdown",
   "metadata": {},
   "source": [
    "Lauren Hare"
   ]
  },
  {
   "cell_type": "markdown",
   "metadata": {},
   "source": [
    "**Import and read in file**"
   ]
  },
  {
   "cell_type": "code",
   "execution_count": 8,
   "metadata": {},
   "outputs": [],
   "source": [
    "import pandas as pd\n",
    "import numpy as np\n",
    "import matplotlib.pyplot as plt\n",
    "\n",
    "from sklearn.svm import SVC\n",
    "from sklearn.model_selection import GridSearchCV\n",
    "\n",
    "from sklearn.model_selection import train_test_split\n",
    "\n",
    "from sklearn.metrics import classification_report, confusion_matrix\n",
    "from sklearn.metrics import accuracy_score\n",
    "\n",
    "from sklearn.model_selection import StratifiedShuffleSplit\n",
    "\n",
    "from sklearn.model_selection import cross_validate\n",
    "\n",
    "from sklearn.ensemble import AdaBoostClassifier\n",
    "\n",
    "from sklearn.preprocessing import StandardScaler"
   ]
  },
  {
   "cell_type": "code",
   "execution_count": 44,
   "metadata": {},
   "outputs": [
    {
     "data": {
      "text/html": [
       "<div>\n",
       "<style scoped>\n",
       "    .dataframe tbody tr th:only-of-type {\n",
       "        vertical-align: middle;\n",
       "    }\n",
       "\n",
       "    .dataframe tbody tr th {\n",
       "        vertical-align: top;\n",
       "    }\n",
       "\n",
       "    .dataframe thead th {\n",
       "        text-align: right;\n",
       "    }\n",
       "</style>\n",
       "<table border=\"1\" class=\"dataframe\">\n",
       "  <thead>\n",
       "    <tr style=\"text-align: right;\">\n",
       "      <th></th>\n",
       "      <th>PRF Δθ&lt;sub&gt;SQ&lt;/sub&gt;(KIC) [arcsec]</th>\n",
       "      <th>Number of Planets</th>\n",
       "      <th>Planet-Star Radius Ratio</th>\n",
       "      <th>Planetary Radius [Earth radii]</th>\n",
       "      <th>PRF Δθ&lt;sub&gt;SQ&lt;/sub&gt;(OOT) [arcsec]</th>\n",
       "      <th>Maximum Multiple Event Statistic</th>\n",
       "      <th>FW Offset Significance [percent]</th>\n",
       "      <th>Planet-Star Distance over Star Radius</th>\n",
       "      <th>Transit Depth [ppm]</th>\n",
       "      <th>Transit Signal-to-Noise</th>\n",
       "      <th>...</th>\n",
       "      <th>Stellar Metallicity [dex]</th>\n",
       "      <th>FW Source Δα(OOT) [sec]</th>\n",
       "      <th>Transit Duration [hrs]</th>\n",
       "      <th>FW Source Δδ(OOT) [arcsec]</th>\n",
       "      <th>Maximum Single Event Statistic</th>\n",
       "      <th>Fitted Stellar Density [g/cm**3]</th>\n",
       "      <th>Orbit Semi-Major Axis [AU]</th>\n",
       "      <th>Orbital Period [days]</th>\n",
       "      <th>Insolation Flux [Earth flux]</th>\n",
       "      <th>Exoplanet Archive Disposition</th>\n",
       "    </tr>\n",
       "  </thead>\n",
       "  <tbody>\n",
       "    <tr>\n",
       "      <th>0</th>\n",
       "      <td>0.320</td>\n",
       "      <td>2</td>\n",
       "      <td>0.022344</td>\n",
       "      <td>2.26</td>\n",
       "      <td>0.200</td>\n",
       "      <td>28.470820</td>\n",
       "      <td>0.002</td>\n",
       "      <td>24.810</td>\n",
       "      <td>615.8</td>\n",
       "      <td>35.8</td>\n",
       "      <td>...</td>\n",
       "      <td>0.14</td>\n",
       "      <td>0.430</td>\n",
       "      <td>2.95750</td>\n",
       "      <td>0.940</td>\n",
       "      <td>5.135849</td>\n",
       "      <td>3.20796</td>\n",
       "      <td>0.0853</td>\n",
       "      <td>9.488036</td>\n",
       "      <td>93.59</td>\n",
       "      <td>CONFIRMED</td>\n",
       "    </tr>\n",
       "    <tr>\n",
       "      <th>1</th>\n",
       "      <td>0.500</td>\n",
       "      <td>2</td>\n",
       "      <td>0.027954</td>\n",
       "      <td>2.83</td>\n",
       "      <td>0.390</td>\n",
       "      <td>20.109507</td>\n",
       "      <td>0.003</td>\n",
       "      <td>77.900</td>\n",
       "      <td>874.8</td>\n",
       "      <td>25.8</td>\n",
       "      <td>...</td>\n",
       "      <td>0.14</td>\n",
       "      <td>-0.630</td>\n",
       "      <td>4.50700</td>\n",
       "      <td>1.230</td>\n",
       "      <td>7.027669</td>\n",
       "      <td>3.02368</td>\n",
       "      <td>0.2734</td>\n",
       "      <td>54.418383</td>\n",
       "      <td>9.11</td>\n",
       "      <td>CONFIRMED</td>\n",
       "    </tr>\n",
       "    <tr>\n",
       "      <th>2</th>\n",
       "      <td>0.276</td>\n",
       "      <td>1</td>\n",
       "      <td>0.387394</td>\n",
       "      <td>33.46</td>\n",
       "      <td>0.289</td>\n",
       "      <td>541.895100</td>\n",
       "      <td>0.000</td>\n",
       "      <td>3.278</td>\n",
       "      <td>8079.2</td>\n",
       "      <td>505.6</td>\n",
       "      <td>...</td>\n",
       "      <td>-0.52</td>\n",
       "      <td>-0.111</td>\n",
       "      <td>2.40641</td>\n",
       "      <td>0.002</td>\n",
       "      <td>39.066550</td>\n",
       "      <td>0.22080</td>\n",
       "      <td>0.0267</td>\n",
       "      <td>1.736952</td>\n",
       "      <td>891.96</td>\n",
       "      <td>FALSE POSITIVE</td>\n",
       "    </tr>\n",
       "    <tr>\n",
       "      <th>3</th>\n",
       "      <td>0.070</td>\n",
       "      <td>1</td>\n",
       "      <td>0.024064</td>\n",
       "      <td>2.75</td>\n",
       "      <td>0.100</td>\n",
       "      <td>33.191900</td>\n",
       "      <td>0.733</td>\n",
       "      <td>8.750</td>\n",
       "      <td>603.3</td>\n",
       "      <td>40.9</td>\n",
       "      <td>...</td>\n",
       "      <td>0.07</td>\n",
       "      <td>-0.010</td>\n",
       "      <td>1.65450</td>\n",
       "      <td>0.230</td>\n",
       "      <td>4.749945</td>\n",
       "      <td>1.98635</td>\n",
       "      <td>0.0374</td>\n",
       "      <td>2.525592</td>\n",
       "      <td>926.16</td>\n",
       "      <td>CONFIRMED</td>\n",
       "    </tr>\n",
       "    <tr>\n",
       "      <th>4</th>\n",
       "      <td>8.948</td>\n",
       "      <td>1</td>\n",
       "      <td>0.183387</td>\n",
       "      <td>39.21</td>\n",
       "      <td>8.930</td>\n",
       "      <td>46.153080</td>\n",
       "      <td>0.000</td>\n",
       "      <td>2.400</td>\n",
       "      <td>233.7</td>\n",
       "      <td>47.7</td>\n",
       "      <td>...</td>\n",
       "      <td>0.00</td>\n",
       "      <td>-13.450</td>\n",
       "      <td>5.02200</td>\n",
       "      <td>24.090</td>\n",
       "      <td>10.964684</td>\n",
       "      <td>0.00485</td>\n",
       "      <td>0.0820</td>\n",
       "      <td>7.361790</td>\n",
       "      <td>767.22</td>\n",
       "      <td>FALSE POSITIVE</td>\n",
       "    </tr>\n",
       "  </tbody>\n",
       "</table>\n",
       "<p>5 rows × 24 columns</p>\n",
       "</div>"
      ],
      "text/plain": [
       "   PRF Δθ<sub>SQ</sub>(KIC) [arcsec]  Number of Planets  \\\n",
       "0                              0.320                  2   \n",
       "1                              0.500                  2   \n",
       "2                              0.276                  1   \n",
       "3                              0.070                  1   \n",
       "4                              8.948                  1   \n",
       "\n",
       "   Planet-Star Radius Ratio  Planetary Radius [Earth radii]  \\\n",
       "0                  0.022344                            2.26   \n",
       "1                  0.027954                            2.83   \n",
       "2                  0.387394                           33.46   \n",
       "3                  0.024064                            2.75   \n",
       "4                  0.183387                           39.21   \n",
       "\n",
       "   PRF Δθ<sub>SQ</sub>(OOT) [arcsec]  Maximum Multiple Event Statistic  \\\n",
       "0                              0.200                         28.470820   \n",
       "1                              0.390                         20.109507   \n",
       "2                              0.289                        541.895100   \n",
       "3                              0.100                         33.191900   \n",
       "4                              8.930                         46.153080   \n",
       "\n",
       "   FW Offset Significance [percent]  Planet-Star Distance over Star Radius  \\\n",
       "0                             0.002                                 24.810   \n",
       "1                             0.003                                 77.900   \n",
       "2                             0.000                                  3.278   \n",
       "3                             0.733                                  8.750   \n",
       "4                             0.000                                  2.400   \n",
       "\n",
       "   Transit Depth [ppm]  Transit Signal-to-Noise  \\\n",
       "0                615.8                     35.8   \n",
       "1                874.8                     25.8   \n",
       "2               8079.2                    505.6   \n",
       "3                603.3                     40.9   \n",
       "4                233.7                     47.7   \n",
       "\n",
       "               ...                Stellar Metallicity [dex]  \\\n",
       "0              ...                                     0.14   \n",
       "1              ...                                     0.14   \n",
       "2              ...                                    -0.52   \n",
       "3              ...                                     0.07   \n",
       "4              ...                                     0.00   \n",
       "\n",
       "   FW Source Δα(OOT) [sec]  Transit Duration [hrs]  \\\n",
       "0                    0.430                 2.95750   \n",
       "1                   -0.630                 4.50700   \n",
       "2                   -0.111                 2.40641   \n",
       "3                   -0.010                 1.65450   \n",
       "4                  -13.450                 5.02200   \n",
       "\n",
       "   FW Source Δδ(OOT) [arcsec]  Maximum Single Event Statistic  \\\n",
       "0                       0.940                        5.135849   \n",
       "1                       1.230                        7.027669   \n",
       "2                       0.002                       39.066550   \n",
       "3                       0.230                        4.749945   \n",
       "4                      24.090                       10.964684   \n",
       "\n",
       "   Fitted Stellar Density [g/cm**3]  Orbit Semi-Major Axis [AU]  \\\n",
       "0                           3.20796                      0.0853   \n",
       "1                           3.02368                      0.2734   \n",
       "2                           0.22080                      0.0267   \n",
       "3                           1.98635                      0.0374   \n",
       "4                           0.00485                      0.0820   \n",
       "\n",
       "   Orbital Period [days]  Insolation Flux [Earth flux]  \\\n",
       "0               9.488036                         93.59   \n",
       "1              54.418383                          9.11   \n",
       "2               1.736952                        891.96   \n",
       "3               2.525592                        926.16   \n",
       "4               7.361790                        767.22   \n",
       "\n",
       "   Exoplanet Archive Disposition  \n",
       "0                      CONFIRMED  \n",
       "1                      CONFIRMED  \n",
       "2                 FALSE POSITIVE  \n",
       "3                      CONFIRMED  \n",
       "4                 FALSE POSITIVE  \n",
       "\n",
       "[5 rows x 24 columns]"
      ]
     },
     "execution_count": 44,
     "metadata": {},
     "output_type": "execute_result"
    }
   ],
   "source": [
    "planets = pd.read_csv(\"no_errors_reduced.csv\")\n",
    "planets = planets.drop('Unnamed: 0', axis=1)\n",
    "planets.head()"
   ]
  },
  {
   "cell_type": "markdown",
   "metadata": {},
   "source": [
    "**Create X and y**"
   ]
  },
  {
   "cell_type": "code",
   "execution_count": 45,
   "metadata": {},
   "outputs": [],
   "source": [
    "X = planets.drop('Exoplanet Archive Disposition',axis=1)\n",
    "y = planets['Exoplanet Archive Disposition']"
   ]
  },
  {
   "cell_type": "markdown",
   "metadata": {},
   "source": [
    "**Scale X**"
   ]
  },
  {
   "cell_type": "code",
   "execution_count": 46,
   "metadata": {},
   "outputs": [],
   "source": [
    "scaler = StandardScaler()\n",
    "scaler.fit(X)\n",
    "X = scaler.transform(X)"
   ]
  },
  {
   "cell_type": "markdown",
   "metadata": {},
   "source": [
    "**Test and Train Split**"
   ]
  },
  {
   "cell_type": "code",
   "execution_count": 47,
   "metadata": {},
   "outputs": [],
   "source": [
    "X_train, X_test, y_train, y_test = train_test_split(X, y, test_size=0.30, random_state=10)"
   ]
  },
  {
   "cell_type": "markdown",
   "metadata": {},
   "source": [
    "**Classifier with only default parameters and using test/train split**"
   ]
  },
  {
   "cell_type": "code",
   "execution_count": 48,
   "metadata": {},
   "outputs": [
    {
     "data": {
      "text/plain": [
       "SVC(C=1.0, cache_size=200, class_weight=None, coef0=0.0,\n",
       "  decision_function_shape='ovr', degree=3, gamma='auto', kernel='rbf',\n",
       "  max_iter=-1, probability=False, random_state=None, shrinking=True,\n",
       "  tol=0.001, verbose=False)"
      ]
     },
     "execution_count": 48,
     "metadata": {},
     "output_type": "execute_result"
    }
   ],
   "source": [
    "svc = SVC()\n",
    "svc.fit(X_train,y_train)"
   ]
  },
  {
   "cell_type": "code",
   "execution_count": 49,
   "metadata": {},
   "outputs": [
    {
     "name": "stdout",
     "output_type": "stream",
     "text": [
      "Training set score: 0.947138\n"
     ]
    }
   ],
   "source": [
    "print(\"Training set score: %f\" % svc.score(X_train,y_train))\n",
    "#print(clf.best_params_)"
   ]
  },
  {
   "cell_type": "code",
   "execution_count": 50,
   "metadata": {},
   "outputs": [
    {
     "name": "stdout",
     "output_type": "stream",
     "text": [
      "Test set score: 0.952746\n"
     ]
    }
   ],
   "source": [
    "print(\"Test set score: %f\" % svc.score(X_test, y_test))"
   ]
  },
  {
   "cell_type": "code",
   "execution_count": 51,
   "metadata": {},
   "outputs": [],
   "source": [
    "predictions = svc.predict(X_test)"
   ]
  },
  {
   "cell_type": "code",
   "execution_count": 52,
   "metadata": {},
   "outputs": [
    {
     "name": "stdout",
     "output_type": "stream",
     "text": [
      "                precision    recall  f1-score   support\n",
      "\n",
      "     CONFIRMED       0.92      0.97      0.94       631\n",
      "FALSE POSITIVE       0.98      0.94      0.96       935\n",
      "\n",
      "   avg / total       0.95      0.95      0.95      1566\n",
      "\n"
     ]
    }
   ],
   "source": [
    "print(classification_report(y_test,predictions))"
   ]
  },
  {
   "cell_type": "code",
   "execution_count": 53,
   "metadata": {},
   "outputs": [
    {
     "name": "stdout",
     "output_type": "stream",
     "text": [
      "[[609  22]\n",
      " [ 52 883]]\n"
     ]
    }
   ],
   "source": [
    "print(confusion_matrix(y_test,predictions))"
   ]
  },
  {
   "cell_type": "code",
   "execution_count": 54,
   "metadata": {},
   "outputs": [
    {
     "name": "stdout",
     "output_type": "stream",
     "text": [
      "0.9527458492975734\n"
     ]
    }
   ],
   "source": [
    "print(accuracy_score(y_test,predictions))"
   ]
  },
  {
   "cell_type": "markdown",
   "metadata": {},
   "source": [
    "**SVC with Stratified Shuffle Split - default parameters**"
   ]
  },
  {
   "cell_type": "code",
   "execution_count": 61,
   "metadata": {},
   "outputs": [
    {
     "name": "stdout",
     "output_type": "stream",
     "text": [
      "Fitting 100 folds for each of 1 candidates, totalling 100 fits\n"
     ]
    },
    {
     "name": "stderr",
     "output_type": "stream",
     "text": [
      "[Parallel(n_jobs=-1)]: Done  16 tasks      | elapsed:    8.3s\n",
      "[Parallel(n_jobs=-1)]: Done 100 out of 100 | elapsed:   12.6s finished\n"
     ]
    },
    {
     "data": {
      "text/plain": [
       "GridSearchCV(cv=StratifiedShuffleSplit(n_splits=100, random_state=3, test_size=0.3,\n",
       "            train_size=None),\n",
       "       error_score='raise',\n",
       "       estimator=SVC(C=1.0, cache_size=200, class_weight=None, coef0=0.0,\n",
       "  decision_function_shape='ovr', degree=3, gamma='auto', kernel='rbf',\n",
       "  max_iter=-1, probability=False, random_state=None, shrinking=True,\n",
       "  tol=0.001, verbose=False),\n",
       "       fit_params=None, iid=True, n_jobs=-1, param_grid={},\n",
       "       pre_dispatch='2*n_jobs', refit=True, return_train_score='warn',\n",
       "       scoring=None, verbose=3)"
      ]
     },
     "execution_count": 61,
     "metadata": {},
     "output_type": "execute_result"
    }
   ],
   "source": [
    "parameters = {}\n",
    "svc = SVC()\n",
    "ss = StratifiedShuffleSplit(n_splits=100, test_size=0.3, random_state=3)\n",
    "grid_svc = GridSearchCV(svc, parameters, cv=ss, n_jobs=-1, verbose=3)\n",
    "grid_svc.fit(X,y)"
   ]
  },
  {
   "cell_type": "code",
   "execution_count": 62,
   "metadata": {},
   "outputs": [
    {
     "data": {
      "text/plain": [
       "'Score: 0.950355'"
      ]
     },
     "execution_count": 62,
     "metadata": {},
     "output_type": "execute_result"
    }
   ],
   "source": [
    "(\"Score: %f\" % grid_svc.score(X,y))"
   ]
  },
  {
   "cell_type": "code",
   "execution_count": 63,
   "metadata": {},
   "outputs": [],
   "source": [
    "predictions2 = grid_svc.predict(X)"
   ]
  },
  {
   "cell_type": "code",
   "execution_count": 64,
   "metadata": {},
   "outputs": [
    {
     "name": "stdout",
     "output_type": "stream",
     "text": [
      "                precision    recall  f1-score   support\n",
      "\n",
      "     CONFIRMED       0.92      0.96      0.94      2102\n",
      "FALSE POSITIVE       0.98      0.94      0.96      3115\n",
      "\n",
      "   avg / total       0.95      0.95      0.95      5217\n",
      "\n"
     ]
    }
   ],
   "source": [
    "print(classification_report(y,predictions2))"
   ]
  },
  {
   "cell_type": "code",
   "execution_count": 65,
   "metadata": {},
   "outputs": [
    {
     "name": "stdout",
     "output_type": "stream",
     "text": [
      "[[2027   75]\n",
      " [ 184 2931]]\n"
     ]
    }
   ],
   "source": [
    "print(confusion_matrix(y,predictions2))"
   ]
  },
  {
   "cell_type": "code",
   "execution_count": 66,
   "metadata": {
    "scrolled": true
   },
   "outputs": [
    {
     "name": "stdout",
     "output_type": "stream",
     "text": [
      "Fitting 100 folds for each of 1 candidates, totalling 100 fits\n"
     ]
    },
    {
     "name": "stderr",
     "output_type": "stream",
     "text": [
      "[Parallel(n_jobs=-1)]: Done  16 tasks      | elapsed:    7.5s\n",
      "[Parallel(n_jobs=-1)]: Done 100 out of 100 | elapsed:    9.4s finished\n"
     ]
    },
    {
     "name": "stdout",
     "output_type": "stream",
     "text": [
      "Fitting 100 folds for each of 1 candidates, totalling 100 fits\n"
     ]
    },
    {
     "name": "stderr",
     "output_type": "stream",
     "text": [
      "[Parallel(n_jobs=-1)]: Done  16 tasks      | elapsed:    6.9s\n",
      "[Parallel(n_jobs=-1)]: Done 100 out of 100 | elapsed:    9.1s finished\n"
     ]
    },
    {
     "name": "stdout",
     "output_type": "stream",
     "text": [
      "Fitting 100 folds for each of 1 candidates, totalling 100 fits\n"
     ]
    },
    {
     "name": "stderr",
     "output_type": "stream",
     "text": [
      "[Parallel(n_jobs=-1)]: Done  16 tasks      | elapsed:    7.4s\n",
      "[Parallel(n_jobs=-1)]: Done 100 out of 100 | elapsed:    9.6s finished\n"
     ]
    },
    {
     "name": "stdout",
     "output_type": "stream",
     "text": [
      "[0.92241379 0.95227142 0.9424626 ]\n"
     ]
    }
   ],
   "source": [
    "from sklearn.model_selection import cross_val_score\n",
    "cvs = cross_val_score(grid_svc, X, y, cv=3, scoring=\"accuracy\")\n",
    "print(cvs)"
   ]
  },
  {
   "cell_type": "code",
   "execution_count": 67,
   "metadata": {},
   "outputs": [
    {
     "name": "stdout",
     "output_type": "stream",
     "text": [
      "Validation Accuracy: 94.4844 (+/- 1.00)\n",
      "Train Accuracy: 94.86 (+/- 0.39)\n"
     ]
    }
   ],
   "source": [
    "from sklearn.model_selection import cross_validate\n",
    "svc_clf = SVC()\n",
    "ss = StratifiedShuffleSplit(n_splits=1000, test_size=0.3, random_state=3)\n",
    "scores = cross_validate(svc_clf, X, y, cv=ss, return_train_score=True, scoring='accuracy', n_jobs=-1)\n",
    "\n",
    "print(\"Validation Accuracy: %0.4f (+/- %0.2f)\" % (scores['test_score'].mean()*100, scores['test_score'].std()*2*100))\n",
    "print(\"Train Accuracy: %0.2f (+/- %0.2f)\" % (scores['train_score'].mean()*100, scores['train_score'].std()*2*100))"
   ]
  },
  {
   "cell_type": "markdown",
   "metadata": {},
   "source": [
    "**SVC with Stratified Split - 1st Set of parameters**"
   ]
  },
  {
   "cell_type": "code",
   "execution_count": 68,
   "metadata": {
    "scrolled": true
   },
   "outputs": [
    {
     "name": "stdout",
     "output_type": "stream",
     "text": [
      "Fitting 100 folds for each of 384 candidates, totalling 38400 fits\n"
     ]
    },
    {
     "name": "stderr",
     "output_type": "stream",
     "text": [
      "[Parallel(n_jobs=-1)]: Done  16 tasks      | elapsed:    8.2s\n",
      "[Parallel(n_jobs=-1)]: Done 112 tasks      | elapsed:   17.8s\n",
      "[Parallel(n_jobs=-1)]: Done 272 tasks      | elapsed:   34.5s\n",
      "[Parallel(n_jobs=-1)]: Done 496 tasks      | elapsed:  1.1min\n",
      "[Parallel(n_jobs=-1)]: Done 784 tasks      | elapsed:  1.3min\n",
      "[Parallel(n_jobs=-1)]: Done 1136 tasks      | elapsed:  1.5min\n",
      "[Parallel(n_jobs=-1)]: Done 1552 tasks      | elapsed:  3.7min\n",
      "[Parallel(n_jobs=-1)]: Done 2032 tasks      | elapsed:  5.5min\n",
      "[Parallel(n_jobs=-1)]: Done 2576 tasks      | elapsed:  6.7min\n",
      "[Parallel(n_jobs=-1)]: Done 3184 tasks      | elapsed:  8.2min\n",
      "[Parallel(n_jobs=-1)]: Done 3856 tasks      | elapsed:  9.5min\n",
      "[Parallel(n_jobs=-1)]: Done 4592 tasks      | elapsed: 10.9min\n",
      "[Parallel(n_jobs=-1)]: Done 5392 tasks      | elapsed: 12.3min\n",
      "[Parallel(n_jobs=-1)]: Done 6256 tasks      | elapsed: 14.2min\n",
      "[Parallel(n_jobs=-1)]: Done 7184 tasks      | elapsed: 17.2min\n",
      "[Parallel(n_jobs=-1)]: Done 8176 tasks      | elapsed: 19.4min\n",
      "[Parallel(n_jobs=-1)]: Done 9232 tasks      | elapsed: 21.6min\n",
      "[Parallel(n_jobs=-1)]: Done 10352 tasks      | elapsed: 23.3min\n",
      "[Parallel(n_jobs=-1)]: Done 11536 tasks      | elapsed: 27.1min\n",
      "[Parallel(n_jobs=-1)]: Done 12784 tasks      | elapsed: 29.6min\n",
      "[Parallel(n_jobs=-1)]: Done 14096 tasks      | elapsed: 31.8min\n",
      "[Parallel(n_jobs=-1)]: Done 15472 tasks      | elapsed: 33.6min\n",
      "[Parallel(n_jobs=-1)]: Done 16912 tasks      | elapsed: 38.1min\n",
      "[Parallel(n_jobs=-1)]: Done 18416 tasks      | elapsed: 41.1min\n",
      "[Parallel(n_jobs=-1)]: Done 19984 tasks      | elapsed: 45.1min\n",
      "[Parallel(n_jobs=-1)]: Done 21616 tasks      | elapsed: 49.0min\n",
      "[Parallel(n_jobs=-1)]: Done 23312 tasks      | elapsed: 51.9min\n",
      "[Parallel(n_jobs=-1)]: Done 25072 tasks      | elapsed: 56.1min\n",
      "[Parallel(n_jobs=-1)]: Done 26896 tasks      | elapsed: 60.7min\n",
      "[Parallel(n_jobs=-1)]: Done 28784 tasks      | elapsed: 63.0min\n",
      "[Parallel(n_jobs=-1)]: Done 30736 tasks      | elapsed: 71.8min\n",
      "[Parallel(n_jobs=-1)]: Done 32752 tasks      | elapsed: 74.9min\n",
      "[Parallel(n_jobs=-1)]: Done 34832 tasks      | elapsed: 82.2min\n",
      "[Parallel(n_jobs=-1)]: Done 36976 tasks      | elapsed: 86.7min\n",
      "[Parallel(n_jobs=-1)]: Done 38400 out of 38400 | elapsed: 88.5min finished\n"
     ]
    },
    {
     "data": {
      "text/plain": [
       "GridSearchCV(cv=StratifiedShuffleSplit(n_splits=100, random_state=3, test_size=0.3,\n",
       "            train_size=None),\n",
       "       error_score='raise',\n",
       "       estimator=SVC(C=1.0, cache_size=200, class_weight=None, coef0=0.0,\n",
       "  decision_function_shape='ovr', degree=3, gamma='auto', kernel='rbf',\n",
       "  max_iter=-1, probability=False, random_state=None, shrinking=True,\n",
       "  tol=0.001, verbose=False),\n",
       "       fit_params=None, iid=True, n_jobs=-1,\n",
       "       param_grid={'C': [0.5, 1, 5, 10], 'kernel': ['linear', 'poly', 'rbf', 'sigmoid'], 'tol': [0.001, 0.01, 0.1], 'shrinking': [True, False], 'probability': [True, False], 'decision_function_shape': ['ovo', 'ovr']},\n",
       "       pre_dispatch='2*n_jobs', refit=True, return_train_score='warn',\n",
       "       scoring=None, verbose=3)"
      ]
     },
     "execution_count": 68,
     "metadata": {},
     "output_type": "execute_result"
    }
   ],
   "source": [
    "parameters = {'C':[0.5,1,5,10],'kernel':['linear','poly','rbf','sigmoid'],\n",
    "           'tol':[0.001,0.01,0.1],\n",
    "           'shrinking':[True,False], 'probability':[True,False],\n",
    "           'decision_function_shape':['ovo','ovr']}\n",
    "svc = SVC()\n",
    "ss = StratifiedShuffleSplit(n_splits=100, test_size=0.3, random_state=3)\n",
    "grid_svc = GridSearchCV(svc, parameters, cv=ss, n_jobs=-1, verbose=3)\n",
    "grid_svc.fit(X,y)"
   ]
  },
  {
   "cell_type": "code",
   "execution_count": null,
   "metadata": {},
   "outputs": [],
   "source": [
    "#degree, coef0, and gamma depend on kernal option"
   ]
  },
  {
   "cell_type": "code",
   "execution_count": 69,
   "metadata": {},
   "outputs": [
    {
     "name": "stdout",
     "output_type": "stream",
     "text": [
      "0.9656890933486678\n",
      "{'C': 10, 'decision_function_shape': 'ovo', 'kernel': 'rbf', 'probability': True, 'shrinking': False, 'tol': 0.001}\n"
     ]
    }
   ],
   "source": [
    "print(grid_svc.score(X, y))\n",
    "print(grid_svc.best_params_)"
   ]
  },
  {
   "cell_type": "code",
   "execution_count": 70,
   "metadata": {},
   "outputs": [],
   "source": [
    "predictions3 = grid_svc.predict(X)"
   ]
  },
  {
   "cell_type": "code",
   "execution_count": 71,
   "metadata": {},
   "outputs": [
    {
     "name": "stdout",
     "output_type": "stream",
     "text": [
      "                precision    recall  f1-score   support\n",
      "\n",
      "     CONFIRMED       0.94      0.98      0.96      2102\n",
      "FALSE POSITIVE       0.98      0.96      0.97      3115\n",
      "\n",
      "   avg / total       0.97      0.97      0.97      5217\n",
      "\n"
     ]
    }
   ],
   "source": [
    "print(classification_report(y,predictions3))"
   ]
  },
  {
   "cell_type": "code",
   "execution_count": 72,
   "metadata": {},
   "outputs": [
    {
     "name": "stdout",
     "output_type": "stream",
     "text": [
      "[[2052   50]\n",
      " [ 129 2986]]\n"
     ]
    }
   ],
   "source": [
    "print(confusion_matrix(y,predictions3))"
   ]
  },
  {
   "cell_type": "code",
   "execution_count": 73,
   "metadata": {},
   "outputs": [
    {
     "name": "stdout",
     "output_type": "stream",
     "text": [
      "Validation Accuracy: 95.5488 (+/- 0.90)\n",
      "Train Accuracy: 96.44 (+/- 0.36)\n"
     ]
    }
   ],
   "source": [
    "from sklearn.model_selection import cross_validate\n",
    "svc_clf = SVC(C=10, decision_function_shape='ovo', kernel='rbf', probability=True, shrinking=False, tol=0.001)\n",
    "ss = StratifiedShuffleSplit(n_splits=1000, test_size=0.3, random_state=3)\n",
    "scores = cross_validate(svc_clf, X, y, cv=ss, return_train_score=True, scoring='accuracy', n_jobs=-1)\n",
    "\n",
    "print(\"Validation Accuracy: %0.4f (+/- %0.2f)\" % (scores['test_score'].mean()*100, scores['test_score'].std()*2*100))\n",
    "print(\"Train Accuracy: %0.2f (+/- %0.2f)\" % (scores['train_score'].mean()*100, scores['train_score'].std()*2*100))"
   ]
  },
  {
   "cell_type": "markdown",
   "metadata": {},
   "source": [
    "**SVC with Stratified Split - 2nd Set of Parameters**"
   ]
  },
  {
   "cell_type": "code",
   "execution_count": 74,
   "metadata": {},
   "outputs": [
    {
     "name": "stdout",
     "output_type": "stream",
     "text": [
      "Fitting 100 folds for each of 9 candidates, totalling 900 fits\n"
     ]
    },
    {
     "name": "stderr",
     "output_type": "stream",
     "text": [
      "[Parallel(n_jobs=-1)]: Done  16 tasks      | elapsed:   10.0s\n",
      "[Parallel(n_jobs=-1)]: Done 112 tasks      | elapsed:   28.4s\n",
      "[Parallel(n_jobs=-1)]: Done 272 tasks      | elapsed:   55.9s\n",
      "[Parallel(n_jobs=-1)]: Done 496 tasks      | elapsed:  1.9min\n",
      "[Parallel(n_jobs=-1)]: Done 784 tasks      | elapsed:  3.4min\n",
      "[Parallel(n_jobs=-1)]: Done 900 out of 900 | elapsed:  3.9min finished\n"
     ]
    },
    {
     "data": {
      "text/plain": [
       "GridSearchCV(cv=StratifiedShuffleSplit(n_splits=100, random_state=3, test_size=0.3,\n",
       "            train_size=None),\n",
       "       error_score='raise',\n",
       "       estimator=SVC(C=1.0, cache_size=200, class_weight=None, coef0=0.0,\n",
       "  decision_function_shape='ovr', degree=3, gamma='auto', kernel='rbf',\n",
       "  max_iter=-1, probability=False, random_state=None, shrinking=True,\n",
       "  tol=0.001, verbose=False),\n",
       "       fit_params=None, iid=True, n_jobs=-1,\n",
       "       param_grid={'C': [10, 30, 50], 'kernel': ['rbf'], 'tol': [1e-05, 0.0001, 0.001], 'shrinking': [False], 'probability': [True], 'decision_function_shape': ['ovo']},\n",
       "       pre_dispatch='2*n_jobs', refit=True, return_train_score='warn',\n",
       "       scoring=None, verbose=3)"
      ]
     },
     "execution_count": 74,
     "metadata": {},
     "output_type": "execute_result"
    }
   ],
   "source": [
    "parameters = {'C':[10,30,50],'kernel':['rbf'],\n",
    "           'tol':[0.00001,0.0001,0.001],\n",
    "           'shrinking':[False], 'probability':[True],\n",
    "           'decision_function_shape':['ovo']}\n",
    "svc = SVC()\n",
    "ss = StratifiedShuffleSplit(n_splits=100, test_size=0.3, random_state=3)\n",
    "grid_svc = GridSearchCV(svc, parameters, cv=ss, n_jobs=-1, verbose=3)\n",
    "grid_svc.fit(X,y)"
   ]
  },
  {
   "cell_type": "code",
   "execution_count": 75,
   "metadata": {},
   "outputs": [
    {
     "name": "stdout",
     "output_type": "stream",
     "text": [
      "0.9691393521180756\n",
      "{'C': 30, 'decision_function_shape': 'ovo', 'kernel': 'rbf', 'probability': True, 'shrinking': False, 'tol': 0.001}\n"
     ]
    }
   ],
   "source": [
    "print(grid_svc.score(X, y))\n",
    "print(grid_svc.best_params_)"
   ]
  },
  {
   "cell_type": "code",
   "execution_count": 76,
   "metadata": {},
   "outputs": [],
   "source": [
    "predictions4 = grid_svc.predict(X)"
   ]
  },
  {
   "cell_type": "code",
   "execution_count": 77,
   "metadata": {},
   "outputs": [
    {
     "name": "stdout",
     "output_type": "stream",
     "text": [
      "                precision    recall  f1-score   support\n",
      "\n",
      "     CONFIRMED       0.95      0.98      0.96      2102\n",
      "FALSE POSITIVE       0.99      0.96      0.97      3115\n",
      "\n",
      "   avg / total       0.97      0.97      0.97      5217\n",
      "\n"
     ]
    }
   ],
   "source": [
    "print(classification_report(y,predictions4))"
   ]
  },
  {
   "cell_type": "code",
   "execution_count": 78,
   "metadata": {},
   "outputs": [
    {
     "name": "stdout",
     "output_type": "stream",
     "text": [
      "[[2057   45]\n",
      " [ 116 2999]]\n"
     ]
    }
   ],
   "source": [
    "print(confusion_matrix(y,predictions4))"
   ]
  },
  {
   "cell_type": "code",
   "execution_count": 81,
   "metadata": {},
   "outputs": [
    {
     "name": "stdout",
     "output_type": "stream",
     "text": [
      "Validation Accuracy: 95.8587 (+/- 0.84)\n",
      "Train Accuracy: 97.07 (+/- 0.32)\n"
     ]
    }
   ],
   "source": [
    "from sklearn.model_selection import cross_validate\n",
    "svc_clf = SVC(C=30, decision_function_shape='ovo', kernel='rbf', probability=True, shrinking=False, tol=0.001)\n",
    "ss = StratifiedShuffleSplit(n_splits=1000, test_size=0.3, random_state=3)\n",
    "scores = cross_validate(svc_clf, X, y, cv=ss, return_train_score=True, scoring='accuracy', n_jobs=-1)\n",
    "\n",
    "print(\"Validation Accuracy: %0.4f (+/- %0.2f)\" % (scores['test_score'].mean()*100, scores['test_score'].std()*2*100))\n",
    "print(\"Train Accuracy: %0.2f (+/- %0.2f)\" % (scores['train_score'].mean()*100, scores['train_score'].std()*2*100))"
   ]
  },
  {
   "cell_type": "markdown",
   "metadata": {},
   "source": [
    "**SVC with Stratified Split - 3rd set of parameters**"
   ]
  },
  {
   "cell_type": "code",
   "execution_count": 82,
   "metadata": {},
   "outputs": [
    {
     "name": "stdout",
     "output_type": "stream",
     "text": [
      "Fitting 100 folds for each of 3 candidates, totalling 300 fits\n"
     ]
    },
    {
     "name": "stderr",
     "output_type": "stream",
     "text": [
      "[Parallel(n_jobs=-1)]: Done  16 tasks      | elapsed:    9.9s\n",
      "[Parallel(n_jobs=-1)]: Done 112 tasks      | elapsed:   27.4s\n",
      "[Parallel(n_jobs=-1)]: Done 272 tasks      | elapsed:  1.0min\n",
      "[Parallel(n_jobs=-1)]: Done 300 out of 300 | elapsed:  1.1min finished\n"
     ]
    },
    {
     "data": {
      "text/plain": [
       "GridSearchCV(cv=StratifiedShuffleSplit(n_splits=100, random_state=3, test_size=0.3,\n",
       "            train_size=None),\n",
       "       error_score='raise',\n",
       "       estimator=SVC(C=1.0, cache_size=200, class_weight=None, coef0=0.0,\n",
       "  decision_function_shape='ovr', degree=3, gamma='auto', kernel='rbf',\n",
       "  max_iter=-1, probability=False, random_state=None, shrinking=True,\n",
       "  tol=0.001, verbose=False),\n",
       "       fit_params=None, iid=True, n_jobs=-1,\n",
       "       param_grid={'C': [20, 30, 40], 'kernel': ['rbf'], 'tol': [0.001], 'shrinking': [False], 'probability': [True], 'decision_function_shape': ['ovo']},\n",
       "       pre_dispatch='2*n_jobs', refit=True, return_train_score='warn',\n",
       "       scoring=None, verbose=3)"
      ]
     },
     "execution_count": 82,
     "metadata": {},
     "output_type": "execute_result"
    }
   ],
   "source": [
    "parameters = {'C':[20,30,40],'kernel':['rbf'],\n",
    "           'tol':[0.001],\n",
    "           'shrinking':[False], 'probability':[True],\n",
    "           'decision_function_shape':['ovo']}\n",
    "svc = SVC()\n",
    "ss = StratifiedShuffleSplit(n_splits=100, test_size=0.3, random_state=3)\n",
    "grid_svc = GridSearchCV(svc, parameters, cv=ss, n_jobs=-1, verbose=3)\n",
    "grid_svc.fit(X,y)"
   ]
  },
  {
   "cell_type": "code",
   "execution_count": 83,
   "metadata": {},
   "outputs": [
    {
     "name": "stdout",
     "output_type": "stream",
     "text": [
      "0.9691393521180756\n",
      "{'C': 30, 'decision_function_shape': 'ovo', 'kernel': 'rbf', 'probability': True, 'shrinking': False, 'tol': 0.001}\n"
     ]
    }
   ],
   "source": [
    "print(grid_svc.score(X, y))\n",
    "print(grid_svc.best_params_)"
   ]
  },
  {
   "cell_type": "code",
   "execution_count": 84,
   "metadata": {},
   "outputs": [],
   "source": [
    "predictions5 = grid_svc.predict(X)"
   ]
  },
  {
   "cell_type": "code",
   "execution_count": 85,
   "metadata": {},
   "outputs": [
    {
     "name": "stdout",
     "output_type": "stream",
     "text": [
      "                precision    recall  f1-score   support\n",
      "\n",
      "     CONFIRMED       0.95      0.98      0.96      2102\n",
      "FALSE POSITIVE       0.99      0.96      0.97      3115\n",
      "\n",
      "   avg / total       0.97      0.97      0.97      5217\n",
      "\n"
     ]
    }
   ],
   "source": [
    "print(classification_report(y,predictions5))"
   ]
  },
  {
   "cell_type": "code",
   "execution_count": 55,
   "metadata": {},
   "outputs": [
    {
     "name": "stdout",
     "output_type": "stream",
     "text": [
      "[[ 148 1954]\n",
      " [  46 3069]]\n"
     ]
    }
   ],
   "source": [
    "print(confusion_matrix(y,predictions5))"
   ]
  },
  {
   "cell_type": "code",
   "execution_count": 87,
   "metadata": {},
   "outputs": [
    {
     "name": "stdout",
     "output_type": "stream",
     "text": [
      "Validation Accuracy: 95.8587 (+/- 0.84)\n",
      "Train Accuracy: 97.07 (+/- 0.32)\n"
     ]
    }
   ],
   "source": [
    "from sklearn.model_selection import cross_validate\n",
    "svc_clf = SVC(C=30, decision_function_shape='ovo', kernel='rbf',probability=True, shrinking=False, tol=0.001)\n",
    "ss = StratifiedShuffleSplit(n_splits=1000, test_size=0.3, random_state=3)\n",
    "scores = cross_validate(svc_clf, X, y, cv=ss, return_train_score=True, scoring='accuracy', n_jobs=-1)\n",
    "\n",
    "print(\"Validation Accuracy: %0.4f (+/- %0.2f)\" % (scores['test_score'].mean()*100, scores['test_score'].std()*2*100))\n",
    "print(\"Train Accuracy: %0.2f (+/- %0.2f)\" % (scores['train_score'].mean()*100, scores['train_score'].std()*2*100))"
   ]
  },
  {
   "cell_type": "markdown",
   "metadata": {},
   "source": [
    "**Scoring type changed to 'roc_auc'**"
   ]
  },
  {
   "cell_type": "code",
   "execution_count": 89,
   "metadata": {},
   "outputs": [
    {
     "data": {
      "text/html": [
       "<div>\n",
       "<style scoped>\n",
       "    .dataframe tbody tr th:only-of-type {\n",
       "        vertical-align: middle;\n",
       "    }\n",
       "\n",
       "    .dataframe tbody tr th {\n",
       "        vertical-align: top;\n",
       "    }\n",
       "\n",
       "    .dataframe thead th {\n",
       "        text-align: right;\n",
       "    }\n",
       "</style>\n",
       "<table border=\"1\" class=\"dataframe\">\n",
       "  <thead>\n",
       "    <tr style=\"text-align: right;\">\n",
       "      <th></th>\n",
       "      <th>PRF Δθ&lt;sub&gt;SQ&lt;/sub&gt;(KIC) [arcsec]</th>\n",
       "      <th>Number of Planets</th>\n",
       "      <th>Planet-Star Radius Ratio</th>\n",
       "      <th>Planetary Radius [Earth radii]</th>\n",
       "      <th>PRF Δθ&lt;sub&gt;SQ&lt;/sub&gt;(OOT) [arcsec]</th>\n",
       "      <th>Maximum Multiple Event Statistic</th>\n",
       "      <th>FW Offset Significance [percent]</th>\n",
       "      <th>Planet-Star Distance over Star Radius</th>\n",
       "      <th>Transit Depth [ppm]</th>\n",
       "      <th>Transit Signal-to-Noise</th>\n",
       "      <th>...</th>\n",
       "      <th>Stellar Metallicity [dex]</th>\n",
       "      <th>FW Source Δα(OOT) [sec]</th>\n",
       "      <th>Transit Duration [hrs]</th>\n",
       "      <th>FW Source Δδ(OOT) [arcsec]</th>\n",
       "      <th>Maximum Single Event Statistic</th>\n",
       "      <th>Fitted Stellar Density [g/cm**3]</th>\n",
       "      <th>Orbit Semi-Major Axis [AU]</th>\n",
       "      <th>Orbital Period [days]</th>\n",
       "      <th>Insolation Flux [Earth flux]</th>\n",
       "      <th>Exoplanet Archive Disposition</th>\n",
       "    </tr>\n",
       "  </thead>\n",
       "  <tbody>\n",
       "    <tr>\n",
       "      <th>0</th>\n",
       "      <td>0.320</td>\n",
       "      <td>2</td>\n",
       "      <td>0.022344</td>\n",
       "      <td>2.26</td>\n",
       "      <td>0.200</td>\n",
       "      <td>28.470820</td>\n",
       "      <td>0.002</td>\n",
       "      <td>24.810</td>\n",
       "      <td>615.8</td>\n",
       "      <td>35.8</td>\n",
       "      <td>...</td>\n",
       "      <td>0.14</td>\n",
       "      <td>0.430</td>\n",
       "      <td>2.95750</td>\n",
       "      <td>0.940</td>\n",
       "      <td>5.135849</td>\n",
       "      <td>3.20796</td>\n",
       "      <td>0.0853</td>\n",
       "      <td>9.488036</td>\n",
       "      <td>93.59</td>\n",
       "      <td>1</td>\n",
       "    </tr>\n",
       "    <tr>\n",
       "      <th>1</th>\n",
       "      <td>0.500</td>\n",
       "      <td>2</td>\n",
       "      <td>0.027954</td>\n",
       "      <td>2.83</td>\n",
       "      <td>0.390</td>\n",
       "      <td>20.109507</td>\n",
       "      <td>0.003</td>\n",
       "      <td>77.900</td>\n",
       "      <td>874.8</td>\n",
       "      <td>25.8</td>\n",
       "      <td>...</td>\n",
       "      <td>0.14</td>\n",
       "      <td>-0.630</td>\n",
       "      <td>4.50700</td>\n",
       "      <td>1.230</td>\n",
       "      <td>7.027669</td>\n",
       "      <td>3.02368</td>\n",
       "      <td>0.2734</td>\n",
       "      <td>54.418383</td>\n",
       "      <td>9.11</td>\n",
       "      <td>1</td>\n",
       "    </tr>\n",
       "    <tr>\n",
       "      <th>2</th>\n",
       "      <td>0.276</td>\n",
       "      <td>1</td>\n",
       "      <td>0.387394</td>\n",
       "      <td>33.46</td>\n",
       "      <td>0.289</td>\n",
       "      <td>541.895100</td>\n",
       "      <td>0.000</td>\n",
       "      <td>3.278</td>\n",
       "      <td>8079.2</td>\n",
       "      <td>505.6</td>\n",
       "      <td>...</td>\n",
       "      <td>-0.52</td>\n",
       "      <td>-0.111</td>\n",
       "      <td>2.40641</td>\n",
       "      <td>0.002</td>\n",
       "      <td>39.066550</td>\n",
       "      <td>0.22080</td>\n",
       "      <td>0.0267</td>\n",
       "      <td>1.736952</td>\n",
       "      <td>891.96</td>\n",
       "      <td>0</td>\n",
       "    </tr>\n",
       "    <tr>\n",
       "      <th>3</th>\n",
       "      <td>0.070</td>\n",
       "      <td>1</td>\n",
       "      <td>0.024064</td>\n",
       "      <td>2.75</td>\n",
       "      <td>0.100</td>\n",
       "      <td>33.191900</td>\n",
       "      <td>0.733</td>\n",
       "      <td>8.750</td>\n",
       "      <td>603.3</td>\n",
       "      <td>40.9</td>\n",
       "      <td>...</td>\n",
       "      <td>0.07</td>\n",
       "      <td>-0.010</td>\n",
       "      <td>1.65450</td>\n",
       "      <td>0.230</td>\n",
       "      <td>4.749945</td>\n",
       "      <td>1.98635</td>\n",
       "      <td>0.0374</td>\n",
       "      <td>2.525592</td>\n",
       "      <td>926.16</td>\n",
       "      <td>1</td>\n",
       "    </tr>\n",
       "    <tr>\n",
       "      <th>4</th>\n",
       "      <td>8.948</td>\n",
       "      <td>1</td>\n",
       "      <td>0.183387</td>\n",
       "      <td>39.21</td>\n",
       "      <td>8.930</td>\n",
       "      <td>46.153080</td>\n",
       "      <td>0.000</td>\n",
       "      <td>2.400</td>\n",
       "      <td>233.7</td>\n",
       "      <td>47.7</td>\n",
       "      <td>...</td>\n",
       "      <td>0.00</td>\n",
       "      <td>-13.450</td>\n",
       "      <td>5.02200</td>\n",
       "      <td>24.090</td>\n",
       "      <td>10.964684</td>\n",
       "      <td>0.00485</td>\n",
       "      <td>0.0820</td>\n",
       "      <td>7.361790</td>\n",
       "      <td>767.22</td>\n",
       "      <td>0</td>\n",
       "    </tr>\n",
       "  </tbody>\n",
       "</table>\n",
       "<p>5 rows × 24 columns</p>\n",
       "</div>"
      ],
      "text/plain": [
       "   PRF Δθ<sub>SQ</sub>(KIC) [arcsec]  Number of Planets  \\\n",
       "0                              0.320                  2   \n",
       "1                              0.500                  2   \n",
       "2                              0.276                  1   \n",
       "3                              0.070                  1   \n",
       "4                              8.948                  1   \n",
       "\n",
       "   Planet-Star Radius Ratio  Planetary Radius [Earth radii]  \\\n",
       "0                  0.022344                            2.26   \n",
       "1                  0.027954                            2.83   \n",
       "2                  0.387394                           33.46   \n",
       "3                  0.024064                            2.75   \n",
       "4                  0.183387                           39.21   \n",
       "\n",
       "   PRF Δθ<sub>SQ</sub>(OOT) [arcsec]  Maximum Multiple Event Statistic  \\\n",
       "0                              0.200                         28.470820   \n",
       "1                              0.390                         20.109507   \n",
       "2                              0.289                        541.895100   \n",
       "3                              0.100                         33.191900   \n",
       "4                              8.930                         46.153080   \n",
       "\n",
       "   FW Offset Significance [percent]  Planet-Star Distance over Star Radius  \\\n",
       "0                             0.002                                 24.810   \n",
       "1                             0.003                                 77.900   \n",
       "2                             0.000                                  3.278   \n",
       "3                             0.733                                  8.750   \n",
       "4                             0.000                                  2.400   \n",
       "\n",
       "   Transit Depth [ppm]  Transit Signal-to-Noise  \\\n",
       "0                615.8                     35.8   \n",
       "1                874.8                     25.8   \n",
       "2               8079.2                    505.6   \n",
       "3                603.3                     40.9   \n",
       "4                233.7                     47.7   \n",
       "\n",
       "               ...                Stellar Metallicity [dex]  \\\n",
       "0              ...                                     0.14   \n",
       "1              ...                                     0.14   \n",
       "2              ...                                    -0.52   \n",
       "3              ...                                     0.07   \n",
       "4              ...                                     0.00   \n",
       "\n",
       "   FW Source Δα(OOT) [sec]  Transit Duration [hrs]  \\\n",
       "0                    0.430                 2.95750   \n",
       "1                   -0.630                 4.50700   \n",
       "2                   -0.111                 2.40641   \n",
       "3                   -0.010                 1.65450   \n",
       "4                  -13.450                 5.02200   \n",
       "\n",
       "   FW Source Δδ(OOT) [arcsec]  Maximum Single Event Statistic  \\\n",
       "0                       0.940                        5.135849   \n",
       "1                       1.230                        7.027669   \n",
       "2                       0.002                       39.066550   \n",
       "3                       0.230                        4.749945   \n",
       "4                      24.090                       10.964684   \n",
       "\n",
       "   Fitted Stellar Density [g/cm**3]  Orbit Semi-Major Axis [AU]  \\\n",
       "0                           3.20796                      0.0853   \n",
       "1                           3.02368                      0.2734   \n",
       "2                           0.22080                      0.0267   \n",
       "3                           1.98635                      0.0374   \n",
       "4                           0.00485                      0.0820   \n",
       "\n",
       "   Orbital Period [days]  Insolation Flux [Earth flux]  \\\n",
       "0               9.488036                         93.59   \n",
       "1              54.418383                          9.11   \n",
       "2               1.736952                        891.96   \n",
       "3               2.525592                        926.16   \n",
       "4               7.361790                        767.22   \n",
       "\n",
       "   Exoplanet Archive Disposition  \n",
       "0                              1  \n",
       "1                              1  \n",
       "2                              0  \n",
       "3                              1  \n",
       "4                              0  \n",
       "\n",
       "[5 rows x 24 columns]"
      ]
     },
     "execution_count": 89,
     "metadata": {},
     "output_type": "execute_result"
    }
   ],
   "source": [
    "#the disposition values are changed to numbers for roc_auc to run correctly\n",
    "\n",
    "planets_v2 = planets.replace({'Exoplanet Archive Disposition':{'FALSE POSITIVE':0,'CONFIRMED':1}})\n",
    "planets_v2.head()"
   ]
  },
  {
   "cell_type": "code",
   "execution_count": 91,
   "metadata": {},
   "outputs": [],
   "source": [
    "X = planets_v2.drop('Exoplanet Archive Disposition',axis=1)\n",
    "y = planets_v2['Exoplanet Archive Disposition']"
   ]
  },
  {
   "cell_type": "code",
   "execution_count": 92,
   "metadata": {},
   "outputs": [],
   "source": [
    "scaler = StandardScaler()\n",
    "scaler.fit(X)\n",
    "X = scaler.transform(X)"
   ]
  },
  {
   "cell_type": "code",
   "execution_count": 93,
   "metadata": {
    "scrolled": true
   },
   "outputs": [
    {
     "name": "stdout",
     "output_type": "stream",
     "text": [
      "Validation Accuracy: 98.8699 (+/- 0.40)\n",
      "Train Accuracy: 99.35 (+/- 0.13)\n"
     ]
    }
   ],
   "source": [
    "from sklearn.model_selection import cross_validate\n",
    "svc_clf = SVC(C=30, decision_function_shape='ovo', kernel='rbf',probability=True, shrinking=False, tol=0.001)\n",
    "ss = StratifiedShuffleSplit(n_splits=1000, test_size=0.3, random_state=3)\n",
    "scores = cross_validate(svc_clf, X, y, cv=ss, return_train_score=True, scoring='roc_auc', n_jobs=-1)\n",
    "\n",
    "print(\"Validation Accuracy: %0.4f (+/- %0.2f)\" % (scores['test_score'].mean()*100, scores['test_score'].std()*2*100))\n",
    "print(\"Train Accuracy: %0.2f (+/- %0.2f)\" % (scores['train_score'].mean()*100, scores['train_score'].std()*2*100))"
   ]
  },
  {
   "cell_type": "markdown",
   "metadata": {},
   "source": [
    "**Discussion**"
   ]
  },
  {
   "cell_type": "markdown",
   "metadata": {},
   "source": [
    "Changing from scoring method of 'accuracy' to 'roc_auc', increased the validation accuracy score."
   ]
  },
  {
   "cell_type": "markdown",
   "metadata": {},
   "source": [
    "The score increased from grid search 1 to grid search 2, but did not change from grid search 2 to grid search 3. The parameter changes were effective only for the second grid search. The same ideal parameters were found in the third grid search as the second."
   ]
  }
 ],
 "metadata": {
  "kernelspec": {
   "display_name": "Python 3",
   "language": "python",
   "name": "python3"
  },
  "language_info": {
   "codemirror_mode": {
    "name": "ipython",
    "version": 3
   },
   "file_extension": ".py",
   "mimetype": "text/x-python",
   "name": "python",
   "nbconvert_exporter": "python",
   "pygments_lexer": "ipython3",
   "version": "3.6.5"
  }
 },
 "nbformat": 4,
 "nbformat_minor": 2
}
