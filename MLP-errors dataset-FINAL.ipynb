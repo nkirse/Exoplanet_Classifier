{
 "cells": [
  {
   "cell_type": "markdown",
   "metadata": {},
   "source": [
    "Lauren Hare"
   ]
  },
  {
   "cell_type": "markdown",
   "metadata": {},
   "source": [
    "**Importing and reading in csv**"
   ]
  },
  {
   "cell_type": "code",
   "execution_count": 1,
   "metadata": {},
   "outputs": [],
   "source": [
    "import pandas as pd\n",
    "import numpy as np\n",
    "import matplotlib.pyplot as plt\n",
    "\n",
    "from sklearn.neural_network import MLPClassifier\n",
    "from sklearn.model_selection import GridSearchCV\n",
    "\n",
    "from sklearn.model_selection import train_test_split\n",
    "\n",
    "from sklearn.metrics import classification_report, confusion_matrix\n",
    "from sklearn.metrics import accuracy_score\n",
    "\n",
    "from sklearn.model_selection import StratifiedShuffleSplit\n",
    "\n",
    "from sklearn.model_selection import cross_validate\n",
    "\n",
    "from sklearn.ensemble import AdaBoostClassifier\n",
    "\n",
    "from sklearn.preprocessing import StandardScaler"
   ]
  },
  {
   "cell_type": "code",
   "execution_count": 2,
   "metadata": {},
   "outputs": [
    {
     "data": {
      "text/html": [
       "<div>\n",
       "<style scoped>\n",
       "    .dataframe tbody tr th:only-of-type {\n",
       "        vertical-align: middle;\n",
       "    }\n",
       "\n",
       "    .dataframe tbody tr th {\n",
       "        vertical-align: top;\n",
       "    }\n",
       "\n",
       "    .dataframe thead th {\n",
       "        text-align: right;\n",
       "    }\n",
       "</style>\n",
       "<table border=\"1\" class=\"dataframe\">\n",
       "  <thead>\n",
       "    <tr style=\"text-align: right;\">\n",
       "      <th></th>\n",
       "      <th>koi_dikco_msky</th>\n",
       "      <th>koi_dicco_msky</th>\n",
       "      <th>koi_steff_err2</th>\n",
       "      <th>koi_fwm_stat_sig</th>\n",
       "      <th>koi_prad_err1</th>\n",
       "      <th>koi_steff_err1</th>\n",
       "      <th>koi_ror_err1</th>\n",
       "      <th>koi_smet_err2</th>\n",
       "      <th>koi_smet_err1</th>\n",
       "      <th>koi_count</th>\n",
       "      <th>...</th>\n",
       "      <th>koi_srho_err2</th>\n",
       "      <th>koi_insol_err1</th>\n",
       "      <th>koi_fwm_sdeco_err</th>\n",
       "      <th>koi_depth_err1</th>\n",
       "      <th>koi_period</th>\n",
       "      <th>koi_fwm_srao_err</th>\n",
       "      <th>koi_insol</th>\n",
       "      <th>koi_dor_err2</th>\n",
       "      <th>koi_dicco_msky_err</th>\n",
       "      <th>koi_disposition</th>\n",
       "    </tr>\n",
       "  </thead>\n",
       "  <tbody>\n",
       "    <tr>\n",
       "      <th>0</th>\n",
       "      <td>0.320</td>\n",
       "      <td>0.200</td>\n",
       "      <td>-81.0</td>\n",
       "      <td>0.002</td>\n",
       "      <td>0.26</td>\n",
       "      <td>81.0</td>\n",
       "      <td>0.000832</td>\n",
       "      <td>-0.15</td>\n",
       "      <td>0.15</td>\n",
       "      <td>2</td>\n",
       "      <td>...</td>\n",
       "      <td>-1.09986</td>\n",
       "      <td>29.45</td>\n",
       "      <td>0.480</td>\n",
       "      <td>19.5</td>\n",
       "      <td>9.488036</td>\n",
       "      <td>0.510</td>\n",
       "      <td>93.59</td>\n",
       "      <td>-2.600</td>\n",
       "      <td>0.170</td>\n",
       "      <td>CONFIRMED</td>\n",
       "    </tr>\n",
       "    <tr>\n",
       "      <th>1</th>\n",
       "      <td>0.500</td>\n",
       "      <td>0.390</td>\n",
       "      <td>-81.0</td>\n",
       "      <td>0.003</td>\n",
       "      <td>0.32</td>\n",
       "      <td>81.0</td>\n",
       "      <td>0.009078</td>\n",
       "      <td>-0.15</td>\n",
       "      <td>0.15</td>\n",
       "      <td>2</td>\n",
       "      <td>...</td>\n",
       "      <td>-2.49638</td>\n",
       "      <td>2.87</td>\n",
       "      <td>0.680</td>\n",
       "      <td>35.5</td>\n",
       "      <td>54.418383</td>\n",
       "      <td>0.720</td>\n",
       "      <td>9.11</td>\n",
       "      <td>-28.400</td>\n",
       "      <td>0.360</td>\n",
       "      <td>CONFIRMED</td>\n",
       "    </tr>\n",
       "    <tr>\n",
       "      <th>2</th>\n",
       "      <td>0.276</td>\n",
       "      <td>0.289</td>\n",
       "      <td>-174.0</td>\n",
       "      <td>0.000</td>\n",
       "      <td>8.50</td>\n",
       "      <td>157.0</td>\n",
       "      <td>0.109232</td>\n",
       "      <td>-0.30</td>\n",
       "      <td>0.30</td>\n",
       "      <td>1</td>\n",
       "      <td>...</td>\n",
       "      <td>-0.01837</td>\n",
       "      <td>668.95</td>\n",
       "      <td>0.027</td>\n",
       "      <td>12.8</td>\n",
       "      <td>1.736952</td>\n",
       "      <td>0.031</td>\n",
       "      <td>891.96</td>\n",
       "      <td>-0.136</td>\n",
       "      <td>0.079</td>\n",
       "      <td>FALSE POSITIVE</td>\n",
       "    </tr>\n",
       "    <tr>\n",
       "      <th>3</th>\n",
       "      <td>0.070</td>\n",
       "      <td>0.100</td>\n",
       "      <td>-211.0</td>\n",
       "      <td>0.733</td>\n",
       "      <td>0.88</td>\n",
       "      <td>169.0</td>\n",
       "      <td>0.003751</td>\n",
       "      <td>-0.30</td>\n",
       "      <td>0.25</td>\n",
       "      <td>1</td>\n",
       "      <td>...</td>\n",
       "      <td>-1.74541</td>\n",
       "      <td>874.33</td>\n",
       "      <td>0.370</td>\n",
       "      <td>16.9</td>\n",
       "      <td>2.525592</td>\n",
       "      <td>0.350</td>\n",
       "      <td>926.16</td>\n",
       "      <td>-4.000</td>\n",
       "      <td>0.140</td>\n",
       "      <td>CONFIRMED</td>\n",
       "    </tr>\n",
       "    <tr>\n",
       "      <th>4</th>\n",
       "      <td>8.948</td>\n",
       "      <td>8.930</td>\n",
       "      <td>-124.0</td>\n",
       "      <td>0.000</td>\n",
       "      <td>6.45</td>\n",
       "      <td>111.0</td>\n",
       "      <td>7.128076</td>\n",
       "      <td>-0.15</td>\n",
       "      <td>0.15</td>\n",
       "      <td>1</td>\n",
       "      <td>...</td>\n",
       "      <td>-0.00053</td>\n",
       "      <td>349.28</td>\n",
       "      <td>0.220</td>\n",
       "      <td>5.8</td>\n",
       "      <td>7.361790</td>\n",
       "      <td>0.250</td>\n",
       "      <td>767.22</td>\n",
       "      <td>-1.200</td>\n",
       "      <td>0.074</td>\n",
       "      <td>FALSE POSITIVE</td>\n",
       "    </tr>\n",
       "  </tbody>\n",
       "</table>\n",
       "<p>5 rows × 35 columns</p>\n",
       "</div>"
      ],
      "text/plain": [
       "   koi_dikco_msky  koi_dicco_msky  koi_steff_err2  koi_fwm_stat_sig  \\\n",
       "0           0.320           0.200           -81.0             0.002   \n",
       "1           0.500           0.390           -81.0             0.003   \n",
       "2           0.276           0.289          -174.0             0.000   \n",
       "3           0.070           0.100          -211.0             0.733   \n",
       "4           8.948           8.930          -124.0             0.000   \n",
       "\n",
       "   koi_prad_err1  koi_steff_err1  koi_ror_err1  koi_smet_err2  koi_smet_err1  \\\n",
       "0           0.26            81.0      0.000832          -0.15           0.15   \n",
       "1           0.32            81.0      0.009078          -0.15           0.15   \n",
       "2           8.50           157.0      0.109232          -0.30           0.30   \n",
       "3           0.88           169.0      0.003751          -0.30           0.25   \n",
       "4           6.45           111.0      7.128076          -0.15           0.15   \n",
       "\n",
       "   koi_count       ...         koi_srho_err2  koi_insol_err1  \\\n",
       "0          2       ...              -1.09986           29.45   \n",
       "1          2       ...              -2.49638            2.87   \n",
       "2          1       ...              -0.01837          668.95   \n",
       "3          1       ...              -1.74541          874.33   \n",
       "4          1       ...              -0.00053          349.28   \n",
       "\n",
       "   koi_fwm_sdeco_err  koi_depth_err1  koi_period  koi_fwm_srao_err  koi_insol  \\\n",
       "0              0.480            19.5    9.488036             0.510      93.59   \n",
       "1              0.680            35.5   54.418383             0.720       9.11   \n",
       "2              0.027            12.8    1.736952             0.031     891.96   \n",
       "3              0.370            16.9    2.525592             0.350     926.16   \n",
       "4              0.220             5.8    7.361790             0.250     767.22   \n",
       "\n",
       "   koi_dor_err2  koi_dicco_msky_err  koi_disposition  \n",
       "0        -2.600               0.170        CONFIRMED  \n",
       "1       -28.400               0.360        CONFIRMED  \n",
       "2        -0.136               0.079   FALSE POSITIVE  \n",
       "3        -4.000               0.140        CONFIRMED  \n",
       "4        -1.200               0.074   FALSE POSITIVE  \n",
       "\n",
       "[5 rows x 35 columns]"
      ]
     },
     "execution_count": 2,
     "metadata": {},
     "output_type": "execute_result"
    }
   ],
   "source": [
    "planets = pd.read_csv(\"errors_reduced.csv\")\n",
    "planets = planets.drop('Unnamed: 0',axis=1)\n",
    "planets.head()"
   ]
  },
  {
   "cell_type": "markdown",
   "metadata": {},
   "source": [
    "**Create X and y**"
   ]
  },
  {
   "cell_type": "code",
   "execution_count": 3,
   "metadata": {},
   "outputs": [],
   "source": [
    "X = planets.drop('koi_disposition',axis=1)\n",
    "y = planets['koi_disposition']"
   ]
  },
  {
   "cell_type": "markdown",
   "metadata": {},
   "source": [
    "**Scale X**"
   ]
  },
  {
   "cell_type": "code",
   "execution_count": 4,
   "metadata": {},
   "outputs": [],
   "source": [
    "scaler = StandardScaler()\n",
    "scaler.fit(X)\n",
    "X = scaler.transform(X)"
   ]
  },
  {
   "cell_type": "markdown",
   "metadata": {},
   "source": [
    "**Test and Train Split**"
   ]
  },
  {
   "cell_type": "code",
   "execution_count": 5,
   "metadata": {},
   "outputs": [],
   "source": [
    "X_train, X_test, y_train, y_test = train_test_split(X, y, test_size=0.30, random_state=10)"
   ]
  },
  {
   "cell_type": "markdown",
   "metadata": {},
   "source": [
    "**Classifier with only default parameters and using test/train split**"
   ]
  },
  {
   "cell_type": "code",
   "execution_count": 6,
   "metadata": {},
   "outputs": [
    {
     "data": {
      "text/plain": [
       "MLPClassifier(activation='relu', alpha=0.0001, batch_size='auto', beta_1=0.9,\n",
       "       beta_2=0.999, early_stopping=False, epsilon=1e-08,\n",
       "       hidden_layer_sizes=(100,), learning_rate='constant',\n",
       "       learning_rate_init=0.001, max_iter=200, momentum=0.9,\n",
       "       nesterovs_momentum=True, power_t=0.5, random_state=None,\n",
       "       shuffle=True, solver='adam', tol=0.0001, validation_fraction=0.1,\n",
       "       verbose=False, warm_start=False)"
      ]
     },
     "execution_count": 6,
     "metadata": {},
     "output_type": "execute_result"
    }
   ],
   "source": [
    "mlp=MLPClassifier()\n",
    "mlp.fit(X_train,y_train)"
   ]
  },
  {
   "cell_type": "code",
   "execution_count": 7,
   "metadata": {},
   "outputs": [
    {
     "name": "stdout",
     "output_type": "stream",
     "text": [
      "Training set score: 0.973896\n"
     ]
    }
   ],
   "source": [
    "print(\"Training set score: %f\" % mlp.score(X_train,y_train))\n",
    "#print(clf.best_params_)"
   ]
  },
  {
   "cell_type": "code",
   "execution_count": 8,
   "metadata": {},
   "outputs": [
    {
     "name": "stdout",
     "output_type": "stream",
     "text": [
      "Test set score: 0.965026\n"
     ]
    }
   ],
   "source": [
    "print(\"Test set score: %f\" % mlp.score(X_test, y_test))"
   ]
  },
  {
   "cell_type": "code",
   "execution_count": 9,
   "metadata": {},
   "outputs": [],
   "source": [
    "predictions=mlp.predict(X_test)"
   ]
  },
  {
   "cell_type": "code",
   "execution_count": 10,
   "metadata": {},
   "outputs": [
    {
     "name": "stdout",
     "output_type": "stream",
     "text": [
      "                precision    recall  f1-score   support\n",
      "\n",
      "     CONFIRMED       0.95      0.96      0.96       631\n",
      "FALSE POSITIVE       0.97      0.97      0.97       913\n",
      "\n",
      "   avg / total       0.97      0.97      0.97      1544\n",
      "\n"
     ]
    }
   ],
   "source": [
    "print(classification_report(y_test,predictions))"
   ]
  },
  {
   "cell_type": "code",
   "execution_count": 11,
   "metadata": {},
   "outputs": [
    {
     "name": "stdout",
     "output_type": "stream",
     "text": [
      "[[608  23]\n",
      " [ 31 882]]\n"
     ]
    }
   ],
   "source": [
    "print(confusion_matrix(y_test,predictions))"
   ]
  },
  {
   "cell_type": "code",
   "execution_count": 12,
   "metadata": {},
   "outputs": [
    {
     "name": "stdout",
     "output_type": "stream",
     "text": [
      "0.9650259067357513\n"
     ]
    }
   ],
   "source": [
    "print(accuracy_score(y_test,predictions))"
   ]
  },
  {
   "cell_type": "markdown",
   "metadata": {},
   "source": [
    "**MLP with StratifiedShuffleSplit - default parameters**"
   ]
  },
  {
   "cell_type": "code",
   "execution_count": 13,
   "metadata": {},
   "outputs": [
    {
     "name": "stdout",
     "output_type": "stream",
     "text": [
      "Fitting 100 folds for each of 1 candidates, totalling 100 fits\n"
     ]
    },
    {
     "name": "stderr",
     "output_type": "stream",
     "text": [
      "[Parallel(n_jobs=-1)]: Done  16 tasks      | elapsed:   18.4s\n",
      "[Parallel(n_jobs=-1)]: Done 100 out of 100 | elapsed:   59.0s finished\n"
     ]
    },
    {
     "data": {
      "text/plain": [
       "GridSearchCV(cv=StratifiedShuffleSplit(n_splits=100, random_state=3, test_size=0.3,\n",
       "            train_size=None),\n",
       "       error_score='raise',\n",
       "       estimator=MLPClassifier(activation='relu', alpha=0.0001, batch_size='auto', beta_1=0.9,\n",
       "       beta_2=0.999, early_stopping=False, epsilon=1e-08,\n",
       "       hidden_layer_sizes=(100,), learning_rate='constant',\n",
       "       learning_rate_init=0.001, max_iter=200, momentum=0.9,\n",
       "       nesterovs_momentum=True, power_t=0.5, random_state=None,\n",
       "       shuffle=True, solver='adam', tol=0.0001, validation_fraction=0.1,\n",
       "       verbose=False, warm_start=False),\n",
       "       fit_params=None, iid=True, n_jobs=-1, param_grid={},\n",
       "       pre_dispatch='2*n_jobs', refit=True, return_train_score='warn',\n",
       "       scoring=None, verbose=3)"
      ]
     },
     "execution_count": 13,
     "metadata": {},
     "output_type": "execute_result"
    }
   ],
   "source": [
    "parameters={}\n",
    "mlp = MLPClassifier()\n",
    "ss = StratifiedShuffleSplit(n_splits=100, test_size=0.3, random_state=3)\n",
    "grid_mlp = GridSearchCV(mlp, parameters, cv=ss, n_jobs=-1, verbose=3)\n",
    "grid_mlp.fit(X,y)"
   ]
  },
  {
   "cell_type": "code",
   "execution_count": 14,
   "metadata": {},
   "outputs": [
    {
     "name": "stdout",
     "output_type": "stream",
     "text": [
      "Score: 0.983285\n"
     ]
    }
   ],
   "source": [
    "print(\"Score: %f\" % grid_mlp.score(X,y))"
   ]
  },
  {
   "cell_type": "code",
   "execution_count": 15,
   "metadata": {},
   "outputs": [],
   "source": [
    "predictions2=grid_mlp.predict(X)"
   ]
  },
  {
   "cell_type": "code",
   "execution_count": 16,
   "metadata": {},
   "outputs": [
    {
     "name": "stdout",
     "output_type": "stream",
     "text": [
      "                precision    recall  f1-score   support\n",
      "\n",
      "     CONFIRMED       0.98      0.98      0.98      2089\n",
      "FALSE POSITIVE       0.99      0.98      0.99      3056\n",
      "\n",
      "   avg / total       0.98      0.98      0.98      5145\n",
      "\n"
     ]
    }
   ],
   "source": [
    "print(classification_report(y,predictions2))"
   ]
  },
  {
   "cell_type": "code",
   "execution_count": 17,
   "metadata": {},
   "outputs": [
    {
     "name": "stdout",
     "output_type": "stream",
     "text": [
      "[[2055   34]\n",
      " [  52 3004]]\n"
     ]
    }
   ],
   "source": [
    "print(confusion_matrix(y,predictions2))"
   ]
  },
  {
   "cell_type": "code",
   "execution_count": 18,
   "metadata": {},
   "outputs": [
    {
     "name": "stdout",
     "output_type": "stream",
     "text": [
      "Fitting 100 folds for each of 1 candidates, totalling 100 fits\n"
     ]
    },
    {
     "name": "stderr",
     "output_type": "stream",
     "text": [
      "[Parallel(n_jobs=-1)]: Done  16 tasks      | elapsed:   27.3s\n",
      "[Parallel(n_jobs=-1)]: Done 100 out of 100 | elapsed:  1.9min finished\n"
     ]
    },
    {
     "name": "stdout",
     "output_type": "stream",
     "text": [
      "Fitting 100 folds for each of 1 candidates, totalling 100 fits\n"
     ]
    },
    {
     "name": "stderr",
     "output_type": "stream",
     "text": [
      "[Parallel(n_jobs=-1)]: Done  16 tasks      | elapsed:   14.8s\n",
      "[Parallel(n_jobs=-1)]: Done 100 out of 100 | elapsed:   41.3s finished\n"
     ]
    },
    {
     "name": "stdout",
     "output_type": "stream",
     "text": [
      "Fitting 100 folds for each of 1 candidates, totalling 100 fits\n"
     ]
    },
    {
     "name": "stderr",
     "output_type": "stream",
     "text": [
      "[Parallel(n_jobs=-1)]: Done  16 tasks      | elapsed:   14.4s\n",
      "[Parallel(n_jobs=-1)]: Done 100 out of 100 | elapsed:   40.7s finished\n"
     ]
    },
    {
     "name": "stdout",
     "output_type": "stream",
     "text": [
      "[0.9481352  0.97842566 0.95624271]\n"
     ]
    }
   ],
   "source": [
    "from sklearn.model_selection import cross_val_score\n",
    "cvs=cross_val_score(grid_mlp, X, y, cv=3, scoring=\"accuracy\")\n",
    "print(cvs)"
   ]
  },
  {
   "cell_type": "code",
   "execution_count": 20,
   "metadata": {},
   "outputs": [
    {
     "name": "stdout",
     "output_type": "stream",
     "text": [
      "Validation Accuracy: 96.1380 (+/- 1.12)\n",
      "Train Accuracy: 96.82 (+/- 1.00)\n"
     ]
    }
   ],
   "source": [
    "from sklearn.model_selection import cross_validate\n",
    "mlp_clf = MLPClassifier()\n",
    "ss = StratifiedShuffleSplit(n_splits=1000, test_size=0.3, random_state=3)\n",
    "scores = cross_validate(mlp_clf, X, y, cv=ss, return_train_score=True, scoring='accuracy', n_jobs=-1)\n",
    "\n",
    "print(\"Validation Accuracy: %0.4f (+/- %0.2f)\" % (scores['test_score'].mean()*100, scores['test_score'].std()*2*100))\n",
    "print(\"Train Accuracy: %0.2f (+/- %0.2f)\" % (scores['train_score'].mean()*100, scores['train_score'].std()*2*100))"
   ]
  },
  {
   "cell_type": "markdown",
   "metadata": {},
   "source": [
    "**MLP with Stratified Split - 1st set of parameters**"
   ]
  },
  {
   "cell_type": "code",
   "execution_count": 35,
   "metadata": {},
   "outputs": [
    {
     "name": "stdout",
     "output_type": "stream",
     "text": [
      "Fitting 100 folds for each of 324 candidates, totalling 32400 fits\n"
     ]
    },
    {
     "name": "stderr",
     "output_type": "stream",
     "text": [
      "[Parallel(n_jobs=-1)]: Done  16 tasks      | elapsed:    7.1s\n",
      "[Parallel(n_jobs=-1)]: Done 112 tasks      | elapsed:    9.7s\n",
      "[Parallel(n_jobs=-1)]: Done 272 tasks      | elapsed:   19.2s\n",
      "[Parallel(n_jobs=-1)]: Done 496 tasks      | elapsed:   32.8s\n",
      "[Parallel(n_jobs=-1)]: Done 784 tasks      | elapsed:   58.6s\n",
      "[Parallel(n_jobs=-1)]: Done 1136 tasks      | elapsed:  1.3min\n",
      "[Parallel(n_jobs=-1)]: Done 1552 tasks      | elapsed:  1.7min\n",
      "[Parallel(n_jobs=-1)]: Done 2032 tasks      | elapsed:  2.2min\n",
      "[Parallel(n_jobs=-1)]: Done 2576 tasks      | elapsed:  2.9min\n",
      "[Parallel(n_jobs=-1)]: Done 3184 tasks      | elapsed:  3.8min\n",
      "[Parallel(n_jobs=-1)]: Done 3856 tasks      | elapsed:  4.8min\n",
      "[Parallel(n_jobs=-1)]: Done 4592 tasks      | elapsed:  5.7min\n",
      "[Parallel(n_jobs=-1)]: Done 5392 tasks      | elapsed:  7.2min\n",
      "[Parallel(n_jobs=-1)]: Done 6256 tasks      | elapsed:  8.7min\n",
      "[Parallel(n_jobs=-1)]: Done 7184 tasks      | elapsed: 10.0min\n",
      "[Parallel(n_jobs=-1)]: Done 8176 tasks      | elapsed: 11.9min\n",
      "[Parallel(n_jobs=-1)]: Done 9232 tasks      | elapsed: 13.4min\n",
      "[Parallel(n_jobs=-1)]: Done 10352 tasks      | elapsed: 14.7min\n",
      "[Parallel(n_jobs=-1)]: Done 11536 tasks      | elapsed: 17.1min\n",
      "[Parallel(n_jobs=-1)]: Done 12784 tasks      | elapsed: 19.4min\n",
      "[Parallel(n_jobs=-1)]: Done 14096 tasks      | elapsed: 22.7min\n",
      "[Parallel(n_jobs=-1)]: Done 15472 tasks      | elapsed: 26.1min\n",
      "[Parallel(n_jobs=-1)]: Done 16912 tasks      | elapsed: 29.4min\n",
      "[Parallel(n_jobs=-1)]: Done 18416 tasks      | elapsed: 31.3min\n",
      "[Parallel(n_jobs=-1)]: Done 19984 tasks      | elapsed: 34.7min\n",
      "[Parallel(n_jobs=-1)]: Done 21616 tasks      | elapsed: 38.2min\n",
      "[Parallel(n_jobs=-1)]: Done 23312 tasks      | elapsed: 41.9min\n",
      "[Parallel(n_jobs=-1)]: Done 25072 tasks      | elapsed: 45.5min\n",
      "[Parallel(n_jobs=-1)]: Done 26896 tasks      | elapsed: 48.0min\n",
      "[Parallel(n_jobs=-1)]: Done 28784 tasks      | elapsed: 51.4min\n",
      "[Parallel(n_jobs=-1)]: Done 30736 tasks      | elapsed: 55.8min\n",
      "[Parallel(n_jobs=-1)]: Done 32400 out of 32400 | elapsed: 59.7min finished\n"
     ]
    },
    {
     "data": {
      "text/plain": [
       "GridSearchCV(cv=StratifiedShuffleSplit(n_splits=100, random_state=3, test_size=0.3,\n",
       "            train_size=None),\n",
       "       error_score='raise',\n",
       "       estimator=MLPClassifier(activation='relu', alpha=0.0001, batch_size='auto', beta_1=0.9,\n",
       "       beta_2=0.999, early_stopping=False, epsilon=1e-08,\n",
       "       hidden_layer_sizes=(100,), learning_rate='constant',\n",
       "       learning_rate_init=0.001, max_iter=200, momentum=0.9,\n",
       "       nesterovs_momentum=True, power_t=0.5, random_state=None,\n",
       "       shuffle=True, solver='adam', tol=0.0001, validation_fraction=0.1,\n",
       "       verbose=False, warm_start=False),\n",
       "       fit_params=None, iid=True, n_jobs=-1,\n",
       "       param_grid={'solver': ['lbfgs', 'sgd', 'adam'], 'activation': ['identity', 'logistic', 'tanh', 'relu'], 'hidden_layer_sizes': [20, 40, 60], 'alpha': [1e-05], 'learning_rate': ['constant', 'invscaling', 'adaptive'], 'max_iter': [20, 40, 60], 'tol': [0.001]},\n",
       "       pre_dispatch='2*n_jobs', refit=True, return_train_score='warn',\n",
       "       scoring=None, verbose=3)"
      ]
     },
     "execution_count": 35,
     "metadata": {},
     "output_type": "execute_result"
    }
   ],
   "source": [
    "parameters={'solver':['lbfgs','sgd','adam'],'activation':['identity','logistic','tanh','relu'],\n",
    "            'hidden_layer_sizes':[20,40,60],'alpha':[1e-5],\n",
    "            'learning_rate':['constant','invscaling','adaptive'],\n",
    "           'max_iter':[20,40,60],'tol':[1e-3]}\n",
    "mlp = MLPClassifier()\n",
    "ss = StratifiedShuffleSplit(n_splits=100, test_size=0.3, random_state=3)\n",
    "grid_mlp = GridSearchCV(mlp, parameters, cv=ss, n_jobs=-1, verbose=3)\n",
    "grid_mlp.fit(X,y)"
   ]
  },
  {
   "cell_type": "code",
   "execution_count": 41,
   "metadata": {},
   "outputs": [
    {
     "name": "stdout",
     "output_type": "stream",
     "text": [
      "0.9712342079689018\n",
      "{'activation': 'tanh', 'alpha': 1e-05, 'hidden_layer_sizes': 60, 'learning_rate': 'invscaling', 'max_iter': 20, 'solver': 'lbfgs', 'tol': 0.001}\n"
     ]
    }
   ],
   "source": [
    "print(grid_mlp.score(X, y))\n",
    "print(grid_mlp.best_params_)"
   ]
  },
  {
   "cell_type": "code",
   "execution_count": 42,
   "metadata": {},
   "outputs": [],
   "source": [
    "predictions3=grid_mlp.predict(X)"
   ]
  },
  {
   "cell_type": "code",
   "execution_count": 43,
   "metadata": {},
   "outputs": [
    {
     "name": "stdout",
     "output_type": "stream",
     "text": [
      "             precision    recall  f1-score   support\n",
      "\n",
      "          0       0.98      0.97      0.98      3056\n",
      "          1       0.96      0.97      0.96      2089\n",
      "\n",
      "avg / total       0.97      0.97      0.97      5145\n",
      "\n"
     ]
    }
   ],
   "source": [
    "print(classification_report(y,predictions3))"
   ]
  },
  {
   "cell_type": "code",
   "execution_count": 44,
   "metadata": {},
   "outputs": [
    {
     "name": "stdout",
     "output_type": "stream",
     "text": [
      "[[2971   85]\n",
      " [  63 2026]]\n"
     ]
    }
   ],
   "source": [
    "print(confusion_matrix(y,predictions3))"
   ]
  },
  {
   "cell_type": "code",
   "execution_count": 45,
   "metadata": {},
   "outputs": [
    {
     "name": "stdout",
     "output_type": "stream",
     "text": [
      "Validation Accuracy: 96.3966 (+/- 0.85)\n",
      "Train Accuracy: 97.25 (+/- 0.43)\n"
     ]
    }
   ],
   "source": [
    "from sklearn.model_selection import cross_validate\n",
    "mlp_clf = MLPClassifier(activation='tanh', alpha=1e-05, hidden_layer_sizes=60, learning_rate='invscaling', max_iter=20, solver='lbfgs', tol=0.001)\n",
    "ss = StratifiedShuffleSplit(n_splits=1000, test_size=0.3, random_state=3)\n",
    "scores=cross_validate(mlp_clf, X, y, cv=ss, return_train_score=True, scoring='accuracy', n_jobs=-1)\n",
    "\n",
    "print(\"Validation Accuracy: %0.4f (+/- %0.2f)\" % (scores['test_score'].mean()*100, scores['test_score'].std()*2*100))\n",
    "print(\"Train Accuracy: %0.2f (+/- %0.2f)\" % (scores['train_score'].mean()*100, scores['train_score'].std()*2*100))"
   ]
  },
  {
   "cell_type": "markdown",
   "metadata": {},
   "source": [
    "**MLP with Stratified Split - 2nd set of parameters**"
   ]
  },
  {
   "cell_type": "code",
   "execution_count": 46,
   "metadata": {},
   "outputs": [
    {
     "name": "stdout",
     "output_type": "stream",
     "text": [
      "Fitting 100 folds for each of 9 candidates, totalling 900 fits\n"
     ]
    },
    {
     "name": "stderr",
     "output_type": "stream",
     "text": [
      "[Parallel(n_jobs=-1)]: Done  16 tasks      | elapsed:    7.2s\n",
      "[Parallel(n_jobs=-1)]: Done 112 tasks      | elapsed:   12.0s\n",
      "[Parallel(n_jobs=-1)]: Done 272 tasks      | elapsed:   29.7s\n",
      "[Parallel(n_jobs=-1)]: Done 496 tasks      | elapsed:   52.7s\n",
      "[Parallel(n_jobs=-1)]: Done 784 tasks      | elapsed:  1.5min\n",
      "[Parallel(n_jobs=-1)]: Done 900 out of 900 | elapsed:  1.8min finished\n"
     ]
    },
    {
     "data": {
      "text/plain": [
       "GridSearchCV(cv=StratifiedShuffleSplit(n_splits=100, random_state=3, test_size=0.3,\n",
       "            train_size=None),\n",
       "       error_score='raise',\n",
       "       estimator=MLPClassifier(activation='relu', alpha=0.0001, batch_size='auto', beta_1=0.9,\n",
       "       beta_2=0.999, early_stopping=False, epsilon=1e-08,\n",
       "       hidden_layer_sizes=(100,), learning_rate='constant',\n",
       "       learning_rate_init=0.001, max_iter=200, momentum=0.9,\n",
       "       nesterovs_momentum=True, power_t=0.5, random_state=None,\n",
       "       shuffle=True, solver='adam', tol=0.0001, validation_fraction=0.1,\n",
       "       verbose=False, warm_start=False),\n",
       "       fit_params=None, iid=True, n_jobs=-1,\n",
       "       param_grid={'solver': ['lbfgs'], 'activation': ['tanh'], 'hidden_layer_sizes': [60, 80, 100], 'alpha': [1e-05], 'learning_rate': ['invscaling'], 'max_iter': [10, 20, 30], 'tol': [0.001]},\n",
       "       pre_dispatch='2*n_jobs', refit=True, return_train_score='warn',\n",
       "       scoring=None, verbose=3)"
      ]
     },
     "execution_count": 46,
     "metadata": {},
     "output_type": "execute_result"
    }
   ],
   "source": [
    "parameters={'solver':['lbfgs'],'activation':['tanh'],\n",
    "            'hidden_layer_sizes':[60,80,100],'alpha':[1e-5],\n",
    "            'learning_rate':['invscaling'],\n",
    "           'max_iter':[10,20,30],'tol':[1e-3]}\n",
    "mlp = MLPClassifier()\n",
    "ss = StratifiedShuffleSplit(n_splits=100, test_size=0.3, random_state=3)\n",
    "grid_mlp = GridSearchCV(mlp, parameters, cv=ss, n_jobs=-1, verbose=3)\n",
    "grid_mlp.fit(X,y)"
   ]
  },
  {
   "cell_type": "code",
   "execution_count": 47,
   "metadata": {},
   "outputs": [
    {
     "name": "stdout",
     "output_type": "stream",
     "text": [
      "0.9795918367346939\n",
      "{'activation': 'tanh', 'alpha': 1e-05, 'hidden_layer_sizes': 60, 'learning_rate': 'invscaling', 'max_iter': 30, 'solver': 'lbfgs', 'tol': 0.001}\n"
     ]
    }
   ],
   "source": [
    "print(grid_mlp.score(X, y))\n",
    "print(grid_mlp.best_params_)"
   ]
  },
  {
   "cell_type": "code",
   "execution_count": 48,
   "metadata": {},
   "outputs": [],
   "source": [
    "predictions4=grid_mlp.predict(X)"
   ]
  },
  {
   "cell_type": "code",
   "execution_count": 49,
   "metadata": {},
   "outputs": [
    {
     "name": "stdout",
     "output_type": "stream",
     "text": [
      "             precision    recall  f1-score   support\n",
      "\n",
      "          0       0.98      0.98      0.98      3056\n",
      "          1       0.97      0.98      0.97      2089\n",
      "\n",
      "avg / total       0.98      0.98      0.98      5145\n",
      "\n"
     ]
    }
   ],
   "source": [
    "print(classification_report(y,predictions4))"
   ]
  },
  {
   "cell_type": "code",
   "execution_count": 50,
   "metadata": {},
   "outputs": [
    {
     "name": "stdout",
     "output_type": "stream",
     "text": [
      "[[2999   57]\n",
      " [  48 2041]]\n"
     ]
    }
   ],
   "source": [
    "print(confusion_matrix(y,predictions4))"
   ]
  },
  {
   "cell_type": "code",
   "execution_count": 53,
   "metadata": {},
   "outputs": [
    {
     "name": "stdout",
     "output_type": "stream",
     "text": [
      "Validation Accuracy: 96.5089 (+/- 0.88)\n",
      "Train Accuracy: 97.99 (+/- 0.45)\n"
     ]
    }
   ],
   "source": [
    "from sklearn.model_selection import cross_validate\n",
    "mlp_clf = MLPClassifier(activation='tanh', alpha=1e-05, hidden_layer_sizes=60, learning_rate='invscaling', max_iter=30, solver='lbfgs', tol=0.001)\n",
    "ss = StratifiedShuffleSplit(n_splits=1000, test_size=0.3, random_state=3)\n",
    "scores=cross_validate(mlp_clf, X, y, cv=ss, return_train_score=True, scoring='accuracy', n_jobs=-1)\n",
    "\n",
    "print(\"Validation Accuracy: %0.4f (+/- %0.2f)\" % (scores['test_score'].mean()*100, scores['test_score'].std()*2*100))\n",
    "print(\"Train Accuracy: %0.2f (+/- %0.2f)\" % (scores['train_score'].mean()*100, scores['train_score'].std()*2*100))"
   ]
  },
  {
   "cell_type": "markdown",
   "metadata": {},
   "source": [
    "**MLP With Stratified Split - 3rd set of parameters**"
   ]
  },
  {
   "cell_type": "code",
   "execution_count": 54,
   "metadata": {},
   "outputs": [
    {
     "name": "stdout",
     "output_type": "stream",
     "text": [
      "Fitting 100 folds for each of 30 candidates, totalling 3000 fits\n"
     ]
    },
    {
     "name": "stderr",
     "output_type": "stream",
     "text": [
      "[Parallel(n_jobs=-1)]: Done  16 tasks      | elapsed:    7.9s\n",
      "[Parallel(n_jobs=-1)]: Done 112 tasks      | elapsed:   19.3s\n",
      "[Parallel(n_jobs=-1)]: Done 272 tasks      | elapsed:   38.9s\n",
      "[Parallel(n_jobs=-1)]: Done 546 tasks      | elapsed:   52.1s\n",
      "[Parallel(n_jobs=-1)]: Done 835 tasks      | elapsed:  1.4min\n",
      "[Parallel(n_jobs=-1)]: Done 1236 tasks      | elapsed:  1.9min\n",
      "[Parallel(n_jobs=-1)]: Done 1704 tasks      | elapsed:  2.5min\n",
      "[Parallel(n_jobs=-1)]: Done 2220 tasks      | elapsed:  3.3min\n",
      "[Parallel(n_jobs=-1)]: Done 2817 tasks      | elapsed:  4.1min\n",
      "[Parallel(n_jobs=-1)]: Done 2985 out of 3000 | elapsed:  4.2min remaining:    1.2s\n",
      "[Parallel(n_jobs=-1)]: Done 3000 out of 3000 | elapsed:  4.2min finished\n"
     ]
    },
    {
     "data": {
      "text/plain": [
       "GridSearchCV(cv=StratifiedShuffleSplit(n_splits=100, random_state=3, test_size=0.3,\n",
       "            train_size=None),\n",
       "       error_score='raise',\n",
       "       estimator=MLPClassifier(activation='relu', alpha=0.0001, batch_size='auto', beta_1=0.9,\n",
       "       beta_2=0.999, early_stopping=False, epsilon=1e-08,\n",
       "       hidden_layer_sizes=(100,), learning_rate='constant',\n",
       "       learning_rate_init=0.001, max_iter=200, momentum=0.9,\n",
       "       nesterovs_momentum=True, power_t=0.5, random_state=None,\n",
       "       shuffle=True, solver='adam', tol=0.0001, validation_fraction=0.1,\n",
       "       verbose=False, warm_start=False),\n",
       "       fit_params=None, iid=True, n_jobs=-1,\n",
       "       param_grid={'solver': ['lbfgs'], 'activation': ['tanh'], 'hidden_layer_sizes': [60], 'alpha': [1e-07, 1e-06, 1e-05, 0.0001, 0.01, 0.1], 'learning_rate': ['invscaling'], 'max_iter': [30], 'tol': [1e-05, 0.0001, 0.001, 0.01, 0.1]},\n",
       "       pre_dispatch='2*n_jobs', refit=True, return_train_score='warn',\n",
       "       scoring=None, verbose=3)"
      ]
     },
     "execution_count": 54,
     "metadata": {},
     "output_type": "execute_result"
    }
   ],
   "source": [
    "parameters={'solver':['lbfgs'],'activation':['tanh'],\n",
    "            'hidden_layer_sizes':[60],'alpha':[1e-7,1e-6,1e-5,1e-4,1e-2,1e-1],\n",
    "            'learning_rate':['invscaling'],\n",
    "           'max_iter':[30],'tol':[0.00001,0.0001,0.001,0.01,0.1]}\n",
    "mlp = MLPClassifier()\n",
    "ss = StratifiedShuffleSplit(n_splits=100, test_size=0.3, random_state=3)\n",
    "grid_mlp = GridSearchCV(mlp, parameters, cv=ss, n_jobs=-1, verbose=3)\n",
    "grid_mlp.fit(X,y)"
   ]
  },
  {
   "cell_type": "code",
   "execution_count": 55,
   "metadata": {},
   "outputs": [
    {
     "name": "stdout",
     "output_type": "stream",
     "text": [
      "0.9747327502429544\n",
      "{'activation': 'tanh', 'alpha': 0.1, 'hidden_layer_sizes': 60, 'learning_rate': 'invscaling', 'max_iter': 30, 'solver': 'lbfgs', 'tol': 1e-05}\n"
     ]
    }
   ],
   "source": [
    "print(grid_mlp.score(X, y))\n",
    "print(grid_mlp.best_params_)"
   ]
  },
  {
   "cell_type": "code",
   "execution_count": 56,
   "metadata": {},
   "outputs": [],
   "source": [
    "predictions5=grid_mlp.predict(X)"
   ]
  },
  {
   "cell_type": "code",
   "execution_count": 57,
   "metadata": {},
   "outputs": [
    {
     "name": "stdout",
     "output_type": "stream",
     "text": [
      "             precision    recall  f1-score   support\n",
      "\n",
      "          0       0.98      0.98      0.98      3056\n",
      "          1       0.97      0.97      0.97      2089\n",
      "\n",
      "avg / total       0.97      0.97      0.97      5145\n",
      "\n"
     ]
    }
   ],
   "source": [
    "print(classification_report(y,predictions5))"
   ]
  },
  {
   "cell_type": "code",
   "execution_count": 58,
   "metadata": {},
   "outputs": [
    {
     "name": "stdout",
     "output_type": "stream",
     "text": [
      "[[2983   73]\n",
      " [  57 2032]]\n"
     ]
    }
   ],
   "source": [
    "print(confusion_matrix(y,predictions5))"
   ]
  },
  {
   "cell_type": "code",
   "execution_count": 59,
   "metadata": {},
   "outputs": [
    {
     "name": "stdout",
     "output_type": "stream",
     "text": [
      "Validation Accuracy: 96.5455 (+/- 0.85)\n",
      "Train Accuracy: 97.96 (+/- 0.46)\n"
     ]
    }
   ],
   "source": [
    "from sklearn.model_selection import cross_validate\n",
    "mlp_clf = MLPClassifier(activation='tanh', alpha=0.1, hidden_layer_sizes=60, learning_rate='invscaling', max_iter=30, solver='lbfgs', tol=0.00001)\n",
    "ss = StratifiedShuffleSplit(n_splits=1000, test_size=0.3, random_state=3)\n",
    "scores=cross_validate(mlp_clf, X, y, cv=ss, return_train_score=True, scoring='accuracy', n_jobs=-1)\n",
    "\n",
    "print(\"Validation Accuracy: %0.4f (+/- %0.2f)\" % (scores['test_score'].mean()*100, scores['test_score'].std()*2*100))\n",
    "print(\"Train Accuracy: %0.2f (+/- %0.2f)\" % (scores['train_score'].mean()*100, scores['train_score'].std()*2*100))"
   ]
  },
  {
   "cell_type": "markdown",
   "metadata": {},
   "source": [
    "**GridSearch with best parameters and including default max_iter value**"
   ]
  },
  {
   "cell_type": "code",
   "execution_count": 68,
   "metadata": {},
   "outputs": [
    {
     "name": "stdout",
     "output_type": "stream",
     "text": [
      "Fitting 100 folds for each of 3 candidates, totalling 300 fits\n"
     ]
    },
    {
     "name": "stderr",
     "output_type": "stream",
     "text": [
      "[Parallel(n_jobs=-1)]: Done  16 tasks      | elapsed:    8.2s\n",
      "[Parallel(n_jobs=-1)]: Done 112 tasks      | elapsed:   25.0s\n",
      "[Parallel(n_jobs=-1)]: Done 272 tasks      | elapsed:  2.0min\n",
      "[Parallel(n_jobs=-1)]: Done 300 out of 300 | elapsed:  2.3min finished\n"
     ]
    },
    {
     "data": {
      "text/plain": [
       "GridSearchCV(cv=StratifiedShuffleSplit(n_splits=100, random_state=3, test_size=0.3,\n",
       "            train_size=None),\n",
       "       error_score='raise',\n",
       "       estimator=MLPClassifier(activation='relu', alpha=0.0001, batch_size='auto', beta_1=0.9,\n",
       "       beta_2=0.999, early_stopping=False, epsilon=1e-08,\n",
       "       hidden_layer_sizes=(100,), learning_rate='constant',\n",
       "       learning_rate_init=0.001, max_iter=200, momentum=0.9,\n",
       "       nesterovs_momentum=True, power_t=0.5, random_state=None,\n",
       "       shuffle=True, solver='adam', tol=0.0001, validation_fraction=0.1,\n",
       "       verbose=False, warm_start=False),\n",
       "       fit_params=None, iid=True, n_jobs=-1,\n",
       "       param_grid={'solver': ['lbfgs'], 'activation': ['tanh'], 'hidden_layer_sizes': [60], 'alpha': [0.1], 'learning_rate': ['invscaling'], 'max_iter': [30, 100, 200], 'tol': [1e-05]},\n",
       "       pre_dispatch='2*n_jobs', refit=True, return_train_score='warn',\n",
       "       scoring=None, verbose=3)"
      ]
     },
     "execution_count": 68,
     "metadata": {},
     "output_type": "execute_result"
    }
   ],
   "source": [
    "parameters={'solver':['lbfgs'],'activation':['tanh'],\n",
    "            'hidden_layer_sizes':[60],'alpha':[0.1],\n",
    "            'learning_rate':['invscaling'],\n",
    "           'max_iter':[30,100,200],'tol':[0.00001]}\n",
    "mlp = MLPClassifier()\n",
    "ss = StratifiedShuffleSplit(n_splits=100, test_size=0.3, random_state=3)\n",
    "grid_mlp = GridSearchCV(mlp, parameters, cv=ss, n_jobs=-1, verbose=3)\n",
    "grid_mlp.fit(X,y)"
   ]
  },
  {
   "cell_type": "code",
   "execution_count": 69,
   "metadata": {},
   "outputs": [
    {
     "name": "stdout",
     "output_type": "stream",
     "text": [
      "0.9745383867832847\n",
      "{'activation': 'tanh', 'alpha': 0.1, 'hidden_layer_sizes': 60, 'learning_rate': 'invscaling', 'max_iter': 30, 'solver': 'lbfgs', 'tol': 1e-05}\n"
     ]
    }
   ],
   "source": [
    "print(grid_mlp.score(X, y))\n",
    "print(grid_mlp.best_params_)"
   ]
  },
  {
   "cell_type": "code",
   "execution_count": 70,
   "metadata": {},
   "outputs": [],
   "source": [
    "predictions7=grid_mlp.predict(X)"
   ]
  },
  {
   "cell_type": "code",
   "execution_count": 71,
   "metadata": {},
   "outputs": [
    {
     "name": "stdout",
     "output_type": "stream",
     "text": [
      "             precision    recall  f1-score   support\n",
      "\n",
      "          0       0.98      0.98      0.98      3056\n",
      "          1       0.97      0.97      0.97      2089\n",
      "\n",
      "avg / total       0.97      0.97      0.97      5145\n",
      "\n"
     ]
    }
   ],
   "source": [
    "print(classification_report(y,predictions7))"
   ]
  },
  {
   "cell_type": "code",
   "execution_count": 72,
   "metadata": {},
   "outputs": [
    {
     "name": "stdout",
     "output_type": "stream",
     "text": [
      "Validation Accuracy: 96.2522 (+/- 1.05)\n",
      "Train Accuracy: 98.36 (+/- 0.53)\n"
     ]
    }
   ],
   "source": [
    "from sklearn.model_selection import cross_validate\n",
    "mlp_clf = MLPClassifier(activation='tanh', alpha=0.1, hidden_layer_sizes=60, learning_rate='invscaling', max_iter=30, solver='lbfgs', tol=0.00001)\n",
    "ss = StratifiedShuffleSplit(n_splits=1000, test_size=0.3, random_state=3)\n",
    "scores=cross_validate(mlp_clf, X_train, y_train, cv=ss, return_train_score=True, scoring='accuracy', n_jobs=-1)\n",
    "\n",
    "print(\"Validation Accuracy: %0.4f (+/- %0.2f)\" % (scores['test_score'].mean()*100, scores['test_score'].std()*2*100))\n",
    "print(\"Train Accuracy: %0.2f (+/- %0.2f)\" % (scores['train_score'].mean()*100, scores['train_score'].std()*2*100))"
   ]
  },
  {
   "cell_type": "markdown",
   "metadata": {},
   "source": [
    "**Running the errors dataset on the best parameters from the no errors dataset**"
   ]
  },
  {
   "cell_type": "code",
   "execution_count": 30,
   "metadata": {},
   "outputs": [
    {
     "name": "stdout",
     "output_type": "stream",
     "text": [
      "Validation Accuracy: 96.1748 (+/- 1.06)\n",
      "Train Accuracy: 98.90 (+/- 0.40)\n"
     ]
    }
   ],
   "source": [
    "from sklearn.model_selection import cross_validate\n",
    "mlp_clf = MLPClassifier(activation='relu', alpha=0.25, hidden_layer_sizes=50, learning_rate='invscaling', max_iter=40, solver='lbfgs', tol=0.00001)\n",
    "ss = StratifiedShuffleSplit(n_splits=1000, test_size=0.3, random_state=3)\n",
    "scores=cross_validate(mlp_clf, X_train, y_train, cv=ss, return_train_score=True, scoring='accuracy', n_jobs=-1)\n",
    "\n",
    "print(\"Validation Accuracy: %0.4f (+/- %0.2f)\" % (scores['test_score'].mean()*100, scores['test_score'].std()*2*100))\n",
    "print(\"Train Accuracy: %0.2f (+/- %0.2f)\" % (scores['train_score'].mean()*100, scores['train_score'].std()*2*100))"
   ]
  },
  {
   "cell_type": "markdown",
   "metadata": {},
   "source": [
    "**Changing the scoring to 'roc_auc'**"
   ]
  },
  {
   "cell_type": "code",
   "execution_count": 31,
   "metadata": {},
   "outputs": [
    {
     "data": {
      "text/html": [
       "<div>\n",
       "<style scoped>\n",
       "    .dataframe tbody tr th:only-of-type {\n",
       "        vertical-align: middle;\n",
       "    }\n",
       "\n",
       "    .dataframe tbody tr th {\n",
       "        vertical-align: top;\n",
       "    }\n",
       "\n",
       "    .dataframe thead th {\n",
       "        text-align: right;\n",
       "    }\n",
       "</style>\n",
       "<table border=\"1\" class=\"dataframe\">\n",
       "  <thead>\n",
       "    <tr style=\"text-align: right;\">\n",
       "      <th></th>\n",
       "      <th>koi_dikco_msky</th>\n",
       "      <th>koi_dicco_msky</th>\n",
       "      <th>koi_steff_err2</th>\n",
       "      <th>koi_fwm_stat_sig</th>\n",
       "      <th>koi_prad_err1</th>\n",
       "      <th>koi_steff_err1</th>\n",
       "      <th>koi_ror_err1</th>\n",
       "      <th>koi_smet_err2</th>\n",
       "      <th>koi_smet_err1</th>\n",
       "      <th>koi_count</th>\n",
       "      <th>...</th>\n",
       "      <th>koi_srho_err2</th>\n",
       "      <th>koi_insol_err1</th>\n",
       "      <th>koi_fwm_sdeco_err</th>\n",
       "      <th>koi_depth_err1</th>\n",
       "      <th>koi_period</th>\n",
       "      <th>koi_fwm_srao_err</th>\n",
       "      <th>koi_insol</th>\n",
       "      <th>koi_dor_err2</th>\n",
       "      <th>koi_dicco_msky_err</th>\n",
       "      <th>koi_disposition</th>\n",
       "    </tr>\n",
       "  </thead>\n",
       "  <tbody>\n",
       "    <tr>\n",
       "      <th>0</th>\n",
       "      <td>0.320</td>\n",
       "      <td>0.200</td>\n",
       "      <td>-81.0</td>\n",
       "      <td>0.002</td>\n",
       "      <td>0.26</td>\n",
       "      <td>81.0</td>\n",
       "      <td>0.000832</td>\n",
       "      <td>-0.15</td>\n",
       "      <td>0.15</td>\n",
       "      <td>2</td>\n",
       "      <td>...</td>\n",
       "      <td>-1.09986</td>\n",
       "      <td>29.45</td>\n",
       "      <td>0.480</td>\n",
       "      <td>19.5</td>\n",
       "      <td>9.488036</td>\n",
       "      <td>0.510</td>\n",
       "      <td>93.59</td>\n",
       "      <td>-2.600</td>\n",
       "      <td>0.170</td>\n",
       "      <td>1</td>\n",
       "    </tr>\n",
       "    <tr>\n",
       "      <th>1</th>\n",
       "      <td>0.500</td>\n",
       "      <td>0.390</td>\n",
       "      <td>-81.0</td>\n",
       "      <td>0.003</td>\n",
       "      <td>0.32</td>\n",
       "      <td>81.0</td>\n",
       "      <td>0.009078</td>\n",
       "      <td>-0.15</td>\n",
       "      <td>0.15</td>\n",
       "      <td>2</td>\n",
       "      <td>...</td>\n",
       "      <td>-2.49638</td>\n",
       "      <td>2.87</td>\n",
       "      <td>0.680</td>\n",
       "      <td>35.5</td>\n",
       "      <td>54.418383</td>\n",
       "      <td>0.720</td>\n",
       "      <td>9.11</td>\n",
       "      <td>-28.400</td>\n",
       "      <td>0.360</td>\n",
       "      <td>1</td>\n",
       "    </tr>\n",
       "    <tr>\n",
       "      <th>2</th>\n",
       "      <td>0.276</td>\n",
       "      <td>0.289</td>\n",
       "      <td>-174.0</td>\n",
       "      <td>0.000</td>\n",
       "      <td>8.50</td>\n",
       "      <td>157.0</td>\n",
       "      <td>0.109232</td>\n",
       "      <td>-0.30</td>\n",
       "      <td>0.30</td>\n",
       "      <td>1</td>\n",
       "      <td>...</td>\n",
       "      <td>-0.01837</td>\n",
       "      <td>668.95</td>\n",
       "      <td>0.027</td>\n",
       "      <td>12.8</td>\n",
       "      <td>1.736952</td>\n",
       "      <td>0.031</td>\n",
       "      <td>891.96</td>\n",
       "      <td>-0.136</td>\n",
       "      <td>0.079</td>\n",
       "      <td>0</td>\n",
       "    </tr>\n",
       "    <tr>\n",
       "      <th>3</th>\n",
       "      <td>0.070</td>\n",
       "      <td>0.100</td>\n",
       "      <td>-211.0</td>\n",
       "      <td>0.733</td>\n",
       "      <td>0.88</td>\n",
       "      <td>169.0</td>\n",
       "      <td>0.003751</td>\n",
       "      <td>-0.30</td>\n",
       "      <td>0.25</td>\n",
       "      <td>1</td>\n",
       "      <td>...</td>\n",
       "      <td>-1.74541</td>\n",
       "      <td>874.33</td>\n",
       "      <td>0.370</td>\n",
       "      <td>16.9</td>\n",
       "      <td>2.525592</td>\n",
       "      <td>0.350</td>\n",
       "      <td>926.16</td>\n",
       "      <td>-4.000</td>\n",
       "      <td>0.140</td>\n",
       "      <td>1</td>\n",
       "    </tr>\n",
       "    <tr>\n",
       "      <th>4</th>\n",
       "      <td>8.948</td>\n",
       "      <td>8.930</td>\n",
       "      <td>-124.0</td>\n",
       "      <td>0.000</td>\n",
       "      <td>6.45</td>\n",
       "      <td>111.0</td>\n",
       "      <td>7.128076</td>\n",
       "      <td>-0.15</td>\n",
       "      <td>0.15</td>\n",
       "      <td>1</td>\n",
       "      <td>...</td>\n",
       "      <td>-0.00053</td>\n",
       "      <td>349.28</td>\n",
       "      <td>0.220</td>\n",
       "      <td>5.8</td>\n",
       "      <td>7.361790</td>\n",
       "      <td>0.250</td>\n",
       "      <td>767.22</td>\n",
       "      <td>-1.200</td>\n",
       "      <td>0.074</td>\n",
       "      <td>0</td>\n",
       "    </tr>\n",
       "  </tbody>\n",
       "</table>\n",
       "<p>5 rows × 35 columns</p>\n",
       "</div>"
      ],
      "text/plain": [
       "   koi_dikco_msky  koi_dicco_msky  koi_steff_err2  koi_fwm_stat_sig  \\\n",
       "0           0.320           0.200           -81.0             0.002   \n",
       "1           0.500           0.390           -81.0             0.003   \n",
       "2           0.276           0.289          -174.0             0.000   \n",
       "3           0.070           0.100          -211.0             0.733   \n",
       "4           8.948           8.930          -124.0             0.000   \n",
       "\n",
       "   koi_prad_err1  koi_steff_err1  koi_ror_err1  koi_smet_err2  koi_smet_err1  \\\n",
       "0           0.26            81.0      0.000832          -0.15           0.15   \n",
       "1           0.32            81.0      0.009078          -0.15           0.15   \n",
       "2           8.50           157.0      0.109232          -0.30           0.30   \n",
       "3           0.88           169.0      0.003751          -0.30           0.25   \n",
       "4           6.45           111.0      7.128076          -0.15           0.15   \n",
       "\n",
       "   koi_count       ...         koi_srho_err2  koi_insol_err1  \\\n",
       "0          2       ...              -1.09986           29.45   \n",
       "1          2       ...              -2.49638            2.87   \n",
       "2          1       ...              -0.01837          668.95   \n",
       "3          1       ...              -1.74541          874.33   \n",
       "4          1       ...              -0.00053          349.28   \n",
       "\n",
       "   koi_fwm_sdeco_err  koi_depth_err1  koi_period  koi_fwm_srao_err  koi_insol  \\\n",
       "0              0.480            19.5    9.488036             0.510      93.59   \n",
       "1              0.680            35.5   54.418383             0.720       9.11   \n",
       "2              0.027            12.8    1.736952             0.031     891.96   \n",
       "3              0.370            16.9    2.525592             0.350     926.16   \n",
       "4              0.220             5.8    7.361790             0.250     767.22   \n",
       "\n",
       "   koi_dor_err2  koi_dicco_msky_err  koi_disposition  \n",
       "0        -2.600               0.170                1  \n",
       "1       -28.400               0.360                1  \n",
       "2        -0.136               0.079                0  \n",
       "3        -4.000               0.140                1  \n",
       "4        -1.200               0.074                0  \n",
       "\n",
       "[5 rows x 35 columns]"
      ]
     },
     "execution_count": 31,
     "metadata": {},
     "output_type": "execute_result"
    }
   ],
   "source": [
    "planets_v2 = planets.replace({'koi_disposition':{'FALSE POSITIVE':0,'CONFIRMED':1}})\n",
    "planets_v2.head()"
   ]
  },
  {
   "cell_type": "code",
   "execution_count": 32,
   "metadata": {},
   "outputs": [],
   "source": [
    "X = planets_v2.drop('koi_disposition',axis=1)\n",
    "y = planets_v2['koi_disposition']"
   ]
  },
  {
   "cell_type": "code",
   "execution_count": 33,
   "metadata": {},
   "outputs": [],
   "source": [
    "scaler = StandardScaler()\n",
    "scaler.fit(X)\n",
    "X = scaler.transform(X)"
   ]
  },
  {
   "cell_type": "code",
   "execution_count": 34,
   "metadata": {},
   "outputs": [
    {
     "name": "stdout",
     "output_type": "stream",
     "text": [
      "Validation Accuracy: 99.2284 (+/- 0.37)\n",
      "Train Accuracy: 99.87 (+/- 0.05)\n"
     ]
    }
   ],
   "source": [
    "from sklearn.model_selection import cross_validate\n",
    "mlp_clf = MLPClassifier(activation='relu', alpha=0.25, hidden_layer_sizes=50, learning_rate='invscaling', max_iter=40, solver='lbfgs', tol=0.00001)\n",
    "ss = StratifiedShuffleSplit(n_splits=1000, test_size=0.3, random_state=3)\n",
    "scores=cross_validate(mlp_clf, X, y, cv=ss, return_train_score=True, scoring='roc_auc', n_jobs=-1)\n",
    "\n",
    "print(\"Validation Accuracy: %0.4f (+/- %0.2f)\" % (scores['test_score'].mean()*100, scores['test_score'].std()*2*100))\n",
    "print(\"Train Accuracy: %0.2f (+/- %0.2f)\" % (scores['train_score'].mean()*100, scores['train_score'].std()*2*100))"
   ]
  },
  {
   "cell_type": "markdown",
   "metadata": {},
   "source": [
    "**Discussion**"
   ]
  },
  {
   "cell_type": "markdown",
   "metadata": {},
   "source": [
    "Changing the scoring type from 'accuracy' to 'roc_auc' increased the score.\n",
    "\n",
    "Using the fine-tuned parameters from the no-errors dataset showed a similar score as the fine-tuned parameters from the errors dataset.\n",
    "\n",
    "The score increased as the parameters were changed with each new grid search."
   ]
  }
 ],
 "metadata": {
  "kernelspec": {
   "display_name": "Python 3",
   "language": "python",
   "name": "python3"
  },
  "language_info": {
   "codemirror_mode": {
    "name": "ipython",
    "version": 3
   },
   "file_extension": ".py",
   "mimetype": "text/x-python",
   "name": "python",
   "nbconvert_exporter": "python",
   "pygments_lexer": "ipython3",
   "version": "3.6.5"
  }
 },
 "nbformat": 4,
 "nbformat_minor": 2
}
