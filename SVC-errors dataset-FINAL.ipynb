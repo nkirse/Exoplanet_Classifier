{
 "cells": [
  {
   "cell_type": "markdown",
   "metadata": {},
   "source": [
    "Lauren Hare"
   ]
  },
  {
   "cell_type": "markdown",
   "metadata": {},
   "source": [
    "**Import and read in data (errors dataset)**"
   ]
  },
  {
   "cell_type": "code",
   "execution_count": 1,
   "metadata": {},
   "outputs": [],
   "source": [
    "import pandas as pd\n",
    "import numpy as np\n",
    "import matplotlib.pyplot as plt\n",
    "\n",
    "from sklearn.svm import SVC\n",
    "from sklearn.model_selection import GridSearchCV\n",
    "\n",
    "from sklearn.model_selection import train_test_split\n",
    "\n",
    "from sklearn.metrics import classification_report, confusion_matrix\n",
    "from sklearn.metrics import accuracy_score\n",
    "\n",
    "from sklearn.model_selection import StratifiedShuffleSplit\n",
    "\n",
    "from sklearn.model_selection import cross_validate\n",
    "\n",
    "from sklearn.ensemble import AdaBoostClassifier\n",
    "\n",
    "from sklearn.preprocessing import StandardScaler"
   ]
  },
  {
   "cell_type": "code",
   "execution_count": 2,
   "metadata": {},
   "outputs": [
    {
     "data": {
      "text/html": [
       "<div>\n",
       "<style scoped>\n",
       "    .dataframe tbody tr th:only-of-type {\n",
       "        vertical-align: middle;\n",
       "    }\n",
       "\n",
       "    .dataframe tbody tr th {\n",
       "        vertical-align: top;\n",
       "    }\n",
       "\n",
       "    .dataframe thead th {\n",
       "        text-align: right;\n",
       "    }\n",
       "</style>\n",
       "<table border=\"1\" class=\"dataframe\">\n",
       "  <thead>\n",
       "    <tr style=\"text-align: right;\">\n",
       "      <th></th>\n",
       "      <th>koi_dikco_msky</th>\n",
       "      <th>koi_dicco_msky</th>\n",
       "      <th>koi_steff_err2</th>\n",
       "      <th>koi_fwm_stat_sig</th>\n",
       "      <th>koi_prad_err1</th>\n",
       "      <th>koi_steff_err1</th>\n",
       "      <th>koi_ror_err1</th>\n",
       "      <th>koi_smet_err2</th>\n",
       "      <th>koi_smet_err1</th>\n",
       "      <th>koi_count</th>\n",
       "      <th>...</th>\n",
       "      <th>koi_srho_err2</th>\n",
       "      <th>koi_insol_err1</th>\n",
       "      <th>koi_fwm_sdeco_err</th>\n",
       "      <th>koi_depth_err1</th>\n",
       "      <th>koi_period</th>\n",
       "      <th>koi_fwm_srao_err</th>\n",
       "      <th>koi_insol</th>\n",
       "      <th>koi_dor_err2</th>\n",
       "      <th>koi_dicco_msky_err</th>\n",
       "      <th>koi_disposition</th>\n",
       "    </tr>\n",
       "  </thead>\n",
       "  <tbody>\n",
       "    <tr>\n",
       "      <th>0</th>\n",
       "      <td>0.320</td>\n",
       "      <td>0.200</td>\n",
       "      <td>-81.0</td>\n",
       "      <td>0.002</td>\n",
       "      <td>0.26</td>\n",
       "      <td>81.0</td>\n",
       "      <td>0.000832</td>\n",
       "      <td>-0.15</td>\n",
       "      <td>0.15</td>\n",
       "      <td>2</td>\n",
       "      <td>...</td>\n",
       "      <td>-1.09986</td>\n",
       "      <td>29.45</td>\n",
       "      <td>0.480</td>\n",
       "      <td>19.5</td>\n",
       "      <td>9.488036</td>\n",
       "      <td>0.510</td>\n",
       "      <td>93.59</td>\n",
       "      <td>-2.600</td>\n",
       "      <td>0.170</td>\n",
       "      <td>CONFIRMED</td>\n",
       "    </tr>\n",
       "    <tr>\n",
       "      <th>1</th>\n",
       "      <td>0.500</td>\n",
       "      <td>0.390</td>\n",
       "      <td>-81.0</td>\n",
       "      <td>0.003</td>\n",
       "      <td>0.32</td>\n",
       "      <td>81.0</td>\n",
       "      <td>0.009078</td>\n",
       "      <td>-0.15</td>\n",
       "      <td>0.15</td>\n",
       "      <td>2</td>\n",
       "      <td>...</td>\n",
       "      <td>-2.49638</td>\n",
       "      <td>2.87</td>\n",
       "      <td>0.680</td>\n",
       "      <td>35.5</td>\n",
       "      <td>54.418383</td>\n",
       "      <td>0.720</td>\n",
       "      <td>9.11</td>\n",
       "      <td>-28.400</td>\n",
       "      <td>0.360</td>\n",
       "      <td>CONFIRMED</td>\n",
       "    </tr>\n",
       "    <tr>\n",
       "      <th>2</th>\n",
       "      <td>0.276</td>\n",
       "      <td>0.289</td>\n",
       "      <td>-174.0</td>\n",
       "      <td>0.000</td>\n",
       "      <td>8.50</td>\n",
       "      <td>157.0</td>\n",
       "      <td>0.109232</td>\n",
       "      <td>-0.30</td>\n",
       "      <td>0.30</td>\n",
       "      <td>1</td>\n",
       "      <td>...</td>\n",
       "      <td>-0.01837</td>\n",
       "      <td>668.95</td>\n",
       "      <td>0.027</td>\n",
       "      <td>12.8</td>\n",
       "      <td>1.736952</td>\n",
       "      <td>0.031</td>\n",
       "      <td>891.96</td>\n",
       "      <td>-0.136</td>\n",
       "      <td>0.079</td>\n",
       "      <td>FALSE POSITIVE</td>\n",
       "    </tr>\n",
       "    <tr>\n",
       "      <th>3</th>\n",
       "      <td>0.070</td>\n",
       "      <td>0.100</td>\n",
       "      <td>-211.0</td>\n",
       "      <td>0.733</td>\n",
       "      <td>0.88</td>\n",
       "      <td>169.0</td>\n",
       "      <td>0.003751</td>\n",
       "      <td>-0.30</td>\n",
       "      <td>0.25</td>\n",
       "      <td>1</td>\n",
       "      <td>...</td>\n",
       "      <td>-1.74541</td>\n",
       "      <td>874.33</td>\n",
       "      <td>0.370</td>\n",
       "      <td>16.9</td>\n",
       "      <td>2.525592</td>\n",
       "      <td>0.350</td>\n",
       "      <td>926.16</td>\n",
       "      <td>-4.000</td>\n",
       "      <td>0.140</td>\n",
       "      <td>CONFIRMED</td>\n",
       "    </tr>\n",
       "    <tr>\n",
       "      <th>4</th>\n",
       "      <td>8.948</td>\n",
       "      <td>8.930</td>\n",
       "      <td>-124.0</td>\n",
       "      <td>0.000</td>\n",
       "      <td>6.45</td>\n",
       "      <td>111.0</td>\n",
       "      <td>7.128076</td>\n",
       "      <td>-0.15</td>\n",
       "      <td>0.15</td>\n",
       "      <td>1</td>\n",
       "      <td>...</td>\n",
       "      <td>-0.00053</td>\n",
       "      <td>349.28</td>\n",
       "      <td>0.220</td>\n",
       "      <td>5.8</td>\n",
       "      <td>7.361790</td>\n",
       "      <td>0.250</td>\n",
       "      <td>767.22</td>\n",
       "      <td>-1.200</td>\n",
       "      <td>0.074</td>\n",
       "      <td>FALSE POSITIVE</td>\n",
       "    </tr>\n",
       "  </tbody>\n",
       "</table>\n",
       "<p>5 rows × 35 columns</p>\n",
       "</div>"
      ],
      "text/plain": [
       "   koi_dikco_msky  koi_dicco_msky  koi_steff_err2  koi_fwm_stat_sig  \\\n",
       "0           0.320           0.200           -81.0             0.002   \n",
       "1           0.500           0.390           -81.0             0.003   \n",
       "2           0.276           0.289          -174.0             0.000   \n",
       "3           0.070           0.100          -211.0             0.733   \n",
       "4           8.948           8.930          -124.0             0.000   \n",
       "\n",
       "   koi_prad_err1  koi_steff_err1  koi_ror_err1  koi_smet_err2  koi_smet_err1  \\\n",
       "0           0.26            81.0      0.000832          -0.15           0.15   \n",
       "1           0.32            81.0      0.009078          -0.15           0.15   \n",
       "2           8.50           157.0      0.109232          -0.30           0.30   \n",
       "3           0.88           169.0      0.003751          -0.30           0.25   \n",
       "4           6.45           111.0      7.128076          -0.15           0.15   \n",
       "\n",
       "   koi_count       ...         koi_srho_err2  koi_insol_err1  \\\n",
       "0          2       ...              -1.09986           29.45   \n",
       "1          2       ...              -2.49638            2.87   \n",
       "2          1       ...              -0.01837          668.95   \n",
       "3          1       ...              -1.74541          874.33   \n",
       "4          1       ...              -0.00053          349.28   \n",
       "\n",
       "   koi_fwm_sdeco_err  koi_depth_err1  koi_period  koi_fwm_srao_err  koi_insol  \\\n",
       "0              0.480            19.5    9.488036             0.510      93.59   \n",
       "1              0.680            35.5   54.418383             0.720       9.11   \n",
       "2              0.027            12.8    1.736952             0.031     891.96   \n",
       "3              0.370            16.9    2.525592             0.350     926.16   \n",
       "4              0.220             5.8    7.361790             0.250     767.22   \n",
       "\n",
       "   koi_dor_err2  koi_dicco_msky_err  koi_disposition  \n",
       "0        -2.600               0.170        CONFIRMED  \n",
       "1       -28.400               0.360        CONFIRMED  \n",
       "2        -0.136               0.079   FALSE POSITIVE  \n",
       "3        -4.000               0.140        CONFIRMED  \n",
       "4        -1.200               0.074   FALSE POSITIVE  \n",
       "\n",
       "[5 rows x 35 columns]"
      ]
     },
     "execution_count": 2,
     "metadata": {},
     "output_type": "execute_result"
    }
   ],
   "source": [
    "planets = pd.read_csv(\"errors_reduced.csv\")\n",
    "planets = planets.drop('Unnamed: 0', axis=1)\n",
    "planets.head()"
   ]
  },
  {
   "cell_type": "markdown",
   "metadata": {},
   "source": [
    "**Create X and y**"
   ]
  },
  {
   "cell_type": "code",
   "execution_count": 3,
   "metadata": {},
   "outputs": [],
   "source": [
    "X = planets.drop('koi_disposition',axis=1)\n",
    "y = planets['koi_disposition']"
   ]
  },
  {
   "cell_type": "markdown",
   "metadata": {},
   "source": [
    "**Scale X**"
   ]
  },
  {
   "cell_type": "code",
   "execution_count": 4,
   "metadata": {},
   "outputs": [],
   "source": [
    "scaler = StandardScaler()\n",
    "scaler.fit(X)\n",
    "X = scaler.transform(X)"
   ]
  },
  {
   "cell_type": "markdown",
   "metadata": {},
   "source": [
    "**Test and Train Split**"
   ]
  },
  {
   "cell_type": "code",
   "execution_count": 7,
   "metadata": {},
   "outputs": [],
   "source": [
    "X_train, X_test, y_train, y_test = train_test_split(X, y, test_size=0.30, random_state=10)"
   ]
  },
  {
   "cell_type": "markdown",
   "metadata": {},
   "source": [
    "**Classifier with only default parameters and using test/train split**"
   ]
  },
  {
   "cell_type": "code",
   "execution_count": 8,
   "metadata": {},
   "outputs": [
    {
     "data": {
      "text/plain": [
       "SVC(C=1.0, cache_size=200, class_weight=None, coef0=0.0,\n",
       "  decision_function_shape='ovr', degree=3, gamma='auto', kernel='rbf',\n",
       "  max_iter=-1, probability=False, random_state=None, shrinking=True,\n",
       "  tol=0.001, verbose=False)"
      ]
     },
     "execution_count": 8,
     "metadata": {},
     "output_type": "execute_result"
    }
   ],
   "source": [
    "svc = SVC()\n",
    "svc.fit(X_train,y_train)"
   ]
  },
  {
   "cell_type": "code",
   "execution_count": 9,
   "metadata": {},
   "outputs": [
    {
     "name": "stdout",
     "output_type": "stream",
     "text": [
      "Training set score: 0.959733\n"
     ]
    }
   ],
   "source": [
    "print(\"Training set score: %f\" % svc.score(X_train,y_train))\n",
    "#print(clf.best_params_)"
   ]
  },
  {
   "cell_type": "code",
   "execution_count": 10,
   "metadata": {},
   "outputs": [
    {
     "name": "stdout",
     "output_type": "stream",
     "text": [
      "Test set score: 0.957902\n"
     ]
    }
   ],
   "source": [
    "print(\"Test set score: %f\" % svc.score(X_test, y_test))"
   ]
  },
  {
   "cell_type": "code",
   "execution_count": 11,
   "metadata": {},
   "outputs": [],
   "source": [
    "predictions = svc.predict(X_test)"
   ]
  },
  {
   "cell_type": "code",
   "execution_count": 12,
   "metadata": {},
   "outputs": [
    {
     "name": "stdout",
     "output_type": "stream",
     "text": [
      "                precision    recall  f1-score   support\n",
      "\n",
      "     CONFIRMED       0.94      0.96      0.95       631\n",
      "FALSE POSITIVE       0.97      0.96      0.96       913\n",
      "\n",
      "   avg / total       0.96      0.96      0.96      1544\n",
      "\n"
     ]
    }
   ],
   "source": [
    "print(classification_report(y_test,predictions))"
   ]
  },
  {
   "cell_type": "code",
   "execution_count": 13,
   "metadata": {},
   "outputs": [
    {
     "name": "stdout",
     "output_type": "stream",
     "text": [
      "[[604  27]\n",
      " [ 38 875]]\n"
     ]
    }
   ],
   "source": [
    "print(confusion_matrix(y_test,predictions))"
   ]
  },
  {
   "cell_type": "code",
   "execution_count": 14,
   "metadata": {},
   "outputs": [
    {
     "name": "stdout",
     "output_type": "stream",
     "text": [
      "0.957901554404145\n"
     ]
    }
   ],
   "source": [
    "print(accuracy_score(y_test,predictions))"
   ]
  },
  {
   "cell_type": "markdown",
   "metadata": {},
   "source": [
    "**SVC with Stratified Shuffle Split - default parameters**"
   ]
  },
  {
   "cell_type": "code",
   "execution_count": 21,
   "metadata": {},
   "outputs": [
    {
     "name": "stdout",
     "output_type": "stream",
     "text": [
      "Fitting 100 folds for each of 1 candidates, totalling 100 fits\n"
     ]
    },
    {
     "name": "stderr",
     "output_type": "stream",
     "text": [
      "[Parallel(n_jobs=-1)]: Done  16 tasks      | elapsed:    9.3s\n",
      "[Parallel(n_jobs=-1)]: Done 100 out of 100 | elapsed:   14.2s finished\n"
     ]
    },
    {
     "data": {
      "text/plain": [
       "GridSearchCV(cv=StratifiedShuffleSplit(n_splits=100, random_state=3, test_size=0.3,\n",
       "            train_size=None),\n",
       "       error_score='raise',\n",
       "       estimator=SVC(C=1.0, cache_size=200, class_weight=None, coef0=0.0,\n",
       "  decision_function_shape='ovr', degree=3, gamma='auto', kernel='rbf',\n",
       "  max_iter=-1, probability=False, random_state=None, shrinking=True,\n",
       "  tol=0.001, verbose=False),\n",
       "       fit_params=None, iid=True, n_jobs=-1, param_grid={},\n",
       "       pre_dispatch='2*n_jobs', refit=True, return_train_score='warn',\n",
       "       scoring=None, verbose=3)"
      ]
     },
     "execution_count": 21,
     "metadata": {},
     "output_type": "execute_result"
    }
   ],
   "source": [
    "parameters = {}\n",
    "svc = SVC()\n",
    "ss = StratifiedShuffleSplit(n_splits=100, test_size=0.3, random_state=3)\n",
    "grid_svc = GridSearchCV(svc, parameters, cv=ss, n_jobs=-1, verbose=3)\n",
    "grid_svc.fit(X,y)"
   ]
  },
  {
   "cell_type": "code",
   "execution_count": 22,
   "metadata": {},
   "outputs": [
    {
     "data": {
      "text/plain": [
       "'Score: 0.962877'"
      ]
     },
     "execution_count": 22,
     "metadata": {},
     "output_type": "execute_result"
    }
   ],
   "source": [
    "(\"Score: %f\" % grid_svc.score(X,y))"
   ]
  },
  {
   "cell_type": "code",
   "execution_count": 23,
   "metadata": {},
   "outputs": [],
   "source": [
    "predictions2 = grid_svc.predict(X)"
   ]
  },
  {
   "cell_type": "code",
   "execution_count": 24,
   "metadata": {},
   "outputs": [
    {
     "name": "stdout",
     "output_type": "stream",
     "text": [
      "                precision    recall  f1-score   support\n",
      "\n",
      "     CONFIRMED       0.95      0.96      0.95      2089\n",
      "FALSE POSITIVE       0.97      0.96      0.97      3056\n",
      "\n",
      "   avg / total       0.96      0.96      0.96      5145\n",
      "\n"
     ]
    }
   ],
   "source": [
    "print(classification_report(y,predictions2))"
   ]
  },
  {
   "cell_type": "code",
   "execution_count": 25,
   "metadata": {},
   "outputs": [
    {
     "name": "stdout",
     "output_type": "stream",
     "text": [
      "[[2013   76]\n",
      " [ 115 2941]]\n"
     ]
    }
   ],
   "source": [
    "print(confusion_matrix(y,predictions2))"
   ]
  },
  {
   "cell_type": "code",
   "execution_count": 26,
   "metadata": {
    "scrolled": true
   },
   "outputs": [
    {
     "name": "stdout",
     "output_type": "stream",
     "text": [
      "Fitting 100 folds for each of 1 candidates, totalling 100 fits\n"
     ]
    },
    {
     "name": "stderr",
     "output_type": "stream",
     "text": [
      "[Parallel(n_jobs=-1)]: Done  16 tasks      | elapsed:    8.3s\n",
      "[Parallel(n_jobs=-1)]: Done 100 out of 100 | elapsed:   10.4s finished\n"
     ]
    },
    {
     "name": "stdout",
     "output_type": "stream",
     "text": [
      "Fitting 100 folds for each of 1 candidates, totalling 100 fits\n"
     ]
    },
    {
     "name": "stderr",
     "output_type": "stream",
     "text": [
      "[Parallel(n_jobs=-1)]: Done  16 tasks      | elapsed:    8.4s\n",
      "[Parallel(n_jobs=-1)]: Done 100 out of 100 | elapsed:   11.1s finished\n"
     ]
    },
    {
     "name": "stdout",
     "output_type": "stream",
     "text": [
      "Fitting 100 folds for each of 1 candidates, totalling 100 fits\n"
     ]
    },
    {
     "name": "stderr",
     "output_type": "stream",
     "text": [
      "[Parallel(n_jobs=-1)]: Done  16 tasks      | elapsed:    8.1s\n",
      "[Parallel(n_jobs=-1)]: Done 100 out of 100 | elapsed:   10.5s finished\n"
     ]
    },
    {
     "name": "stdout",
     "output_type": "stream",
     "text": [
      "[0.92599068 0.97026239 0.94982497]\n"
     ]
    }
   ],
   "source": [
    "from sklearn.model_selection import cross_val_score\n",
    "cvs = cross_val_score(grid_svc, X, y, cv=3, scoring=\"accuracy\")\n",
    "print(cvs)"
   ]
  },
  {
   "cell_type": "code",
   "execution_count": 27,
   "metadata": {},
   "outputs": [
    {
     "name": "stdout",
     "output_type": "stream",
     "text": [
      "Validation Accuracy: 95.5128 (+/- 0.91)\n",
      "Train Accuracy: 96.12 (+/- 0.39)\n"
     ]
    }
   ],
   "source": [
    "from sklearn.model_selection import cross_validate\n",
    "svc_clf = SVC()\n",
    "ss = StratifiedShuffleSplit(n_splits=1000, test_size=0.3, random_state=3)\n",
    "scores = cross_validate(svc_clf, X, y, cv=ss, return_train_score=True, scoring='accuracy', n_jobs=-1)\n",
    "\n",
    "print(\"Validation Accuracy: %0.4f (+/- %0.2f)\" % (scores['test_score'].mean()*100, scores['test_score'].std()*2*100))\n",
    "print(\"Train Accuracy: %0.2f (+/- %0.2f)\" % (scores['train_score'].mean()*100, scores['train_score'].std()*2*100))"
   ]
  },
  {
   "cell_type": "markdown",
   "metadata": {},
   "source": [
    "**SVC with Stratified Split - 1st Set of parameters**"
   ]
  },
  {
   "cell_type": "code",
   "execution_count": 68,
   "metadata": {
    "scrolled": true
   },
   "outputs": [
    {
     "name": "stdout",
     "output_type": "stream",
     "text": [
      "Fitting 100 folds for each of 384 candidates, totalling 38400 fits\n"
     ]
    },
    {
     "name": "stderr",
     "output_type": "stream",
     "text": [
      "[Parallel(n_jobs=-1)]: Done  16 tasks      | elapsed:    8.2s\n",
      "[Parallel(n_jobs=-1)]: Done 112 tasks      | elapsed:   17.8s\n",
      "[Parallel(n_jobs=-1)]: Done 272 tasks      | elapsed:   34.5s\n",
      "[Parallel(n_jobs=-1)]: Done 496 tasks      | elapsed:  1.1min\n",
      "[Parallel(n_jobs=-1)]: Done 784 tasks      | elapsed:  1.3min\n",
      "[Parallel(n_jobs=-1)]: Done 1136 tasks      | elapsed:  1.5min\n",
      "[Parallel(n_jobs=-1)]: Done 1552 tasks      | elapsed:  3.7min\n",
      "[Parallel(n_jobs=-1)]: Done 2032 tasks      | elapsed:  5.5min\n",
      "[Parallel(n_jobs=-1)]: Done 2576 tasks      | elapsed:  6.7min\n",
      "[Parallel(n_jobs=-1)]: Done 3184 tasks      | elapsed:  8.2min\n",
      "[Parallel(n_jobs=-1)]: Done 3856 tasks      | elapsed:  9.5min\n",
      "[Parallel(n_jobs=-1)]: Done 4592 tasks      | elapsed: 10.9min\n",
      "[Parallel(n_jobs=-1)]: Done 5392 tasks      | elapsed: 12.3min\n",
      "[Parallel(n_jobs=-1)]: Done 6256 tasks      | elapsed: 14.2min\n",
      "[Parallel(n_jobs=-1)]: Done 7184 tasks      | elapsed: 17.2min\n",
      "[Parallel(n_jobs=-1)]: Done 8176 tasks      | elapsed: 19.4min\n",
      "[Parallel(n_jobs=-1)]: Done 9232 tasks      | elapsed: 21.6min\n",
      "[Parallel(n_jobs=-1)]: Done 10352 tasks      | elapsed: 23.3min\n",
      "[Parallel(n_jobs=-1)]: Done 11536 tasks      | elapsed: 27.1min\n",
      "[Parallel(n_jobs=-1)]: Done 12784 tasks      | elapsed: 29.6min\n",
      "[Parallel(n_jobs=-1)]: Done 14096 tasks      | elapsed: 31.8min\n",
      "[Parallel(n_jobs=-1)]: Done 15472 tasks      | elapsed: 33.6min\n",
      "[Parallel(n_jobs=-1)]: Done 16912 tasks      | elapsed: 38.1min\n",
      "[Parallel(n_jobs=-1)]: Done 18416 tasks      | elapsed: 41.1min\n",
      "[Parallel(n_jobs=-1)]: Done 19984 tasks      | elapsed: 45.1min\n",
      "[Parallel(n_jobs=-1)]: Done 21616 tasks      | elapsed: 49.0min\n",
      "[Parallel(n_jobs=-1)]: Done 23312 tasks      | elapsed: 51.9min\n",
      "[Parallel(n_jobs=-1)]: Done 25072 tasks      | elapsed: 56.1min\n",
      "[Parallel(n_jobs=-1)]: Done 26896 tasks      | elapsed: 60.7min\n",
      "[Parallel(n_jobs=-1)]: Done 28784 tasks      | elapsed: 63.0min\n",
      "[Parallel(n_jobs=-1)]: Done 30736 tasks      | elapsed: 71.8min\n",
      "[Parallel(n_jobs=-1)]: Done 32752 tasks      | elapsed: 74.9min\n",
      "[Parallel(n_jobs=-1)]: Done 34832 tasks      | elapsed: 82.2min\n",
      "[Parallel(n_jobs=-1)]: Done 36976 tasks      | elapsed: 86.7min\n",
      "[Parallel(n_jobs=-1)]: Done 38400 out of 38400 | elapsed: 88.5min finished\n"
     ]
    },
    {
     "data": {
      "text/plain": [
       "GridSearchCV(cv=StratifiedShuffleSplit(n_splits=100, random_state=3, test_size=0.3,\n",
       "            train_size=None),\n",
       "       error_score='raise',\n",
       "       estimator=SVC(C=1.0, cache_size=200, class_weight=None, coef0=0.0,\n",
       "  decision_function_shape='ovr', degree=3, gamma='auto', kernel='rbf',\n",
       "  max_iter=-1, probability=False, random_state=None, shrinking=True,\n",
       "  tol=0.001, verbose=False),\n",
       "       fit_params=None, iid=True, n_jobs=-1,\n",
       "       param_grid={'C': [0.5, 1, 5, 10], 'kernel': ['linear', 'poly', 'rbf', 'sigmoid'], 'tol': [0.001, 0.01, 0.1], 'shrinking': [True, False], 'probability': [True, False], 'decision_function_shape': ['ovo', 'ovr']},\n",
       "       pre_dispatch='2*n_jobs', refit=True, return_train_score='warn',\n",
       "       scoring=None, verbose=3)"
      ]
     },
     "execution_count": 68,
     "metadata": {},
     "output_type": "execute_result"
    }
   ],
   "source": [
    "parameters = {'C':[0.5,1,5,10],'kernel':['linear','poly','rbf','sigmoid'],\n",
    "           'tol':[0.001,0.01,0.1],\n",
    "           'shrinking':[True,False], 'probability':[True,False],\n",
    "           'decision_function_shape':['ovo','ovr']}\n",
    "svc = SVC()\n",
    "ss = StratifiedShuffleSplit(n_splits=100, test_size=0.3, random_state=3)\n",
    "grid_svc = GridSearchCV(svc, parameters, cv=ss, n_jobs=-1, verbose=3)\n",
    "grid_svc.fit(X,y)"
   ]
  },
  {
   "cell_type": "code",
   "execution_count": 69,
   "metadata": {},
   "outputs": [
    {
     "name": "stdout",
     "output_type": "stream",
     "text": [
      "0.9656890933486678\n",
      "{'C': 10, 'decision_function_shape': 'ovo', 'kernel': 'rbf', 'probability': True, 'shrinking': False, 'tol': 0.001}\n"
     ]
    }
   ],
   "source": [
    "print(grid_svc.score(X, y))\n",
    "print(grid_svc.best_params_)"
   ]
  },
  {
   "cell_type": "code",
   "execution_count": 70,
   "metadata": {},
   "outputs": [],
   "source": [
    "predictions3 = grid_svc.predict(X)"
   ]
  },
  {
   "cell_type": "code",
   "execution_count": 71,
   "metadata": {},
   "outputs": [
    {
     "name": "stdout",
     "output_type": "stream",
     "text": [
      "                precision    recall  f1-score   support\n",
      "\n",
      "     CONFIRMED       0.94      0.98      0.96      2102\n",
      "FALSE POSITIVE       0.98      0.96      0.97      3115\n",
      "\n",
      "   avg / total       0.97      0.97      0.97      5217\n",
      "\n"
     ]
    }
   ],
   "source": [
    "print(classification_report(y,predictions3))"
   ]
  },
  {
   "cell_type": "code",
   "execution_count": 72,
   "metadata": {},
   "outputs": [
    {
     "name": "stdout",
     "output_type": "stream",
     "text": [
      "[[2052   50]\n",
      " [ 129 2986]]\n"
     ]
    }
   ],
   "source": [
    "print(confusion_matrix(y,predictions3))"
   ]
  },
  {
   "cell_type": "code",
   "execution_count": 73,
   "metadata": {},
   "outputs": [
    {
     "name": "stdout",
     "output_type": "stream",
     "text": [
      "Validation Accuracy: 95.5488 (+/- 0.90)\n",
      "Train Accuracy: 96.44 (+/- 0.36)\n"
     ]
    }
   ],
   "source": [
    "from sklearn.model_selection import cross_validate\n",
    "svc_clf = SVC(C=10, decision_function_shape='ovo', kernel='rbf', probability=True, shrinking=False, tol=0.001)\n",
    "ss = StratifiedShuffleSplit(n_splits=1000, test_size=0.3, random_state=3)\n",
    "scores = cross_validate(svc_clf, X, y, cv=ss, return_train_score=True, scoring='accuracy', n_jobs=-1)\n",
    "\n",
    "print(\"Validation Accuracy: %0.4f (+/- %0.2f)\" % (scores['test_score'].mean()*100, scores['test_score'].std()*2*100))\n",
    "print(\"Train Accuracy: %0.2f (+/- %0.2f)\" % (scores['train_score'].mean()*100, scores['train_score'].std()*2*100))"
   ]
  },
  {
   "cell_type": "markdown",
   "metadata": {},
   "source": [
    "**SVC with Stratified Split - 2nd Set of Parameters**"
   ]
  },
  {
   "cell_type": "code",
   "execution_count": 74,
   "metadata": {},
   "outputs": [
    {
     "name": "stdout",
     "output_type": "stream",
     "text": [
      "Fitting 100 folds for each of 9 candidates, totalling 900 fits\n"
     ]
    },
    {
     "name": "stderr",
     "output_type": "stream",
     "text": [
      "[Parallel(n_jobs=-1)]: Done  16 tasks      | elapsed:   10.0s\n",
      "[Parallel(n_jobs=-1)]: Done 112 tasks      | elapsed:   28.4s\n",
      "[Parallel(n_jobs=-1)]: Done 272 tasks      | elapsed:   55.9s\n",
      "[Parallel(n_jobs=-1)]: Done 496 tasks      | elapsed:  1.9min\n",
      "[Parallel(n_jobs=-1)]: Done 784 tasks      | elapsed:  3.4min\n",
      "[Parallel(n_jobs=-1)]: Done 900 out of 900 | elapsed:  3.9min finished\n"
     ]
    },
    {
     "data": {
      "text/plain": [
       "GridSearchCV(cv=StratifiedShuffleSplit(n_splits=100, random_state=3, test_size=0.3,\n",
       "            train_size=None),\n",
       "       error_score='raise',\n",
       "       estimator=SVC(C=1.0, cache_size=200, class_weight=None, coef0=0.0,\n",
       "  decision_function_shape='ovr', degree=3, gamma='auto', kernel='rbf',\n",
       "  max_iter=-1, probability=False, random_state=None, shrinking=True,\n",
       "  tol=0.001, verbose=False),\n",
       "       fit_params=None, iid=True, n_jobs=-1,\n",
       "       param_grid={'C': [10, 30, 50], 'kernel': ['rbf'], 'tol': [1e-05, 0.0001, 0.001], 'shrinking': [False], 'probability': [True], 'decision_function_shape': ['ovo']},\n",
       "       pre_dispatch='2*n_jobs', refit=True, return_train_score='warn',\n",
       "       scoring=None, verbose=3)"
      ]
     },
     "execution_count": 74,
     "metadata": {},
     "output_type": "execute_result"
    }
   ],
   "source": [
    "parameters = {'C':[10,30,50],'kernel':['rbf'],\n",
    "           'tol':[0.00001,0.0001,0.001],\n",
    "           'shrinking':[False], 'probability':[True],\n",
    "           'decision_function_shape':['ovo']}\n",
    "svc = SVC()\n",
    "ss = StratifiedShuffleSplit(n_splits=100, test_size=0.3, random_state=3)\n",
    "grid_svc = GridSearchCV(svc, parameters, cv=ss, n_jobs=-1, verbose=3)\n",
    "grid_svc.fit(X,y)"
   ]
  },
  {
   "cell_type": "code",
   "execution_count": 75,
   "metadata": {},
   "outputs": [
    {
     "name": "stdout",
     "output_type": "stream",
     "text": [
      "0.9691393521180756\n",
      "{'C': 30, 'decision_function_shape': 'ovo', 'kernel': 'rbf', 'probability': True, 'shrinking': False, 'tol': 0.001}\n"
     ]
    }
   ],
   "source": [
    "print(grid_svc.score(X, y))\n",
    "print(grid_svc.best_params_)"
   ]
  },
  {
   "cell_type": "code",
   "execution_count": 76,
   "metadata": {},
   "outputs": [],
   "source": [
    "predictions4 = grid_svc.predict(X)"
   ]
  },
  {
   "cell_type": "code",
   "execution_count": 77,
   "metadata": {},
   "outputs": [
    {
     "name": "stdout",
     "output_type": "stream",
     "text": [
      "                precision    recall  f1-score   support\n",
      "\n",
      "     CONFIRMED       0.95      0.98      0.96      2102\n",
      "FALSE POSITIVE       0.99      0.96      0.97      3115\n",
      "\n",
      "   avg / total       0.97      0.97      0.97      5217\n",
      "\n"
     ]
    }
   ],
   "source": [
    "print(classification_report(y,predictions4))"
   ]
  },
  {
   "cell_type": "code",
   "execution_count": 78,
   "metadata": {},
   "outputs": [
    {
     "name": "stdout",
     "output_type": "stream",
     "text": [
      "[[2057   45]\n",
      " [ 116 2999]]\n"
     ]
    }
   ],
   "source": [
    "print(confusion_matrix(y,predictions4))"
   ]
  },
  {
   "cell_type": "code",
   "execution_count": 81,
   "metadata": {},
   "outputs": [
    {
     "name": "stdout",
     "output_type": "stream",
     "text": [
      "Validation Accuracy: 95.8587 (+/- 0.84)\n",
      "Train Accuracy: 97.07 (+/- 0.32)\n"
     ]
    }
   ],
   "source": [
    "from sklearn.model_selection import cross_validate\n",
    "svc_clf = SVC(C=30, decision_function_shape='ovo', kernel='rbf', probability=True, shrinking=False, tol=0.001)\n",
    "ss = StratifiedShuffleSplit(n_splits=1000, test_size=0.3, random_state=3)\n",
    "scores = cross_validate(svc_clf, X, y, cv=ss, return_train_score=True, scoring='accuracy', n_jobs=-1)\n",
    "\n",
    "print(\"Validation Accuracy: %0.4f (+/- %0.2f)\" % (scores['test_score'].mean()*100, scores['test_score'].std()*2*100))\n",
    "print(\"Train Accuracy: %0.2f (+/- %0.2f)\" % (scores['train_score'].mean()*100, scores['train_score'].std()*2*100))"
   ]
  },
  {
   "cell_type": "markdown",
   "metadata": {},
   "source": [
    "**SVC with Stratified Split - 3rd set of parameters**"
   ]
  },
  {
   "cell_type": "code",
   "execution_count": 5,
   "metadata": {},
   "outputs": [
    {
     "name": "stdout",
     "output_type": "stream",
     "text": [
      "Fitting 100 folds for each of 3 candidates, totalling 300 fits\n"
     ]
    },
    {
     "name": "stderr",
     "output_type": "stream",
     "text": [
      "[Parallel(n_jobs=-1)]: Done  16 tasks      | elapsed:   11.4s\n",
      "[Parallel(n_jobs=-1)]: Done 112 tasks      | elapsed:   27.9s\n",
      "[Parallel(n_jobs=-1)]: Done 272 tasks      | elapsed:   57.0s\n",
      "[Parallel(n_jobs=-1)]: Done 300 out of 300 | elapsed:  1.0min finished\n"
     ]
    },
    {
     "data": {
      "text/plain": [
       "GridSearchCV(cv=StratifiedShuffleSplit(n_splits=100, random_state=3, test_size=0.3,\n",
       "            train_size=None),\n",
       "       error_score='raise',\n",
       "       estimator=SVC(C=1.0, cache_size=200, class_weight=None, coef0=0.0,\n",
       "  decision_function_shape='ovr', degree=3, gamma='auto', kernel='rbf',\n",
       "  max_iter=-1, probability=False, random_state=None, shrinking=True,\n",
       "  tol=0.001, verbose=False),\n",
       "       fit_params=None, iid=True, n_jobs=-1,\n",
       "       param_grid={'C': [20, 30, 40], 'kernel': ['rbf'], 'tol': [0.001], 'shrinking': [False], 'probability': [True], 'decision_function_shape': ['ovo']},\n",
       "       pre_dispatch='2*n_jobs', refit=True, return_train_score='warn',\n",
       "       scoring=None, verbose=3)"
      ]
     },
     "execution_count": 5,
     "metadata": {},
     "output_type": "execute_result"
    }
   ],
   "source": [
    "parameters = {'C':[20,30,40],'kernel':['rbf'],\n",
    "           'tol':[0.001],\n",
    "           'shrinking':[False], 'probability':[True],\n",
    "           'decision_function_shape':['ovo']}\n",
    "svc = SVC()\n",
    "ss = StratifiedShuffleSplit(n_splits=100, test_size=0.3, random_state=3)\n",
    "grid_svc = GridSearchCV(svc, parameters, cv=ss, n_jobs=-1, verbose=3)\n",
    "grid_svc.fit(X,y)"
   ]
  },
  {
   "cell_type": "code",
   "execution_count": 6,
   "metadata": {},
   "outputs": [
    {
     "name": "stdout",
     "output_type": "stream",
     "text": [
      "0.984645286686103\n",
      "{'C': 40, 'decision_function_shape': 'ovo', 'kernel': 'rbf', 'probability': True, 'shrinking': False, 'tol': 0.001}\n"
     ]
    }
   ],
   "source": [
    "print(grid_svc.score(X, y))\n",
    "print(grid_svc.best_params_)"
   ]
  },
  {
   "cell_type": "code",
   "execution_count": 7,
   "metadata": {},
   "outputs": [],
   "source": [
    "predictions5 = grid_svc.predict(X)"
   ]
  },
  {
   "cell_type": "code",
   "execution_count": 8,
   "metadata": {},
   "outputs": [
    {
     "name": "stdout",
     "output_type": "stream",
     "text": [
      "                precision    recall  f1-score   support\n",
      "\n",
      "     CONFIRMED       0.98      0.99      0.98      2089\n",
      "FALSE POSITIVE       0.99      0.98      0.99      3056\n",
      "\n",
      "   avg / total       0.98      0.98      0.98      5145\n",
      "\n"
     ]
    }
   ],
   "source": [
    "print(classification_report(y,predictions5))"
   ]
  },
  {
   "cell_type": "code",
   "execution_count": 9,
   "metadata": {},
   "outputs": [
    {
     "name": "stdout",
     "output_type": "stream",
     "text": [
      "[[2060   29]\n",
      " [  50 3006]]\n"
     ]
    }
   ],
   "source": [
    "print(confusion_matrix(y,predictions5))"
   ]
  },
  {
   "cell_type": "code",
   "execution_count": 11,
   "metadata": {},
   "outputs": [
    {
     "name": "stdout",
     "output_type": "stream",
     "text": [
      "Validation Accuracy: 96.5762 (+/- 0.79)\n",
      "Train Accuracy: 98.55 (+/- 0.25)\n"
     ]
    }
   ],
   "source": [
    "from sklearn.model_selection import cross_validate\n",
    "svc_clf = SVC(C=40, decision_function_shape='ovo', kernel='rbf', probability=True, shrinking=False, tol=0.001)\n",
    "ss = StratifiedShuffleSplit(n_splits=1000, test_size=0.3, random_state=3)\n",
    "scores = cross_validate(svc_clf, X, y, cv=ss, return_train_score=True, scoring='accuracy', n_jobs=-1)\n",
    "\n",
    "print(\"Validation Accuracy: %0.4f (+/- %0.2f)\" % (scores['test_score'].mean()*100, scores['test_score'].std()*2*100))\n",
    "print(\"Train Accuracy: %0.2f (+/- %0.2f)\" % (scores['train_score'].mean()*100, scores['train_score'].std()*2*100))"
   ]
  },
  {
   "cell_type": "markdown",
   "metadata": {},
   "source": [
    "**Running the errors dataset with the best parameters from the no errors dataset**"
   ]
  },
  {
   "cell_type": "code",
   "execution_count": 32,
   "metadata": {
    "scrolled": true
   },
   "outputs": [
    {
     "name": "stdout",
     "output_type": "stream",
     "text": [
      "Validation Accuracy: 96.5419 (+/- 0.84)\n",
      "Train Accuracy: 98.39 (+/- 0.27)\n"
     ]
    }
   ],
   "source": [
    "from sklearn.model_selection import cross_validate\n",
    "svc_clf = SVC(C=30, decision_function_shape='ovo', kernel='rbf',probability=True, shrinking=False, tol=0.001)\n",
    "ss = StratifiedShuffleSplit(n_splits=1000, test_size=0.3, random_state=3)\n",
    "scores = cross_validate(svc_clf, X, y, cv=ss, return_train_score=True, scoring='accuracy', n_jobs=-1)\n",
    "\n",
    "print(\"Validation Accuracy: %0.4f (+/- %0.2f)\" % (scores['test_score'].mean()*100, scores['test_score'].std()*2*100))\n",
    "print(\"Train Accuracy: %0.2f (+/- %0.2f)\" % (scores['train_score'].mean()*100, scores['train_score'].std()*2*100))"
   ]
  },
  {
   "cell_type": "markdown",
   "metadata": {},
   "source": [
    "**Discussion - comparing the scores of using optimal parameters from the no errors dataset versus the errors dataset**"
   ]
  },
  {
   "cell_type": "markdown",
   "metadata": {},
   "source": [
    "The scores were very similar despite the different C value."
   ]
  },
  {
   "cell_type": "markdown",
   "metadata": {},
   "source": [
    "**Changing scoring type from 'accuracy' to 'roc_auc'**"
   ]
  },
  {
   "cell_type": "code",
   "execution_count": 28,
   "metadata": {},
   "outputs": [
    {
     "data": {
      "text/html": [
       "<div>\n",
       "<style scoped>\n",
       "    .dataframe tbody tr th:only-of-type {\n",
       "        vertical-align: middle;\n",
       "    }\n",
       "\n",
       "    .dataframe tbody tr th {\n",
       "        vertical-align: top;\n",
       "    }\n",
       "\n",
       "    .dataframe thead th {\n",
       "        text-align: right;\n",
       "    }\n",
       "</style>\n",
       "<table border=\"1\" class=\"dataframe\">\n",
       "  <thead>\n",
       "    <tr style=\"text-align: right;\">\n",
       "      <th></th>\n",
       "      <th>koi_dikco_msky</th>\n",
       "      <th>koi_dicco_msky</th>\n",
       "      <th>koi_steff_err2</th>\n",
       "      <th>koi_fwm_stat_sig</th>\n",
       "      <th>koi_prad_err1</th>\n",
       "      <th>koi_steff_err1</th>\n",
       "      <th>koi_ror_err1</th>\n",
       "      <th>koi_smet_err2</th>\n",
       "      <th>koi_smet_err1</th>\n",
       "      <th>koi_count</th>\n",
       "      <th>...</th>\n",
       "      <th>koi_srho_err2</th>\n",
       "      <th>koi_insol_err1</th>\n",
       "      <th>koi_fwm_sdeco_err</th>\n",
       "      <th>koi_depth_err1</th>\n",
       "      <th>koi_period</th>\n",
       "      <th>koi_fwm_srao_err</th>\n",
       "      <th>koi_insol</th>\n",
       "      <th>koi_dor_err2</th>\n",
       "      <th>koi_dicco_msky_err</th>\n",
       "      <th>koi_disposition</th>\n",
       "    </tr>\n",
       "  </thead>\n",
       "  <tbody>\n",
       "    <tr>\n",
       "      <th>0</th>\n",
       "      <td>0.320</td>\n",
       "      <td>0.200</td>\n",
       "      <td>-81.0</td>\n",
       "      <td>0.002</td>\n",
       "      <td>0.26</td>\n",
       "      <td>81.0</td>\n",
       "      <td>0.000832</td>\n",
       "      <td>-0.15</td>\n",
       "      <td>0.15</td>\n",
       "      <td>2</td>\n",
       "      <td>...</td>\n",
       "      <td>-1.09986</td>\n",
       "      <td>29.45</td>\n",
       "      <td>0.480</td>\n",
       "      <td>19.5</td>\n",
       "      <td>9.488036</td>\n",
       "      <td>0.510</td>\n",
       "      <td>93.59</td>\n",
       "      <td>-2.600</td>\n",
       "      <td>0.170</td>\n",
       "      <td>1</td>\n",
       "    </tr>\n",
       "    <tr>\n",
       "      <th>1</th>\n",
       "      <td>0.500</td>\n",
       "      <td>0.390</td>\n",
       "      <td>-81.0</td>\n",
       "      <td>0.003</td>\n",
       "      <td>0.32</td>\n",
       "      <td>81.0</td>\n",
       "      <td>0.009078</td>\n",
       "      <td>-0.15</td>\n",
       "      <td>0.15</td>\n",
       "      <td>2</td>\n",
       "      <td>...</td>\n",
       "      <td>-2.49638</td>\n",
       "      <td>2.87</td>\n",
       "      <td>0.680</td>\n",
       "      <td>35.5</td>\n",
       "      <td>54.418383</td>\n",
       "      <td>0.720</td>\n",
       "      <td>9.11</td>\n",
       "      <td>-28.400</td>\n",
       "      <td>0.360</td>\n",
       "      <td>1</td>\n",
       "    </tr>\n",
       "    <tr>\n",
       "      <th>2</th>\n",
       "      <td>0.276</td>\n",
       "      <td>0.289</td>\n",
       "      <td>-174.0</td>\n",
       "      <td>0.000</td>\n",
       "      <td>8.50</td>\n",
       "      <td>157.0</td>\n",
       "      <td>0.109232</td>\n",
       "      <td>-0.30</td>\n",
       "      <td>0.30</td>\n",
       "      <td>1</td>\n",
       "      <td>...</td>\n",
       "      <td>-0.01837</td>\n",
       "      <td>668.95</td>\n",
       "      <td>0.027</td>\n",
       "      <td>12.8</td>\n",
       "      <td>1.736952</td>\n",
       "      <td>0.031</td>\n",
       "      <td>891.96</td>\n",
       "      <td>-0.136</td>\n",
       "      <td>0.079</td>\n",
       "      <td>0</td>\n",
       "    </tr>\n",
       "    <tr>\n",
       "      <th>3</th>\n",
       "      <td>0.070</td>\n",
       "      <td>0.100</td>\n",
       "      <td>-211.0</td>\n",
       "      <td>0.733</td>\n",
       "      <td>0.88</td>\n",
       "      <td>169.0</td>\n",
       "      <td>0.003751</td>\n",
       "      <td>-0.30</td>\n",
       "      <td>0.25</td>\n",
       "      <td>1</td>\n",
       "      <td>...</td>\n",
       "      <td>-1.74541</td>\n",
       "      <td>874.33</td>\n",
       "      <td>0.370</td>\n",
       "      <td>16.9</td>\n",
       "      <td>2.525592</td>\n",
       "      <td>0.350</td>\n",
       "      <td>926.16</td>\n",
       "      <td>-4.000</td>\n",
       "      <td>0.140</td>\n",
       "      <td>1</td>\n",
       "    </tr>\n",
       "    <tr>\n",
       "      <th>4</th>\n",
       "      <td>8.948</td>\n",
       "      <td>8.930</td>\n",
       "      <td>-124.0</td>\n",
       "      <td>0.000</td>\n",
       "      <td>6.45</td>\n",
       "      <td>111.0</td>\n",
       "      <td>7.128076</td>\n",
       "      <td>-0.15</td>\n",
       "      <td>0.15</td>\n",
       "      <td>1</td>\n",
       "      <td>...</td>\n",
       "      <td>-0.00053</td>\n",
       "      <td>349.28</td>\n",
       "      <td>0.220</td>\n",
       "      <td>5.8</td>\n",
       "      <td>7.361790</td>\n",
       "      <td>0.250</td>\n",
       "      <td>767.22</td>\n",
       "      <td>-1.200</td>\n",
       "      <td>0.074</td>\n",
       "      <td>0</td>\n",
       "    </tr>\n",
       "  </tbody>\n",
       "</table>\n",
       "<p>5 rows × 35 columns</p>\n",
       "</div>"
      ],
      "text/plain": [
       "   koi_dikco_msky  koi_dicco_msky  koi_steff_err2  koi_fwm_stat_sig  \\\n",
       "0           0.320           0.200           -81.0             0.002   \n",
       "1           0.500           0.390           -81.0             0.003   \n",
       "2           0.276           0.289          -174.0             0.000   \n",
       "3           0.070           0.100          -211.0             0.733   \n",
       "4           8.948           8.930          -124.0             0.000   \n",
       "\n",
       "   koi_prad_err1  koi_steff_err1  koi_ror_err1  koi_smet_err2  koi_smet_err1  \\\n",
       "0           0.26            81.0      0.000832          -0.15           0.15   \n",
       "1           0.32            81.0      0.009078          -0.15           0.15   \n",
       "2           8.50           157.0      0.109232          -0.30           0.30   \n",
       "3           0.88           169.0      0.003751          -0.30           0.25   \n",
       "4           6.45           111.0      7.128076          -0.15           0.15   \n",
       "\n",
       "   koi_count       ...         koi_srho_err2  koi_insol_err1  \\\n",
       "0          2       ...              -1.09986           29.45   \n",
       "1          2       ...              -2.49638            2.87   \n",
       "2          1       ...              -0.01837          668.95   \n",
       "3          1       ...              -1.74541          874.33   \n",
       "4          1       ...              -0.00053          349.28   \n",
       "\n",
       "   koi_fwm_sdeco_err  koi_depth_err1  koi_period  koi_fwm_srao_err  koi_insol  \\\n",
       "0              0.480            19.5    9.488036             0.510      93.59   \n",
       "1              0.680            35.5   54.418383             0.720       9.11   \n",
       "2              0.027            12.8    1.736952             0.031     891.96   \n",
       "3              0.370            16.9    2.525592             0.350     926.16   \n",
       "4              0.220             5.8    7.361790             0.250     767.22   \n",
       "\n",
       "   koi_dor_err2  koi_dicco_msky_err  koi_disposition  \n",
       "0        -2.600               0.170                1  \n",
       "1       -28.400               0.360                1  \n",
       "2        -0.136               0.079                0  \n",
       "3        -4.000               0.140                1  \n",
       "4        -1.200               0.074                0  \n",
       "\n",
       "[5 rows x 35 columns]"
      ]
     },
     "execution_count": 28,
     "metadata": {},
     "output_type": "execute_result"
    }
   ],
   "source": [
    "#the values for disposition were changed to numbers to get the roc_auc to run correctly\n",
    "\n",
    "planets_v2 = planets.replace({'koi_disposition':{'FALSE POSITIVE':0,'CONFIRMED':1}})\n",
    "planets_v2.head()"
   ]
  },
  {
   "cell_type": "code",
   "execution_count": 29,
   "metadata": {},
   "outputs": [],
   "source": [
    "X = planets_v2.drop('koi_disposition',axis=1)\n",
    "y = planets_v2['koi_disposition']"
   ]
  },
  {
   "cell_type": "code",
   "execution_count": 30,
   "metadata": {},
   "outputs": [],
   "source": [
    "scaler = StandardScaler()\n",
    "scaler.fit(X)\n",
    "X = scaler.transform(X)"
   ]
  },
  {
   "cell_type": "code",
   "execution_count": 31,
   "metadata": {},
   "outputs": [
    {
     "name": "stdout",
     "output_type": "stream",
     "text": [
      "Validation Accuracy: 99.2781 (+/- 0.29)\n",
      "Train Accuracy: 99.81 (+/- 0.05)\n"
     ]
    }
   ],
   "source": [
    "from sklearn.model_selection import cross_validate\n",
    "svc_clf = SVC(C=30, decision_function_shape='ovo', kernel='rbf',probability=True, shrinking=False, tol=0.001)\n",
    "ss = StratifiedShuffleSplit(n_splits=1000, test_size=0.3, random_state=3)\n",
    "scores = cross_validate(svc_clf, X, y, cv=ss, return_train_score=True, scoring='roc_auc', n_jobs=-1)\n",
    "\n",
    "print(\"Validation Accuracy: %0.4f (+/- %0.2f)\" % (scores['test_score'].mean()*100, scores['test_score'].std()*2*100))\n",
    "print(\"Train Accuracy: %0.2f (+/- %0.2f)\" % (scores['train_score'].mean()*100, scores['train_score'].std()*2*100))"
   ]
  },
  {
   "cell_type": "markdown",
   "metadata": {},
   "source": [
    "**Discussion for roc_auc versus accuracy**"
   ]
  },
  {
   "cell_type": "markdown",
   "metadata": {},
   "source": [
    "Changing the scoring type from 'accuracy' to 'roc_auc' improved the score.\n",
    "\n",
    "The score increased with each grid search. The tuning of the parameters worked to increase the score."
   ]
  }
 ],
 "metadata": {
  "kernelspec": {
   "display_name": "Python 3",
   "language": "python",
   "name": "python3"
  },
  "language_info": {
   "codemirror_mode": {
    "name": "ipython",
    "version": 3
   },
   "file_extension": ".py",
   "mimetype": "text/x-python",
   "name": "python",
   "nbconvert_exporter": "python",
   "pygments_lexer": "ipython3",
   "version": "3.6.5"
  }
 },
 "nbformat": 4,
 "nbformat_minor": 2
}
